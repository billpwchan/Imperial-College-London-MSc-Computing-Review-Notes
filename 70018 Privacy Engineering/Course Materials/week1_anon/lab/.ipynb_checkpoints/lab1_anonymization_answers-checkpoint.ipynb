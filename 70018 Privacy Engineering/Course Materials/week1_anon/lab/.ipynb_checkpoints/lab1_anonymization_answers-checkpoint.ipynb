{
 "cells": [
  {
   "cell_type": "markdown",
   "metadata": {},
   "source": [
    "# Week 1: Pseudonymization and anonymization"
   ]
  },
  {
   "cell_type": "markdown",
   "metadata": {},
   "source": [
    "# Introduction\n",
    "\n",
    "In this first exercise session, you will try several \"anonymization\" techniques from the lecture on a dataset, and show the limitations of these techniques. In particular, you will first try several approaches to pseudonymize the dataset, and perform attacks on the pseudonymization. Then, you will develop an algorithm to $k-$anonymize the dataset. Finally, you will show that even $k-$anonymization is not perfect, as it allows for other attacks, such as a semantic attack.\n",
    "\n",
    "**Optional exercises**: Some exercises are marked as optional. Please complete the exercise session before coming back to them.\n",
    "\n",
    "You should try and do these exercises on our own (and not wait for any instructions from the tutors). We are of course available should you have any questions.\n",
    "_We are still developing and improving this module. For any question, comment or feedback, please feel free to send an email to [florimond@imperial.ac.uk](mailto:florimond@imperial.ac.uk)._"
   ]
  },
  {
   "cell_type": "markdown",
   "metadata": {},
   "source": [
    "### Description\n",
    "\n",
    "This is a real dataset of patient records from the German Health Care service in 1984, taken from the Journal of Applied Econometrics. The attributes of the dataset are given below.  We have added a fictitious 5-digit identifier representing the last 5 digits of the person's phone number in that region: +49 21 801X XXXX.\n",
    "\n",
    "Source: Riphahn, Wambach, and Million, “Incentive Effects in the Demand for Health Care: A Bivariate Panel Count Data Estimation.”\n",
    "via. http://people.stern.nyu.edu/wgreene/Econometrics/PanelDataSets.htm"
   ]
  },
  {
   "cell_type": "markdown",
   "metadata": {},
   "source": [
    "For reference, the meaning of each attribute is:\n",
    "\n",
    "ID = last 5 digits of the phoner in that region +49 21 801X XXXX  _(The index of the dataset)_<br> \n",
    "FEMALE =  female = 1; male = 0<br>\n",
    "YEAR = calendar year of the observation<br>\n",
    "AGE = age in years<br>\n",
    "HANDDUM = handicapped = 1; otherwise = 0<br>\n",
    "HHNINC =  household nominal monthly net income in German marks / 10000<br>\n",
    "HHKIDS = children under age 16 in the household = 1; otherwise = 0<br>\n",
    "EDUC =  years of schooling<br>\n",
    "MARRIED =  married = 1; otherwise = 0<br>\n",
    "BLUEC = blue collar employee = 1; otherwise = 0<br>\n",
    "WHITEC = white collar employee = 1; otherwise = 0<br>\n",
    "SELF = self employed = 1; otherwise = 0<br>\n",
    "DOCVIS =  number of doctor visits in last three months<br>\n",
    "HOSPVIS =  number of hospital visits in last calendar year<br>"
   ]
  },
  {
   "cell_type": "markdown",
   "metadata": {},
   "source": [
    "### Loading the dataset with Pandas"
   ]
  },
  {
   "cell_type": "code",
   "execution_count": 3,
   "metadata": {},
   "outputs": [],
   "source": [
    "import pandas as pd\n",
    "import numpy as np\n",
    "import matplotlib.pyplot as plt\n",
    "%matplotlib inline\n",
    "\n",
    "# Load the `healthcare_data_1984_private.csv` dataset in pandas making sure you set the id as the index for easy access (using index_col='id')\n",
    "#private_1984 = \n",
    "\n",
    "#SAMPLE ANSWER\n",
    "private_1984 = pd.read_csv(\"healthcare_data_1984_private.csv\", index_col='id')"
   ]
  },
  {
   "cell_type": "markdown",
   "metadata": {},
   "source": [
    "Let's check that the dataset is properly loaded by printing the first few lines"
   ]
  },
  {
   "cell_type": "code",
   "execution_count": 4,
   "metadata": {},
   "outputs": [
    {
     "data": {
      "text/html": [
       "<div>\n",
       "<style scoped>\n",
       "    .dataframe tbody tr th:only-of-type {\n",
       "        vertical-align: middle;\n",
       "    }\n",
       "\n",
       "    .dataframe tbody tr th {\n",
       "        vertical-align: top;\n",
       "    }\n",
       "\n",
       "    .dataframe thead th {\n",
       "        text-align: right;\n",
       "    }\n",
       "</style>\n",
       "<table border=\"1\" class=\"dataframe\">\n",
       "  <thead>\n",
       "    <tr style=\"text-align: right;\">\n",
       "      <th></th>\n",
       "      <th>FEMALE</th>\n",
       "      <th>YEAR</th>\n",
       "      <th>AGE</th>\n",
       "      <th>HANDDUM</th>\n",
       "      <th>WORKING</th>\n",
       "      <th>HHNINC</th>\n",
       "      <th>HHKIDS</th>\n",
       "      <th>EDUC</th>\n",
       "      <th>MARRIED</th>\n",
       "      <th>WORKING.1</th>\n",
       "      <th>BLUEC</th>\n",
       "      <th>WHITEC</th>\n",
       "      <th>SELF</th>\n",
       "      <th>DOCVIS</th>\n",
       "      <th>HOSPVIS</th>\n",
       "    </tr>\n",
       "    <tr>\n",
       "      <th>id</th>\n",
       "      <th></th>\n",
       "      <th></th>\n",
       "      <th></th>\n",
       "      <th></th>\n",
       "      <th></th>\n",
       "      <th></th>\n",
       "      <th></th>\n",
       "      <th></th>\n",
       "      <th></th>\n",
       "      <th></th>\n",
       "      <th></th>\n",
       "      <th></th>\n",
       "      <th></th>\n",
       "      <th></th>\n",
       "      <th></th>\n",
       "    </tr>\n",
       "  </thead>\n",
       "  <tbody>\n",
       "    <tr>\n",
       "      <th>98990</th>\n",
       "      <td>0</td>\n",
       "      <td>1984</td>\n",
       "      <td>54</td>\n",
       "      <td>0.000000</td>\n",
       "      <td>1</td>\n",
       "      <td>0.3050</td>\n",
       "      <td>0</td>\n",
       "      <td>15.0</td>\n",
       "      <td>1</td>\n",
       "      <td>1</td>\n",
       "      <td>0</td>\n",
       "      <td>1</td>\n",
       "      <td>0</td>\n",
       "      <td>1</td>\n",
       "      <td>0</td>\n",
       "    </tr>\n",
       "    <tr>\n",
       "      <th>32946</th>\n",
       "      <td>1</td>\n",
       "      <td>1984</td>\n",
       "      <td>44</td>\n",
       "      <td>0.000000</td>\n",
       "      <td>0</td>\n",
       "      <td>0.3050</td>\n",
       "      <td>0</td>\n",
       "      <td>9.0</td>\n",
       "      <td>1</td>\n",
       "      <td>0</td>\n",
       "      <td>0</td>\n",
       "      <td>0</td>\n",
       "      <td>0</td>\n",
       "      <td>0</td>\n",
       "      <td>0</td>\n",
       "    </tr>\n",
       "    <tr>\n",
       "      <th>47400</th>\n",
       "      <td>1</td>\n",
       "      <td>1984</td>\n",
       "      <td>58</td>\n",
       "      <td>0.168719</td>\n",
       "      <td>0</td>\n",
       "      <td>0.1434</td>\n",
       "      <td>0</td>\n",
       "      <td>11.0</td>\n",
       "      <td>0</td>\n",
       "      <td>0</td>\n",
       "      <td>0</td>\n",
       "      <td>0</td>\n",
       "      <td>0</td>\n",
       "      <td>0</td>\n",
       "      <td>0</td>\n",
       "    </tr>\n",
       "    <tr>\n",
       "      <th>50813</th>\n",
       "      <td>0</td>\n",
       "      <td>1984</td>\n",
       "      <td>64</td>\n",
       "      <td>1.000000</td>\n",
       "      <td>1</td>\n",
       "      <td>0.1500</td>\n",
       "      <td>0</td>\n",
       "      <td>10.5</td>\n",
       "      <td>0</td>\n",
       "      <td>1</td>\n",
       "      <td>1</td>\n",
       "      <td>0</td>\n",
       "      <td>0</td>\n",
       "      <td>7</td>\n",
       "      <td>2</td>\n",
       "    </tr>\n",
       "    <tr>\n",
       "      <th>43058</th>\n",
       "      <td>0</td>\n",
       "      <td>1984</td>\n",
       "      <td>30</td>\n",
       "      <td>0.000000</td>\n",
       "      <td>0</td>\n",
       "      <td>0.2400</td>\n",
       "      <td>0</td>\n",
       "      <td>13.0</td>\n",
       "      <td>0</td>\n",
       "      <td>0</td>\n",
       "      <td>0</td>\n",
       "      <td>0</td>\n",
       "      <td>0</td>\n",
       "      <td>6</td>\n",
       "      <td>0</td>\n",
       "    </tr>\n",
       "  </tbody>\n",
       "</table>\n",
       "</div>"
      ],
      "text/plain": [
       "       FEMALE  YEAR  AGE   HANDDUM  WORKING  HHNINC  HHKIDS  EDUC  MARRIED  \\\n",
       "id                                                                           \n",
       "98990       0  1984   54  0.000000        1  0.3050       0  15.0        1   \n",
       "32946       1  1984   44  0.000000        0  0.3050       0   9.0        1   \n",
       "47400       1  1984   58  0.168719        0  0.1434       0  11.0        0   \n",
       "50813       0  1984   64  1.000000        1  0.1500       0  10.5        0   \n",
       "43058       0  1984   30  0.000000        0  0.2400       0  13.0        0   \n",
       "\n",
       "       WORKING.1  BLUEC  WHITEC  SELF  DOCVIS  HOSPVIS  \n",
       "id                                                      \n",
       "98990          1      0       1     0       1        0  \n",
       "32946          0      0       0     0       0        0  \n",
       "47400          0      0       0     0       0        0  \n",
       "50813          1      1       0     0       7        2  \n",
       "43058          0      0       0     0       6        0  "
      ]
     },
     "execution_count": 4,
     "metadata": {},
     "output_type": "execute_result"
    }
   ],
   "source": [
    "private_1984.head()"
   ]
  },
  {
   "cell_type": "markdown",
   "metadata": {},
   "source": [
    "# 1. Pseudonymization: secret formulas"
   ]
  },
  {
   "cell_type": "markdown",
   "metadata": {},
   "source": [
    "In this exercise, you will be working directly with \"secret formulas\" as a pseudonymization technique."
   ]
  },
  {
   "cell_type": "markdown",
   "metadata": {},
   "source": [
    "**Action:** Before you start, we need you to pick a partner for this exercise session (e.g., the person sitting next to you), with whom you will share your _pseudonymized_ data."
   ]
  },
  {
   "cell_type": "markdown",
   "metadata": {},
   "source": [
    "### Exercise 1.A | Creating and cracking a \"secret formula\""
   ]
  },
  {
   "cell_type": "markdown",
   "metadata": {},
   "source": [
    "In this exercise, you will be guided to choose your own secret hashing function and use it to pseudonymize every record in the dataset. You will then share two small datasets with your partner. The first dataset will contain both the true IDs and the pseudonyms. This dataset represents the *background knowledge* that an attacker (your partner) might have obtained in various ways. The second dataset will contain only the pseudonymized IDs of some people, the targets of the attack. Your partner will try to use the backgound knowledge to re-identify all the records in this second dataset.\n",
    "\n",
    "Most of the steps are already solved. You are required to write something if and only if you see *\"action required\"* next to the step number, e.g., **Step 2 *(action required)*.** But don't forget to execute *every* code cell (with `Ctrl-Enter`)!"
   ]
  },
  {
   "cell_type": "markdown",
   "metadata": {},
   "source": [
    "### Pseudonymizing the dataset\n",
    "\n",
    "**Step 1.** Choose a *polynomial* hash function of degree 2, i.e. a function of the form $a_0 x^2 + a_{1} x + a_2$. For simplicity (as discussed during the lecture), your coefficients $a_i$ must be *integers* between 0 and 500. Don't reveal your function!\n",
    "\n",
    "**Step 2 *(action required)*.** Define your function and call it `generate_pseudo_id`. Make sure to change the values of `a[0],a[1],a[2]` to the values of your polynomial."
   ]
  },
  {
   "cell_type": "code",
   "execution_count": 9,
   "metadata": {},
   "outputs": [],
   "source": [
    "def generate_pseudo_id(phone_number):\n",
    "    'Takes a phone number (int) x, and returns a0 * x^2 + a1 * x + a2'\n",
    "    a = np.array([0,0,0]) # initiate array of coefficients\n",
    "    a[0] = 356 ### YOU CHOOSE THIS!\n",
    "    a[1] = 234 ### YOU CHOOSE THIS!\n",
    "    a[2] = 98 ### YOU CHOOSE THIS!\n",
    "    x = phone_number\n",
    "    return a[0] * x**2 + a[1] * x + a[2]"
   ]
  },
  {
   "cell_type": "markdown",
   "metadata": {},
   "source": [
    "**Step 3.** Create a copy of `private_1984` called `private_1984_double`."
   ]
  },
  {
   "cell_type": "code",
   "execution_count": 10,
   "metadata": {},
   "outputs": [],
   "source": [
    "private_1984_double = private_1984.copy()"
   ]
  },
  {
   "cell_type": "markdown",
   "metadata": {},
   "source": [
    "**Step 4.** Pseudonymize every ID in `private_1984_double` using your function. Keep the `id` column as the first column in the dataset and add the column of pseudonymized IDs as the second one. Call it `pseudo_id`."
   ]
  },
  {
   "cell_type": "code",
   "execution_count": 11,
   "metadata": {},
   "outputs": [
    {
     "data": {
      "text/html": [
       "<div>\n",
       "<style scoped>\n",
       "    .dataframe tbody tr th:only-of-type {\n",
       "        vertical-align: middle;\n",
       "    }\n",
       "\n",
       "    .dataframe tbody tr th {\n",
       "        vertical-align: top;\n",
       "    }\n",
       "\n",
       "    .dataframe thead th {\n",
       "        text-align: right;\n",
       "    }\n",
       "</style>\n",
       "<table border=\"1\" class=\"dataframe\">\n",
       "  <thead>\n",
       "    <tr style=\"text-align: right;\">\n",
       "      <th></th>\n",
       "      <th>pseudo_id</th>\n",
       "      <th>FEMALE</th>\n",
       "      <th>YEAR</th>\n",
       "      <th>AGE</th>\n",
       "      <th>HANDDUM</th>\n",
       "      <th>WORKING</th>\n",
       "      <th>HHNINC</th>\n",
       "      <th>HHKIDS</th>\n",
       "      <th>EDUC</th>\n",
       "      <th>MARRIED</th>\n",
       "      <th>WORKING.1</th>\n",
       "      <th>BLUEC</th>\n",
       "      <th>WHITEC</th>\n",
       "      <th>SELF</th>\n",
       "      <th>DOCVIS</th>\n",
       "      <th>HOSPVIS</th>\n",
       "    </tr>\n",
       "    <tr>\n",
       "      <th>id</th>\n",
       "      <th></th>\n",
       "      <th></th>\n",
       "      <th></th>\n",
       "      <th></th>\n",
       "      <th></th>\n",
       "      <th></th>\n",
       "      <th></th>\n",
       "      <th></th>\n",
       "      <th></th>\n",
       "      <th></th>\n",
       "      <th></th>\n",
       "      <th></th>\n",
       "      <th></th>\n",
       "      <th></th>\n",
       "      <th></th>\n",
       "      <th></th>\n",
       "    </tr>\n",
       "  </thead>\n",
       "  <tbody>\n",
       "    <tr>\n",
       "      <th>98990</th>\n",
       "      <td>3488474319358</td>\n",
       "      <td>0</td>\n",
       "      <td>1984</td>\n",
       "      <td>54</td>\n",
       "      <td>0.000000</td>\n",
       "      <td>1</td>\n",
       "      <td>0.3050</td>\n",
       "      <td>0</td>\n",
       "      <td>15.0</td>\n",
       "      <td>1</td>\n",
       "      <td>1</td>\n",
       "      <td>0</td>\n",
       "      <td>1</td>\n",
       "      <td>0</td>\n",
       "      <td>1</td>\n",
       "      <td>0</td>\n",
       "    </tr>\n",
       "    <tr>\n",
       "      <th>32946</th>\n",
       "      <td>386423963558</td>\n",
       "      <td>1</td>\n",
       "      <td>1984</td>\n",
       "      <td>44</td>\n",
       "      <td>0.000000</td>\n",
       "      <td>0</td>\n",
       "      <td>0.3050</td>\n",
       "      <td>0</td>\n",
       "      <td>9.0</td>\n",
       "      <td>1</td>\n",
       "      <td>0</td>\n",
       "      <td>0</td>\n",
       "      <td>0</td>\n",
       "      <td>0</td>\n",
       "      <td>0</td>\n",
       "      <td>0</td>\n",
       "    </tr>\n",
       "    <tr>\n",
       "      <th>47400</th>\n",
       "      <td>799857651698</td>\n",
       "      <td>1</td>\n",
       "      <td>1984</td>\n",
       "      <td>58</td>\n",
       "      <td>0.168719</td>\n",
       "      <td>0</td>\n",
       "      <td>0.1434</td>\n",
       "      <td>0</td>\n",
       "      <td>11.0</td>\n",
       "      <td>0</td>\n",
       "      <td>0</td>\n",
       "      <td>0</td>\n",
       "      <td>0</td>\n",
       "      <td>0</td>\n",
       "      <td>0</td>\n",
       "      <td>0</td>\n",
       "    </tr>\n",
       "    <tr>\n",
       "      <th>50813</th>\n",
       "      <td>919189995304</td>\n",
       "      <td>0</td>\n",
       "      <td>1984</td>\n",
       "      <td>64</td>\n",
       "      <td>1.000000</td>\n",
       "      <td>1</td>\n",
       "      <td>0.1500</td>\n",
       "      <td>0</td>\n",
       "      <td>10.5</td>\n",
       "      <td>0</td>\n",
       "      <td>1</td>\n",
       "      <td>1</td>\n",
       "      <td>0</td>\n",
       "      <td>0</td>\n",
       "      <td>7</td>\n",
       "      <td>2</td>\n",
       "    </tr>\n",
       "    <tr>\n",
       "      <th>43058</th>\n",
       "      <td>660031001254</td>\n",
       "      <td>0</td>\n",
       "      <td>1984</td>\n",
       "      <td>30</td>\n",
       "      <td>0.000000</td>\n",
       "      <td>0</td>\n",
       "      <td>0.2400</td>\n",
       "      <td>0</td>\n",
       "      <td>13.0</td>\n",
       "      <td>0</td>\n",
       "      <td>0</td>\n",
       "      <td>0</td>\n",
       "      <td>0</td>\n",
       "      <td>0</td>\n",
       "      <td>6</td>\n",
       "      <td>0</td>\n",
       "    </tr>\n",
       "  </tbody>\n",
       "</table>\n",
       "</div>"
      ],
      "text/plain": [
       "           pseudo_id  FEMALE  YEAR  AGE   HANDDUM  WORKING  HHNINC  HHKIDS  \\\n",
       "id                                                                           \n",
       "98990  3488474319358       0  1984   54  0.000000        1  0.3050       0   \n",
       "32946   386423963558       1  1984   44  0.000000        0  0.3050       0   \n",
       "47400   799857651698       1  1984   58  0.168719        0  0.1434       0   \n",
       "50813   919189995304       0  1984   64  1.000000        1  0.1500       0   \n",
       "43058   660031001254       0  1984   30  0.000000        0  0.2400       0   \n",
       "\n",
       "       EDUC  MARRIED  WORKING.1  BLUEC  WHITEC  SELF  DOCVIS  HOSPVIS  \n",
       "id                                                                     \n",
       "98990  15.0        1          1      0       1     0       1        0  \n",
       "32946   9.0        1          0      0       0     0       0        0  \n",
       "47400  11.0        0          0      0       0     0       0        0  \n",
       "50813  10.5        0          1      1       0     0       7        2  \n",
       "43058  13.0        0          0      0       0     0       6        0  "
      ]
     },
     "execution_count": 11,
     "metadata": {},
     "output_type": "execute_result"
    }
   ],
   "source": [
    "pseudonymized_numbers = [generate_pseudo_id(x) for x in private_1984.index]\n",
    "private_1984_double.insert(0, 'pseudo_id', pseudonymized_numbers)\n",
    "private_1984_double.head()"
   ]
  },
  {
   "cell_type": "markdown",
   "metadata": {},
   "source": [
    "### Producing and sharing the background knowledge\n",
    "\n",
    "**Step 5.** Export 20 random records from your pseudonymized dataset to a csv file (`known_records.csv`) and email it to your partner. This will be the set of records for which your partner knows both ID and pseudonymised ID."
   ]
  },
  {
   "cell_type": "code",
   "execution_count": 12,
   "metadata": {},
   "outputs": [],
   "source": [
    "private_1984_double.sample(20).to_csv(\"./known_records.csv\")"
   ]
  },
  {
   "cell_type": "markdown",
   "metadata": {},
   "source": [
    "**Step 6.** Export 20 random records from your pseudonymized dataset to a new dataset `sample_records_double`. Create a copy of `sample_records_double` and call it `sample_records_anon`. Remove the `id` column from it. Then save it to a csv file `sample_records_anon.csv` and email it to your partner. Your partner will have to reidentify these records."
   ]
  },
  {
   "cell_type": "code",
   "execution_count": 13,
   "metadata": {},
   "outputs": [
    {
     "data": {
      "text/html": [
       "<div>\n",
       "<style scoped>\n",
       "    .dataframe tbody tr th:only-of-type {\n",
       "        vertical-align: middle;\n",
       "    }\n",
       "\n",
       "    .dataframe tbody tr th {\n",
       "        vertical-align: top;\n",
       "    }\n",
       "\n",
       "    .dataframe thead th {\n",
       "        text-align: right;\n",
       "    }\n",
       "</style>\n",
       "<table border=\"1\" class=\"dataframe\">\n",
       "  <thead>\n",
       "    <tr style=\"text-align: right;\">\n",
       "      <th></th>\n",
       "      <th>pseudo_id</th>\n",
       "      <th>FEMALE</th>\n",
       "      <th>YEAR</th>\n",
       "      <th>AGE</th>\n",
       "      <th>HANDDUM</th>\n",
       "      <th>WORKING</th>\n",
       "      <th>HHNINC</th>\n",
       "      <th>HHKIDS</th>\n",
       "      <th>EDUC</th>\n",
       "      <th>MARRIED</th>\n",
       "      <th>WORKING.1</th>\n",
       "      <th>BLUEC</th>\n",
       "      <th>WHITEC</th>\n",
       "      <th>SELF</th>\n",
       "      <th>DOCVIS</th>\n",
       "      <th>HOSPVIS</th>\n",
       "    </tr>\n",
       "    <tr>\n",
       "      <th>id</th>\n",
       "      <th></th>\n",
       "      <th></th>\n",
       "      <th></th>\n",
       "      <th></th>\n",
       "      <th></th>\n",
       "      <th></th>\n",
       "      <th></th>\n",
       "      <th></th>\n",
       "      <th></th>\n",
       "      <th></th>\n",
       "      <th></th>\n",
       "      <th></th>\n",
       "      <th></th>\n",
       "      <th></th>\n",
       "      <th></th>\n",
       "      <th></th>\n",
       "    </tr>\n",
       "  </thead>\n",
       "  <tbody>\n",
       "    <tr>\n",
       "      <th>77669</th>\n",
       "      <td>2147578762360</td>\n",
       "      <td>0</td>\n",
       "      <td>1984</td>\n",
       "      <td>49</td>\n",
       "      <td>0.0</td>\n",
       "      <td>1</td>\n",
       "      <td>0.374829</td>\n",
       "      <td>1</td>\n",
       "      <td>11.81824</td>\n",
       "      <td>1</td>\n",
       "      <td>1</td>\n",
       "      <td>0</td>\n",
       "      <td>0</td>\n",
       "      <td>0</td>\n",
       "      <td>0</td>\n",
       "      <td>0</td>\n",
       "    </tr>\n",
       "    <tr>\n",
       "      <th>73396</th>\n",
       "      <td>1917779497258</td>\n",
       "      <td>0</td>\n",
       "      <td>1984</td>\n",
       "      <td>38</td>\n",
       "      <td>0.0</td>\n",
       "      <td>1</td>\n",
       "      <td>0.382697</td>\n",
       "      <td>0</td>\n",
       "      <td>11.50000</td>\n",
       "      <td>1</td>\n",
       "      <td>1</td>\n",
       "      <td>0</td>\n",
       "      <td>0</td>\n",
       "      <td>1</td>\n",
       "      <td>2</td>\n",
       "      <td>0</td>\n",
       "    </tr>\n",
       "    <tr>\n",
       "      <th>19163</th>\n",
       "      <td>130735006804</td>\n",
       "      <td>1</td>\n",
       "      <td>1984</td>\n",
       "      <td>27</td>\n",
       "      <td>0.0</td>\n",
       "      <td>1</td>\n",
       "      <td>0.320000</td>\n",
       "      <td>1</td>\n",
       "      <td>10.50000</td>\n",
       "      <td>1</td>\n",
       "      <td>1</td>\n",
       "      <td>0</td>\n",
       "      <td>0</td>\n",
       "      <td>0</td>\n",
       "      <td>0</td>\n",
       "      <td>0</td>\n",
       "    </tr>\n",
       "    <tr>\n",
       "      <th>93969</th>\n",
       "      <td>3143563562960</td>\n",
       "      <td>1</td>\n",
       "      <td>1984</td>\n",
       "      <td>46</td>\n",
       "      <td>0.0</td>\n",
       "      <td>1</td>\n",
       "      <td>0.220000</td>\n",
       "      <td>0</td>\n",
       "      <td>10.50000</td>\n",
       "      <td>0</td>\n",
       "      <td>1</td>\n",
       "      <td>0</td>\n",
       "      <td>1</td>\n",
       "      <td>0</td>\n",
       "      <td>0</td>\n",
       "      <td>0</td>\n",
       "    </tr>\n",
       "    <tr>\n",
       "      <th>47410</th>\n",
       "      <td>800195177638</td>\n",
       "      <td>1</td>\n",
       "      <td>1984</td>\n",
       "      <td>32</td>\n",
       "      <td>0.0</td>\n",
       "      <td>1</td>\n",
       "      <td>0.340000</td>\n",
       "      <td>0</td>\n",
       "      <td>10.00000</td>\n",
       "      <td>0</td>\n",
       "      <td>1</td>\n",
       "      <td>0</td>\n",
       "      <td>1</td>\n",
       "      <td>0</td>\n",
       "      <td>1</td>\n",
       "      <td>0</td>\n",
       "    </tr>\n",
       "  </tbody>\n",
       "</table>\n",
       "</div>"
      ],
      "text/plain": [
       "           pseudo_id  FEMALE  YEAR  AGE  HANDDUM  WORKING    HHNINC  HHKIDS  \\\n",
       "id                                                                            \n",
       "77669  2147578762360       0  1984   49      0.0        1  0.374829       1   \n",
       "73396  1917779497258       0  1984   38      0.0        1  0.382697       0   \n",
       "19163   130735006804       1  1984   27      0.0        1  0.320000       1   \n",
       "93969  3143563562960       1  1984   46      0.0        1  0.220000       0   \n",
       "47410   800195177638       1  1984   32      0.0        1  0.340000       0   \n",
       "\n",
       "           EDUC  MARRIED  WORKING.1  BLUEC  WHITEC  SELF  DOCVIS  HOSPVIS  \n",
       "id                                                                         \n",
       "77669  11.81824        1          1      0       0     0       0        0  \n",
       "73396  11.50000        1          1      0       0     1       2        0  \n",
       "19163  10.50000        1          1      0       0     0       0        0  \n",
       "93969  10.50000        0          1      0       1     0       0        0  \n",
       "47410  10.00000        0          1      0       1     0       1        0  "
      ]
     },
     "execution_count": 13,
     "metadata": {},
     "output_type": "execute_result"
    }
   ],
   "source": [
    "# extract 20 random samples\n",
    "sample_records_double = private_1984_double.sample(20)\n",
    "sample_records_anon = sample_records_double.copy()\n",
    "\n",
    "# remove the ID column, and make the `pseudo_id` the index\n",
    "sample_records_anon.set_index('pseudo_id', inplace=True)\n",
    "sample_records_anon.to_csv(\"./sample_records_anon.csv\")\n",
    "\n",
    "sample_records_double.head() # don't show the output to your partner!"
   ]
  },
  {
   "cell_type": "markdown",
   "metadata": {},
   "source": [
    "And this is what the output looks like:"
   ]
  },
  {
   "cell_type": "code",
   "execution_count": 14,
   "metadata": {},
   "outputs": [
    {
     "data": {
      "text/html": [
       "<div>\n",
       "<style scoped>\n",
       "    .dataframe tbody tr th:only-of-type {\n",
       "        vertical-align: middle;\n",
       "    }\n",
       "\n",
       "    .dataframe tbody tr th {\n",
       "        vertical-align: top;\n",
       "    }\n",
       "\n",
       "    .dataframe thead th {\n",
       "        text-align: right;\n",
       "    }\n",
       "</style>\n",
       "<table border=\"1\" class=\"dataframe\">\n",
       "  <thead>\n",
       "    <tr style=\"text-align: right;\">\n",
       "      <th></th>\n",
       "      <th>FEMALE</th>\n",
       "      <th>YEAR</th>\n",
       "      <th>AGE</th>\n",
       "      <th>HANDDUM</th>\n",
       "      <th>WORKING</th>\n",
       "      <th>HHNINC</th>\n",
       "      <th>HHKIDS</th>\n",
       "      <th>EDUC</th>\n",
       "      <th>MARRIED</th>\n",
       "      <th>WORKING.1</th>\n",
       "      <th>BLUEC</th>\n",
       "      <th>WHITEC</th>\n",
       "      <th>SELF</th>\n",
       "      <th>DOCVIS</th>\n",
       "      <th>HOSPVIS</th>\n",
       "    </tr>\n",
       "    <tr>\n",
       "      <th>pseudo_id</th>\n",
       "      <th></th>\n",
       "      <th></th>\n",
       "      <th></th>\n",
       "      <th></th>\n",
       "      <th></th>\n",
       "      <th></th>\n",
       "      <th></th>\n",
       "      <th></th>\n",
       "      <th></th>\n",
       "      <th></th>\n",
       "      <th></th>\n",
       "      <th></th>\n",
       "      <th></th>\n",
       "      <th></th>\n",
       "      <th></th>\n",
       "    </tr>\n",
       "  </thead>\n",
       "  <tbody>\n",
       "    <tr>\n",
       "      <th>2147578762360</th>\n",
       "      <td>0</td>\n",
       "      <td>1984</td>\n",
       "      <td>49</td>\n",
       "      <td>0.0</td>\n",
       "      <td>1</td>\n",
       "      <td>0.374829</td>\n",
       "      <td>1</td>\n",
       "      <td>11.81824</td>\n",
       "      <td>1</td>\n",
       "      <td>1</td>\n",
       "      <td>0</td>\n",
       "      <td>0</td>\n",
       "      <td>0</td>\n",
       "      <td>0</td>\n",
       "      <td>0</td>\n",
       "    </tr>\n",
       "    <tr>\n",
       "      <th>1917779497258</th>\n",
       "      <td>0</td>\n",
       "      <td>1984</td>\n",
       "      <td>38</td>\n",
       "      <td>0.0</td>\n",
       "      <td>1</td>\n",
       "      <td>0.382697</td>\n",
       "      <td>0</td>\n",
       "      <td>11.50000</td>\n",
       "      <td>1</td>\n",
       "      <td>1</td>\n",
       "      <td>0</td>\n",
       "      <td>0</td>\n",
       "      <td>1</td>\n",
       "      <td>2</td>\n",
       "      <td>0</td>\n",
       "    </tr>\n",
       "    <tr>\n",
       "      <th>130735006804</th>\n",
       "      <td>1</td>\n",
       "      <td>1984</td>\n",
       "      <td>27</td>\n",
       "      <td>0.0</td>\n",
       "      <td>1</td>\n",
       "      <td>0.320000</td>\n",
       "      <td>1</td>\n",
       "      <td>10.50000</td>\n",
       "      <td>1</td>\n",
       "      <td>1</td>\n",
       "      <td>0</td>\n",
       "      <td>0</td>\n",
       "      <td>0</td>\n",
       "      <td>0</td>\n",
       "      <td>0</td>\n",
       "    </tr>\n",
       "    <tr>\n",
       "      <th>3143563562960</th>\n",
       "      <td>1</td>\n",
       "      <td>1984</td>\n",
       "      <td>46</td>\n",
       "      <td>0.0</td>\n",
       "      <td>1</td>\n",
       "      <td>0.220000</td>\n",
       "      <td>0</td>\n",
       "      <td>10.50000</td>\n",
       "      <td>0</td>\n",
       "      <td>1</td>\n",
       "      <td>0</td>\n",
       "      <td>1</td>\n",
       "      <td>0</td>\n",
       "      <td>0</td>\n",
       "      <td>0</td>\n",
       "    </tr>\n",
       "    <tr>\n",
       "      <th>800195177638</th>\n",
       "      <td>1</td>\n",
       "      <td>1984</td>\n",
       "      <td>32</td>\n",
       "      <td>0.0</td>\n",
       "      <td>1</td>\n",
       "      <td>0.340000</td>\n",
       "      <td>0</td>\n",
       "      <td>10.00000</td>\n",
       "      <td>0</td>\n",
       "      <td>1</td>\n",
       "      <td>0</td>\n",
       "      <td>1</td>\n",
       "      <td>0</td>\n",
       "      <td>1</td>\n",
       "      <td>0</td>\n",
       "    </tr>\n",
       "  </tbody>\n",
       "</table>\n",
       "</div>"
      ],
      "text/plain": [
       "               FEMALE  YEAR  AGE  HANDDUM  WORKING    HHNINC  HHKIDS  \\\n",
       "pseudo_id                                                              \n",
       "2147578762360       0  1984   49      0.0        1  0.374829       1   \n",
       "1917779497258       0  1984   38      0.0        1  0.382697       0   \n",
       "130735006804        1  1984   27      0.0        1  0.320000       1   \n",
       "3143563562960       1  1984   46      0.0        1  0.220000       0   \n",
       "800195177638        1  1984   32      0.0        1  0.340000       0   \n",
       "\n",
       "                   EDUC  MARRIED  WORKING.1  BLUEC  WHITEC  SELF  DOCVIS  \\\n",
       "pseudo_id                                                                  \n",
       "2147578762360  11.81824        1          1      0       0     0       0   \n",
       "1917779497258  11.50000        1          1      0       0     1       2   \n",
       "130735006804   10.50000        1          1      0       0     0       0   \n",
       "3143563562960  10.50000        0          1      0       1     0       0   \n",
       "800195177638   10.00000        0          1      0       1     0       1   \n",
       "\n",
       "               HOSPVIS  \n",
       "pseudo_id               \n",
       "2147578762360        0  \n",
       "1917779497258        0  \n",
       "130735006804         0  \n",
       "3143563562960        0  \n",
       "800195177638         0  "
      ]
     },
     "execution_count": 14,
     "metadata": {},
     "output_type": "execute_result"
    }
   ],
   "source": [
    "sample_records_anon.head()"
   ]
  },
  {
   "cell_type": "markdown",
   "metadata": {},
   "source": [
    "### Cracking the pseudonymization\n",
    "\n",
    "**Step 7.** Once you have received `known_records.csv` and `sample_records_anon.csv` from your partner, download them to the same folder of this Jupyter notebook (you can overwrite yours)."
   ]
  },
  {
   "cell_type": "markdown",
   "metadata": {},
   "source": [
    "**Step 8 *(action required)*.** Now try to reverse engineer your partner's secret function using **their** `known_records.csv`! That is, try to find the function your partner used to pseudonymize the IDs. This means that you have to find the coefficients he/she chose. (Hint: you might find `numpy.polyfit` useful)"
   ]
  },
  {
   "cell_type": "code",
   "execution_count": 15,
   "metadata": {},
   "outputs": [
    {
     "name": "stdout",
     "output_type": "stream",
     "text": [
      "[356.         234.00000001  97.99984162]\n"
     ]
    }
   ],
   "source": [
    "known_records = pd.read_csv(\"known_records.csv\", index_col='id') # import your partner's known_records.csv\n",
    "known_ids = known_records.index.values # this is an array with 20 known IDs\n",
    "pseudo_ids = known_records['pseudo_id'].values # this is the array with their respective 20 pseudo-IDs\n",
    "\n",
    "cracked_coeff = \"YOUR CODE HERE\"\n",
    "\n",
    "## ANSWER\n",
    "cracked_coeff = np.polyfit(known_ids, pseudo_ids, deg=2)\n",
    "\n",
    "print(cracked_coeff)"
   ]
  },
  {
   "cell_type": "markdown",
   "metadata": {},
   "source": [
    "**Step 9 *(action required)*.** Now you should have successfully found your partner's function. Great! But we are not done yet. Remember that the real secret is not the function, but the real IDs! So there is one last step to complete:\n",
    "\n",
    "Use the reverse engineered function to re-identify each record in `sample_records_anon.csv`. \n",
    "\n",
    "Hint 1: Suppose you found that your partner's hash function is $3 x^2 + 10 x + 7$, and you want to re-identify (for example) the pseudo-ID 63231897340. Then you need to solve the equation $63231897340 = 3 x^2 + 10 x + 7$, and the solution(s) to the equation will be the original ID! To solve the exercise you need to generalize this example.\n",
    "\n",
    "Hint 2: You can use `numpy.roots` to find the roots of a polynomial (or you can use the formula), in order to solve this equation.\n",
    "\n",
    "_Bonus_: How many solutions does this equation have? How can you be sure that there is only one positive solution (the real ID)?"
   ]
  },
  {
   "cell_type": "code",
   "execution_count": 16,
   "metadata": {},
   "outputs": [
    {
     "data": {
      "text/html": [
       "<div>\n",
       "<style scoped>\n",
       "    .dataframe tbody tr th:only-of-type {\n",
       "        vertical-align: middle;\n",
       "    }\n",
       "\n",
       "    .dataframe tbody tr th {\n",
       "        vertical-align: top;\n",
       "    }\n",
       "\n",
       "    .dataframe thead th {\n",
       "        text-align: right;\n",
       "    }\n",
       "</style>\n",
       "<table border=\"1\" class=\"dataframe\">\n",
       "  <thead>\n",
       "    <tr style=\"text-align: right;\">\n",
       "      <th></th>\n",
       "      <th>FEMALE</th>\n",
       "      <th>YEAR</th>\n",
       "      <th>AGE</th>\n",
       "      <th>HANDDUM</th>\n",
       "      <th>WORKING</th>\n",
       "      <th>HHNINC</th>\n",
       "      <th>HHKIDS</th>\n",
       "      <th>EDUC</th>\n",
       "      <th>MARRIED</th>\n",
       "      <th>WORKING.1</th>\n",
       "      <th>BLUEC</th>\n",
       "      <th>WHITEC</th>\n",
       "      <th>SELF</th>\n",
       "      <th>DOCVIS</th>\n",
       "      <th>HOSPVIS</th>\n",
       "    </tr>\n",
       "    <tr>\n",
       "      <th>id</th>\n",
       "      <th></th>\n",
       "      <th></th>\n",
       "      <th></th>\n",
       "      <th></th>\n",
       "      <th></th>\n",
       "      <th></th>\n",
       "      <th></th>\n",
       "      <th></th>\n",
       "      <th></th>\n",
       "      <th></th>\n",
       "      <th></th>\n",
       "      <th></th>\n",
       "      <th></th>\n",
       "      <th></th>\n",
       "      <th></th>\n",
       "    </tr>\n",
       "  </thead>\n",
       "  <tbody>\n",
       "    <tr>\n",
       "      <th>77669</th>\n",
       "      <td>0</td>\n",
       "      <td>1984</td>\n",
       "      <td>49</td>\n",
       "      <td>0.0</td>\n",
       "      <td>1</td>\n",
       "      <td>0.374829</td>\n",
       "      <td>1</td>\n",
       "      <td>11.81824</td>\n",
       "      <td>1</td>\n",
       "      <td>1</td>\n",
       "      <td>0</td>\n",
       "      <td>0</td>\n",
       "      <td>0</td>\n",
       "      <td>0</td>\n",
       "      <td>0</td>\n",
       "    </tr>\n",
       "    <tr>\n",
       "      <th>73396</th>\n",
       "      <td>0</td>\n",
       "      <td>1984</td>\n",
       "      <td>38</td>\n",
       "      <td>0.0</td>\n",
       "      <td>1</td>\n",
       "      <td>0.382697</td>\n",
       "      <td>0</td>\n",
       "      <td>11.50000</td>\n",
       "      <td>1</td>\n",
       "      <td>1</td>\n",
       "      <td>0</td>\n",
       "      <td>0</td>\n",
       "      <td>1</td>\n",
       "      <td>2</td>\n",
       "      <td>0</td>\n",
       "    </tr>\n",
       "    <tr>\n",
       "      <th>19163</th>\n",
       "      <td>1</td>\n",
       "      <td>1984</td>\n",
       "      <td>27</td>\n",
       "      <td>0.0</td>\n",
       "      <td>1</td>\n",
       "      <td>0.320000</td>\n",
       "      <td>1</td>\n",
       "      <td>10.50000</td>\n",
       "      <td>1</td>\n",
       "      <td>1</td>\n",
       "      <td>0</td>\n",
       "      <td>0</td>\n",
       "      <td>0</td>\n",
       "      <td>0</td>\n",
       "      <td>0</td>\n",
       "    </tr>\n",
       "    <tr>\n",
       "      <th>93969</th>\n",
       "      <td>1</td>\n",
       "      <td>1984</td>\n",
       "      <td>46</td>\n",
       "      <td>0.0</td>\n",
       "      <td>1</td>\n",
       "      <td>0.220000</td>\n",
       "      <td>0</td>\n",
       "      <td>10.50000</td>\n",
       "      <td>0</td>\n",
       "      <td>1</td>\n",
       "      <td>0</td>\n",
       "      <td>1</td>\n",
       "      <td>0</td>\n",
       "      <td>0</td>\n",
       "      <td>0</td>\n",
       "    </tr>\n",
       "    <tr>\n",
       "      <th>47410</th>\n",
       "      <td>1</td>\n",
       "      <td>1984</td>\n",
       "      <td>32</td>\n",
       "      <td>0.0</td>\n",
       "      <td>1</td>\n",
       "      <td>0.340000</td>\n",
       "      <td>0</td>\n",
       "      <td>10.00000</td>\n",
       "      <td>0</td>\n",
       "      <td>1</td>\n",
       "      <td>0</td>\n",
       "      <td>1</td>\n",
       "      <td>0</td>\n",
       "      <td>1</td>\n",
       "      <td>0</td>\n",
       "    </tr>\n",
       "  </tbody>\n",
       "</table>\n",
       "</div>"
      ],
      "text/plain": [
       "       FEMALE  YEAR  AGE  HANDDUM  WORKING    HHNINC  HHKIDS      EDUC  \\\n",
       "id                                                                       \n",
       "77669       0  1984   49      0.0        1  0.374829       1  11.81824   \n",
       "73396       0  1984   38      0.0        1  0.382697       0  11.50000   \n",
       "19163       1  1984   27      0.0        1  0.320000       1  10.50000   \n",
       "93969       1  1984   46      0.0        1  0.220000       0  10.50000   \n",
       "47410       1  1984   32      0.0        1  0.340000       0  10.00000   \n",
       "\n",
       "       MARRIED  WORKING.1  BLUEC  WHITEC  SELF  DOCVIS  HOSPVIS  \n",
       "id                                                               \n",
       "77669        1          1      0       0     0       0        0  \n",
       "73396        1          1      0       0     1       2        0  \n",
       "19163        1          1      0       0     0       0        0  \n",
       "93969        0          1      0       1     0       0        0  \n",
       "47410        0          1      0       1     0       1        0  "
      ]
     },
     "execution_count": 16,
     "metadata": {},
     "output_type": "execute_result"
    }
   ],
   "source": [
    "#SAMPLE ANSWER\n",
    "\n",
    "sample_records_anon = pd.read_csv(\"sample_records_anon.csv\", index_col='pseudo_id')\n",
    "\n",
    "def reid(anon_id, coeff): # The re-identifying function. In the specific example, anon_id = 63231897340 and coeff = [3,10,7].\n",
    "    \n",
    "    ### YOUR CODE HERE\n",
    "    pass\n",
    "\n",
    "    ## ANSWER\n",
    "    a = coeff.copy()\n",
    "    a[2] = a[2] - anon_id\n",
    "    return int(np.round( (-a[1] + np.sqrt(a[1]**2 - 4 * a[0] * a[2])) / (2 * a[0]) ))\n",
    "\n",
    "\n",
    "sample_records_anon.index = [reid(anon_id, cracked_coeff) for anon_id in sample_records_anon.index.values] # re-identify every pseudo-ID\n",
    "sample_records_anon.index.name = 'id'\n",
    "sample_records_anon.head()\n",
    "\n",
    "\n",
    "# 1) Note that we computed (one of) the root(s) of the quadratic equation manually. We could've used numpy.roots.\n",
    "# 2) Note that in the reid function we consider only the root given by the quadratic formula (-b + sqrt(4ac))/2a,\n",
    "#    and not (-b - sqrt(4ac))/2a. To see why this makes sense, you can try to plot the polynomial (hint: where is \n",
    "#    the axis of symmetry of the corresponding parabola? and which kind of inputs are we using as IDs?)\n",
    "# Bonus: a x^2 + b x + c is a strictly increasing function over [0, inf), if a >= 0, b >= 0 and at least one of a or b is > 0.\n",
    "#        Hence, it will take the value y at most once."
   ]
  },
  {
   "cell_type": "markdown",
   "metadata": {},
   "source": [
    "**Step 10 _(action required)_.** Check with your partner that you actually re-identified all the records in `sample_records_anon`! (compare your output of step 9 with **his/her** first output of step 6)"
   ]
  },
  {
   "cell_type": "markdown",
   "metadata": {},
   "source": [
    "### Exercise 1.B (_optional_) | Higher degree polynomials as secret formulas"
   ]
  },
  {
   "cell_type": "markdown",
   "metadata": {},
   "source": [
    "You might think that considering only polynomials of degree 2 is a big constraint, and that reverse engineering an arbitrary function would be much more challenging. However, while cracking an arbitrary function might be a bit harder, using higher degree polynomials already creates issues."
   ]
  },
  {
   "cell_type": "markdown",
   "metadata": {},
   "source": [
    "**Step 1.** Consider the following polynomial: \n",
    "$$f(x) = x^6 - 56 x^5 + 1231 x^4 - 13412 x^3 + 75028 x^2 - 199472 x + 203160.$$\n",
    "Let's define it:"
   ]
  },
  {
   "cell_type": "code",
   "execution_count": 17,
   "metadata": {},
   "outputs": [],
   "source": [
    "def big_poly(x):\n",
    "    a = np.array([1,-56,1231,-13412,75028,-199472,203160])\n",
    "    return np.polyval(a,x)"
   ]
  },
  {
   "cell_type": "markdown",
   "metadata": {},
   "source": [
    "**Step 2 *(action required)*.** Evaluate `big_poly` for ten random inputs of 5-digit positive integers. How big are the numbers you get?"
   ]
  },
  {
   "cell_type": "code",
   "execution_count": 18,
   "metadata": {
    "scrolled": true
   },
   "outputs": [
    {
     "name": "stderr",
     "output_type": "stream",
     "text": [
      "/home/ana-maria/.local/lib/python3.6/site-packages/numpy/lib/polynomial.py:734: RuntimeWarning: overflow encountered in long_scalars\n",
      "  y = y * x + p[i]\n"
     ]
    },
    {
     "data": {
      "text/plain": [
       "[1194097244936049688,\n",
       " 1539452039564814744,\n",
       " -4573374621862168680,\n",
       " 1100346038886780184,\n",
       " 7298746836413844304,\n",
       " -4852588401388382952,\n",
       " 3436257401197510168,\n",
       " 4973786580397241112,\n",
       " 2157360873701351688,\n",
       " -7157565132263298408]"
      ]
     },
     "execution_count": 18,
     "metadata": {},
     "output_type": "execute_result"
    }
   ],
   "source": [
    "#SAMPLE ANSWER\n",
    "\n",
    "inputs = np.random.randint(low=1, high=99999, size=10)\n",
    "[big_poly(i) for i in inputs]"
   ]
  },
  {
   "cell_type": "markdown",
   "metadata": {},
   "source": [
    "**Step 3 *(action required)*.** Try to evaluate `big_poly` for inputs 2,5,7,12,14,16. What happens? Are we happy with it?"
   ]
  },
  {
   "cell_type": "code",
   "execution_count": 19,
   "metadata": {
    "scrolled": true
   },
   "outputs": [
    {
     "data": {
      "text/plain": [
       "[15000, 15000, 15000, 15000, 15000, 15000]"
      ]
     },
     "execution_count": 19,
     "metadata": {},
     "output_type": "execute_result"
    }
   ],
   "source": [
    "#SAMPLE ANSWER\n",
    "\n",
    "inputs = [2,5,7,12,14,16]\n",
    "[big_poly(i) for i in inputs]"
   ]
  },
  {
   "cell_type": "markdown",
   "metadata": {},
   "source": [
    "**Step 4.** Plot `big_poly` for inputs between 2 and 16 to get a better idea of how the function looks like."
   ]
  },
  {
   "cell_type": "code",
   "execution_count": 20,
   "metadata": {},
   "outputs": [
    {
     "data": {
      "image/png": "[encoded data removed]",
      "text/plain": [
       "<Figure size 432x288 with 1 Axes>"
      ]
     },
     "metadata": {
      "needs_background": "light"
     },
     "output_type": "display_data"
    }
   ],
   "source": [
    "import matplotlib.pyplot as plt\n",
    "xvals = np.arange(2, 17, 0.1)\n",
    "nvals = np.arange(2, 17, 1)\n",
    "plt.plot(xvals, big_poly(xvals), nvals, big_poly(nvals), 'bo');"
   ]
  },
  {
   "cell_type": "markdown",
   "metadata": {},
   "source": [
    "**Step 5 *(action required)*.** Note that the degree of our polynomial is still rather low (degree 6). Given the results you got in the previous steps, do you think that (really) high-degree polynomials would work well as secret formulas? Why?"
   ]
  },
  {
   "cell_type": "markdown",
   "metadata": {},
   "source": [
    "_Your answer here._\n",
    "\n",
    "\n",
    "`SAMPLE ANSWER`\n",
    "\n",
    "No, high-degree polynomials are not a good choice because: \n",
    "1. they grow very quickly, so they generate pseudonymized ids that are huge (and could overflow);\n",
    "2. they yield many collisions."
   ]
  },
  {
   "cell_type": "markdown",
   "metadata": {},
   "source": [
    "# 2. Hash functions and lookup tables"
   ]
  },
  {
   "cell_type": "markdown",
   "metadata": {},
   "source": [
    "### Exercise 2.A | Breaking a dataset anonymized with hash functions\n",
    "In this exercise, you will attack a dataset that has been pseudonymized *without* salt, but using a \"secret\" hash function. You will use a technique seen in the class to break the anonymity of the data, namely a lookup table.\n",
    "\n",
    "The following dataset (`exercice_2_a_anonymized_dataset.csv`) has been anonymized with an unknown hash function in the `hashlib` library in Python. The first step is to figure which hash function was used to encode this dataset."
   ]
  },
  {
   "cell_type": "markdown",
   "metadata": {},
   "source": [
    "#### Import the dataset"
   ]
  },
  {
   "cell_type": "code",
   "execution_count": 21,
   "metadata": {},
   "outputs": [],
   "source": [
    "import hashlib\n",
    "import numpy as np\n",
    "import pandas as pd"
   ]
  },
  {
   "cell_type": "code",
   "execution_count": 23,
   "metadata": {},
   "outputs": [],
   "source": [
    "# The next column will only be used to generate the dataset.\n",
    "# Students may ignore it."
   ]
  },
  {
   "cell_type": "code",
   "execution_count": 24,
   "metadata": {},
   "outputs": [
    {
     "name": "stdout",
     "output_type": "stream",
     "text": [
      "      id    person's disease\n",
      "0  75721        hypertension\n",
      "1  80184       endometriosis\n",
      "2  19864     prostate cancer\n",
      "3  76699  multiple sclerosis\n",
      "4  92991         skin cancer\n",
      "      id     person's disease\n",
      "0  11583   multiple sclerosis\n",
      "1  08169             HIV/AIDS\n",
      "2  18949  Alzheimer's disease\n",
      "3  62997  Alzheimer's disease\n",
      "4  58534        schizophrenia\n",
      "                                                  id     person's disease\n",
      "0  72009f37ff0adaddb667b82c95513b83420fdc4065b1f0...   multiple sclerosis\n",
      "1  1b9218aeb66c4941bba48b6fd3b57bab5fe89c5ea48c33...             HIV/AIDS\n",
      "2  675314a2fcc78db1adf2693e931d28d990abfff48b1c05...  Alzheimer's disease\n",
      "3  60e2de85f4b637d39c1084cac364f4075285f91c18e5fa...  Alzheimer's disease\n",
      "4  6dfbd888ae9600503a34f89efa4d8b67dd4a4f304d0ef6...        schizophrenia\n"
     ]
    }
   ],
   "source": [
    "# Import the fake data.\n",
    "dataset = pd.read_csv(\"anonymization_private.csv\")\n",
    "\n",
    "# Remove the unused stuff.\n",
    "dataset = dataset.drop(dataset.columns[1:13],axis=1)\n",
    "dataset.head()\n",
    "\n",
    "# To apply the hash.\n",
    "def hashing(ids):\n",
    "    return hashlib.sha224(ids.encode()).hexdigest()\n",
    "\n",
    "np.random.seed(42)  # Very original choice.\n",
    "\n",
    "ids = [str(x).zfill(5) for x in np.random.choice(10**5,len(dataset),replace=False)]\n",
    "\n",
    "dataset = pd.DataFrame({\"id\": ids, \"person's disease\" : dataset['disease']})\n",
    "print(dataset.head())\n",
    "\n",
    "dataset = dataset.sample(frac=1).reset_index(drop=True) #shuffle all the rows for fun\n",
    "print(dataset.head())\n",
    "\n",
    "dataset[\"id\"] = dataset[\"id\"].apply(hashing) # apply the hash function\n",
    "print(dataset.head())\n",
    "\n",
    "dataset.to_csv(\"exercice_2_a_anonymized_dataset.csv\",index=False) # export"
   ]
  },
  {
   "cell_type": "code",
   "execution_count": 25,
   "metadata": {},
   "outputs": [
    {
     "data": {
      "text/html": [
       "<div>\n",
       "<style scoped>\n",
       "    .dataframe tbody tr th:only-of-type {\n",
       "        vertical-align: middle;\n",
       "    }\n",
       "\n",
       "    .dataframe tbody tr th {\n",
       "        vertical-align: top;\n",
       "    }\n",
       "\n",
       "    .dataframe thead th {\n",
       "        text-align: right;\n",
       "    }\n",
       "</style>\n",
       "<table border=\"1\" class=\"dataframe\">\n",
       "  <thead>\n",
       "    <tr style=\"text-align: right;\">\n",
       "      <th></th>\n",
       "      <th>id</th>\n",
       "      <th>person's disease</th>\n",
       "    </tr>\n",
       "  </thead>\n",
       "  <tbody>\n",
       "    <tr>\n",
       "      <th>0</th>\n",
       "      <td>72009f37ff0adaddb667b82c95513b83420fdc4065b1f0...</td>\n",
       "      <td>multiple sclerosis</td>\n",
       "    </tr>\n",
       "    <tr>\n",
       "      <th>1</th>\n",
       "      <td>1b9218aeb66c4941bba48b6fd3b57bab5fe89c5ea48c33...</td>\n",
       "      <td>HIV/AIDS</td>\n",
       "    </tr>\n",
       "    <tr>\n",
       "      <th>2</th>\n",
       "      <td>675314a2fcc78db1adf2693e931d28d990abfff48b1c05...</td>\n",
       "      <td>Alzheimer's disease</td>\n",
       "    </tr>\n",
       "    <tr>\n",
       "      <th>3</th>\n",
       "      <td>60e2de85f4b637d39c1084cac364f4075285f91c18e5fa...</td>\n",
       "      <td>Alzheimer's disease</td>\n",
       "    </tr>\n",
       "    <tr>\n",
       "      <th>4</th>\n",
       "      <td>6dfbd888ae9600503a34f89efa4d8b67dd4a4f304d0ef6...</td>\n",
       "      <td>schizophrenia</td>\n",
       "    </tr>\n",
       "  </tbody>\n",
       "</table>\n",
       "</div>"
      ],
      "text/plain": [
       "                                                  id     person's disease\n",
       "0  72009f37ff0adaddb667b82c95513b83420fdc4065b1f0...   multiple sclerosis\n",
       "1  1b9218aeb66c4941bba48b6fd3b57bab5fe89c5ea48c33...             HIV/AIDS\n",
       "2  675314a2fcc78db1adf2693e931d28d990abfff48b1c05...  Alzheimer's disease\n",
       "3  60e2de85f4b637d39c1084cac364f4075285f91c18e5fa...  Alzheimer's disease\n",
       "4  6dfbd888ae9600503a34f89efa4d8b67dd4a4f304d0ef6...        schizophrenia"
      ]
     },
     "execution_count": 25,
     "metadata": {},
     "output_type": "execute_result"
    }
   ],
   "source": [
    "# Import the dataset\n",
    "anonymized = pd.read_csv(\"exercice_2_a_anonymized_dataset.csv\") \n",
    "\n",
    "# Have a look\n",
    "anonymized.head()"
   ]
  },
  {
   "cell_type": "markdown",
   "metadata": {},
   "source": [
    "#### Creating lookup tables\n",
    "**Step 1 *(action required)*.** Guess which hash function has been used to hash the original IDs.\n",
    "\n",
    "_(Hint: look at the [hashlib documentation](https://docs.python.org/3/library/hashlib.html) and compare the available hash functions with the form of the pseudonyms in the datasets)_"
   ]
  },
  {
   "cell_type": "code",
   "execution_count": 26,
   "metadata": {},
   "outputs": [
    {
     "data": {
      "text/plain": [
       "56"
      ]
     },
     "execution_count": 26,
     "metadata": {},
     "output_type": "execute_result"
    }
   ],
   "source": [
    "## ANSWER (to guess the right hash function)\n",
    "len(anonymized.loc[0].id)    # 56\n",
    "\n",
    "# The pseudonymized ids are hexadecimal strings of length 56, i.e. binary strings of length 224 (because 16^56 = 2^224).\n",
    "# The only hash function in hashlib with digest size 224 bit is sha224. So this must be the hash function used to pseudonymize."
   ]
  },
  {
   "cell_type": "markdown",
   "metadata": {},
   "source": [
    "**Step 2 *(action required)*.** Now you know which hash function has been used. Suppose you have somehow discovered that the original IDs were 5-digit numbers (from 00000 to 99999). Create a function `create_lookup_table` that takes the length of the original ids as parameter and returns the complete lookup table. This lookup table is a _dictionary_ where the values are the original IDs and the keys are their hash, hence allowing to recover the corresponding ID from the hashed ID.\n",
    "\n",
    "We will later use the lookup table to bruteforce the hashed ids. \n",
    "\n",
    "_Hints:_\n",
    "\n",
    "1. To fill an integer with leading zeroes, you can use the method `zfill` of strings.\n",
    "2. To hash a string `s` with a hash function `hf`, you can do: `hashlib.hf(s.encode()).hexdigest()`."
   ]
  },
  {
   "cell_type": "code",
   "execution_count": 27,
   "metadata": {},
   "outputs": [],
   "source": [
    "def create_lookup_table(N):\n",
    "    \n",
    "    ### YOUR CODE HERE\n",
    "    pass\n",
    "\n",
    "## ANSWER\n",
    "    inverse_hash_dict = {}\n",
    "    for i in range(10**N): # 10^5 for 5-digits\n",
    "        \n",
    "        id = str(i).zfill(N)\n",
    "        h = hashlib.sha224(id.encode()).hexdigest()\n",
    "        inverse_hash_dict[h] = id\n",
    "        \n",
    "    return inverse_hash_dict"
   ]
  },
  {
   "cell_type": "code",
   "execution_count": 28,
   "metadata": {},
   "outputs": [],
   "source": [
    "# create the table here\n",
    "my_lookup_table = create_lookup_table(5)"
   ]
  },
  {
   "cell_type": "markdown",
   "metadata": {},
   "source": [
    "#### Using the lookup table\n",
    "**Step 3 *(action required)*.** Let us now check that your intuition from **Step 1** is correct. For the lookup table you created, calculate the percentage of the hashed ids in the dataset that are also in this table. Create a function `intersection_size` that takes as parameters the dataset and the lookup table and returns this percentage. If you correctly identified this number, this function should thus return 100."
   ]
  },
  {
   "cell_type": "code",
   "execution_count": 29,
   "metadata": {},
   "outputs": [
    {
     "data": {
      "text/plain": [
       "100.0"
      ]
     },
     "execution_count": 29,
     "metadata": {},
     "output_type": "execute_result"
    }
   ],
   "source": [
    "def intersection_size(dataset,lookup_table):\n",
    "        \n",
    "    ### YOUR CODE HERE\n",
    "    pass\n",
    "\n",
    "## ANSWER\n",
    "    return 100*(len(set(dataset['id']) & set(lookup_table.keys())) / len(dataset))\n",
    "\n",
    "intersection_size(anonymized,create_lookup_table(5))"
   ]
  },
  {
   "cell_type": "markdown",
   "metadata": {},
   "source": [
    "#### Reversing the hashed id\n",
    "**Step 4 *(action required)*.** Now that you know which lookup table to use, use it to reverse the hashed ids. Create a function `break_dataset` that takes the dataset and the lookup table as argument and outputs the deanonymized dataset."
   ]
  },
  {
   "cell_type": "code",
   "execution_count": 30,
   "metadata": {
    "scrolled": false
   },
   "outputs": [
    {
     "data": {
      "text/html": [
       "<div>\n",
       "<style scoped>\n",
       "    .dataframe tbody tr th:only-of-type {\n",
       "        vertical-align: middle;\n",
       "    }\n",
       "\n",
       "    .dataframe tbody tr th {\n",
       "        vertical-align: top;\n",
       "    }\n",
       "\n",
       "    .dataframe thead th {\n",
       "        text-align: right;\n",
       "    }\n",
       "</style>\n",
       "<table border=\"1\" class=\"dataframe\">\n",
       "  <thead>\n",
       "    <tr style=\"text-align: right;\">\n",
       "      <th></th>\n",
       "      <th>id</th>\n",
       "      <th>person's disease</th>\n",
       "    </tr>\n",
       "  </thead>\n",
       "  <tbody>\n",
       "    <tr>\n",
       "      <th>0</th>\n",
       "      <td>11583</td>\n",
       "      <td>multiple sclerosis</td>\n",
       "    </tr>\n",
       "    <tr>\n",
       "      <th>1</th>\n",
       "      <td>08169</td>\n",
       "      <td>HIV/AIDS</td>\n",
       "    </tr>\n",
       "    <tr>\n",
       "      <th>2</th>\n",
       "      <td>18949</td>\n",
       "      <td>Alzheimer's disease</td>\n",
       "    </tr>\n",
       "    <tr>\n",
       "      <th>3</th>\n",
       "      <td>62997</td>\n",
       "      <td>Alzheimer's disease</td>\n",
       "    </tr>\n",
       "    <tr>\n",
       "      <th>4</th>\n",
       "      <td>58534</td>\n",
       "      <td>schizophrenia</td>\n",
       "    </tr>\n",
       "    <tr>\n",
       "      <th>...</th>\n",
       "      <td>...</td>\n",
       "      <td>...</td>\n",
       "    </tr>\n",
       "    <tr>\n",
       "      <th>1995</th>\n",
       "      <td>49182</td>\n",
       "      <td>skin cancer</td>\n",
       "    </tr>\n",
       "    <tr>\n",
       "      <th>1996</th>\n",
       "      <td>00134</td>\n",
       "      <td>hypertension</td>\n",
       "    </tr>\n",
       "    <tr>\n",
       "      <th>1997</th>\n",
       "      <td>43849</td>\n",
       "      <td>Alzheimer's disease</td>\n",
       "    </tr>\n",
       "    <tr>\n",
       "      <th>1998</th>\n",
       "      <td>92220</td>\n",
       "      <td>breast cancer</td>\n",
       "    </tr>\n",
       "    <tr>\n",
       "      <th>1999</th>\n",
       "      <td>76236</td>\n",
       "      <td>hypertension</td>\n",
       "    </tr>\n",
       "  </tbody>\n",
       "</table>\n",
       "<p>2000 rows × 2 columns</p>\n",
       "</div>"
      ],
      "text/plain": [
       "         id     person's disease\n",
       "0     11583   multiple sclerosis\n",
       "1     08169             HIV/AIDS\n",
       "2     18949  Alzheimer's disease\n",
       "3     62997  Alzheimer's disease\n",
       "4     58534        schizophrenia\n",
       "...     ...                  ...\n",
       "1995  49182          skin cancer\n",
       "1996  00134         hypertension\n",
       "1997  43849  Alzheimer's disease\n",
       "1998  92220        breast cancer\n",
       "1999  76236         hypertension\n",
       "\n",
       "[2000 rows x 2 columns]"
      ]
     },
     "execution_count": 30,
     "metadata": {},
     "output_type": "execute_result"
    }
   ],
   "source": [
    "def break_dataset(dataset,lookup_table):\n",
    "\n",
    "    # YOUR CODE HERE\n",
    "    pass\n",
    "\n",
    "\n",
    "## ANSWER\n",
    "    result = dataset.copy()\n",
    "    real_ids = []\n",
    "    for fake in dataset[\"id\"]:\n",
    "        real_ids.append(lookup_table[fake]) # inverse the hash\n",
    "    result[\"id\"] = real_ids\n",
    "    return result\n",
    "\n",
    "break_dataset(anonymized,create_lookup_table(5))"
   ]
  },
  {
   "cell_type": "markdown",
   "metadata": {},
   "source": [
    "### Exercise 2.B (optional) | Breaking a dataset anonymized with md5 and short salt\n",
    "\n",
    "In the last section, you have successfully re-identify a dataset that was protected with only a hash function. Because this is not immune to bruteforcing (as you have seen by yourself), a good practice is to salt it. Salting consists in adding a (long) string of characters (initially selected at random, but the same for each record) at some fixed point in the input, so that an attacker must test all possible salts in order to build a lookup table.\n",
    "\n",
    "The following dataset has been anonymized with the md5 hash function in the `hashlib` library in Python and a short salt (of length 1, i.e. we added one character from 0 to 9) added at some fixed position in the initial id. You are going to adapt the previous method to re-identify/de-anonymize the dataset despite the short salt."
   ]
  },
  {
   "cell_type": "code",
   "execution_count": 31,
   "metadata": {},
   "outputs": [],
   "source": [
    "#### THE CELL BELOW IS MEANT TO BE ERASED FOR THE STUDENTS \n",
    "# (ONLY USED TO GENERATE THE DATASET)"
   ]
  },
  {
   "cell_type": "code",
   "execution_count": 32,
   "metadata": {},
   "outputs": [],
   "source": [
    "import string\n",
    "\n",
    "pos = 1 # anywhere in the initial id\n",
    "salt = 4 # any char for the salt\n",
    "\n",
    "# To apply the hash\n",
    "def hashing(ids,salt=salt,position=pos):\n",
    "    ids = str(ids).zfill(5)\n",
    "    return hashlib.md5(\"{}{}{}\".format(ids[:position],str(salt),ids[position:]).encode()).hexdigest()\n",
    "\n",
    "\n",
    "np.random.seed(42)\n",
    "\n",
    "# Creating a fake table here\n",
    "dataset = pd.DataFrame({\"id\": np.random.choice(10**5,5000,replace=False),\"voted\" : np.random.choice(['Labour','Conservative','Other'],5000,p=[0.45,0.45,0.1])})\n",
    "\n",
    "dataset[\"id\"] = dataset[\"id\"].apply(hashing) # apply the hash function\n",
    "\n",
    "dataset.to_csv(\"exercice_2_b_anonymized_dataset.csv\",index=False) # export"
   ]
  },
  {
   "cell_type": "code",
   "execution_count": 26,
   "metadata": {},
   "outputs": [
    {
     "data": {
      "text/html": [
       "<div>\n",
       "<style scoped>\n",
       "    .dataframe tbody tr th:only-of-type {\n",
       "        vertical-align: middle;\n",
       "    }\n",
       "\n",
       "    .dataframe tbody tr th {\n",
       "        vertical-align: top;\n",
       "    }\n",
       "\n",
       "    .dataframe thead th {\n",
       "        text-align: right;\n",
       "    }\n",
       "</style>\n",
       "<table border=\"1\" class=\"dataframe\">\n",
       "  <thead>\n",
       "    <tr style=\"text-align: right;\">\n",
       "      <th></th>\n",
       "      <th>id</th>\n",
       "      <th>voted</th>\n",
       "    </tr>\n",
       "  </thead>\n",
       "  <tbody>\n",
       "    <tr>\n",
       "      <th>0</th>\n",
       "      <td>e99d2e89fb5b6b4e3f501a0836e071cc</td>\n",
       "      <td>Conservative</td>\n",
       "    </tr>\n",
       "    <tr>\n",
       "      <th>1</th>\n",
       "      <td>ca530285b593ad370c84521aaa2b9520</td>\n",
       "      <td>Other</td>\n",
       "    </tr>\n",
       "    <tr>\n",
       "      <th>2</th>\n",
       "      <td>25325f48b51b015b78245e09d77fd70f</td>\n",
       "      <td>Conservative</td>\n",
       "    </tr>\n",
       "    <tr>\n",
       "      <th>3</th>\n",
       "      <td>ff76e9f71a9b451ee73c9e0e8acd69fd</td>\n",
       "      <td>Labour</td>\n",
       "    </tr>\n",
       "    <tr>\n",
       "      <th>4</th>\n",
       "      <td>7b457efc389692e01ac7129ea37ead55</td>\n",
       "      <td>Labour</td>\n",
       "    </tr>\n",
       "    <tr>\n",
       "      <th>5</th>\n",
       "      <td>88c3e29546b95349fac8a4a11afd3dd6</td>\n",
       "      <td>Conservative</td>\n",
       "    </tr>\n",
       "    <tr>\n",
       "      <th>6</th>\n",
       "      <td>92786bf8539d8d43efefd65f6730aa5e</td>\n",
       "      <td>Conservative</td>\n",
       "    </tr>\n",
       "    <tr>\n",
       "      <th>7</th>\n",
       "      <td>e7d6cd4192f21504b078946bcb409d67</td>\n",
       "      <td>Conservative</td>\n",
       "    </tr>\n",
       "    <tr>\n",
       "      <th>8</th>\n",
       "      <td>dcc1c33d92818048fa6c751768de961e</td>\n",
       "      <td>Labour</td>\n",
       "    </tr>\n",
       "    <tr>\n",
       "      <th>9</th>\n",
       "      <td>9cad13b97d98cbfca2234fdd5d75af7c</td>\n",
       "      <td>Conservative</td>\n",
       "    </tr>\n",
       "    <tr>\n",
       "      <th>10</th>\n",
       "      <td>8cb854de82884a8af762850b433e1e71</td>\n",
       "      <td>Conservative</td>\n",
       "    </tr>\n",
       "    <tr>\n",
       "      <th>11</th>\n",
       "      <td>7a499df7ccd61b5e25eb2eeb11aa7d21</td>\n",
       "      <td>Labour</td>\n",
       "    </tr>\n",
       "    <tr>\n",
       "      <th>12</th>\n",
       "      <td>8a2faef35fcd4fb95e09e32422d2bf76</td>\n",
       "      <td>Conservative</td>\n",
       "    </tr>\n",
       "    <tr>\n",
       "      <th>13</th>\n",
       "      <td>4ee6bb8fc1b187f183326109a15c8b1d</td>\n",
       "      <td>Conservative</td>\n",
       "    </tr>\n",
       "    <tr>\n",
       "      <th>14</th>\n",
       "      <td>d88de1a2adab52bac28d95c12bcb81ff</td>\n",
       "      <td>Conservative</td>\n",
       "    </tr>\n",
       "    <tr>\n",
       "      <th>15</th>\n",
       "      <td>3a4efa50dec5c247e70da3ec1248f94a</td>\n",
       "      <td>Conservative</td>\n",
       "    </tr>\n",
       "    <tr>\n",
       "      <th>16</th>\n",
       "      <td>6791b4f781393a20a80ae65281ce3a20</td>\n",
       "      <td>Labour</td>\n",
       "    </tr>\n",
       "    <tr>\n",
       "      <th>17</th>\n",
       "      <td>41d9849bb6b46d27e02581ed968a004e</td>\n",
       "      <td>Labour</td>\n",
       "    </tr>\n",
       "    <tr>\n",
       "      <th>18</th>\n",
       "      <td>9ddcef1502bb70baf755ae7c2584cf64</td>\n",
       "      <td>Labour</td>\n",
       "    </tr>\n",
       "    <tr>\n",
       "      <th>19</th>\n",
       "      <td>767ebea91595f2803078ec4f8835d2aa</td>\n",
       "      <td>Other</td>\n",
       "    </tr>\n",
       "    <tr>\n",
       "      <th>20</th>\n",
       "      <td>d3cd62550e5c266deaf7d6925a21d1c2</td>\n",
       "      <td>Conservative</td>\n",
       "    </tr>\n",
       "    <tr>\n",
       "      <th>21</th>\n",
       "      <td>8a230852f6c5eaaca7e279c4ee70aa86</td>\n",
       "      <td>Labour</td>\n",
       "    </tr>\n",
       "    <tr>\n",
       "      <th>22</th>\n",
       "      <td>64eabdf61f1680fa9059b88596b47219</td>\n",
       "      <td>Labour</td>\n",
       "    </tr>\n",
       "    <tr>\n",
       "      <th>23</th>\n",
       "      <td>d1fd53e28e1c282bc92be868ce28a32f</td>\n",
       "      <td>Labour</td>\n",
       "    </tr>\n",
       "    <tr>\n",
       "      <th>24</th>\n",
       "      <td>9decc6bde12d10f787dd4ffafc47c835</td>\n",
       "      <td>Conservative</td>\n",
       "    </tr>\n",
       "    <tr>\n",
       "      <th>25</th>\n",
       "      <td>3fc2e3bcae64c9648b5e42b1130eb86b</td>\n",
       "      <td>Conservative</td>\n",
       "    </tr>\n",
       "    <tr>\n",
       "      <th>26</th>\n",
       "      <td>c32e8accfd9b188d75a0b939ac121213</td>\n",
       "      <td>Conservative</td>\n",
       "    </tr>\n",
       "    <tr>\n",
       "      <th>27</th>\n",
       "      <td>60fe4d65e89c7d94672c6eb6eb085108</td>\n",
       "      <td>Conservative</td>\n",
       "    </tr>\n",
       "    <tr>\n",
       "      <th>28</th>\n",
       "      <td>c233d9ca7334abea7694dcc57986f306</td>\n",
       "      <td>Conservative</td>\n",
       "    </tr>\n",
       "    <tr>\n",
       "      <th>29</th>\n",
       "      <td>2c456a8f3735999c36b258628bc0824e</td>\n",
       "      <td>Conservative</td>\n",
       "    </tr>\n",
       "    <tr>\n",
       "      <th>...</th>\n",
       "      <td>...</td>\n",
       "      <td>...</td>\n",
       "    </tr>\n",
       "    <tr>\n",
       "      <th>4970</th>\n",
       "      <td>2e649075196965a8f07f00c8073118a6</td>\n",
       "      <td>Conservative</td>\n",
       "    </tr>\n",
       "    <tr>\n",
       "      <th>4971</th>\n",
       "      <td>35225c1f023de54cd3e2ccb531444497</td>\n",
       "      <td>Labour</td>\n",
       "    </tr>\n",
       "    <tr>\n",
       "      <th>4972</th>\n",
       "      <td>cfddc0e2b9b81ece64869f716c1038e4</td>\n",
       "      <td>Conservative</td>\n",
       "    </tr>\n",
       "    <tr>\n",
       "      <th>4973</th>\n",
       "      <td>8aff3d12c212b92b30c6a0489b3a34fb</td>\n",
       "      <td>Conservative</td>\n",
       "    </tr>\n",
       "    <tr>\n",
       "      <th>4974</th>\n",
       "      <td>a5aa44fbd4a11dedc1e436c1c7b16870</td>\n",
       "      <td>Labour</td>\n",
       "    </tr>\n",
       "    <tr>\n",
       "      <th>4975</th>\n",
       "      <td>c585e3abdf5269c0b12754be6f9c8cc3</td>\n",
       "      <td>Conservative</td>\n",
       "    </tr>\n",
       "    <tr>\n",
       "      <th>4976</th>\n",
       "      <td>3d724183503369b6036ecdb3addb9047</td>\n",
       "      <td>Conservative</td>\n",
       "    </tr>\n",
       "    <tr>\n",
       "      <th>4977</th>\n",
       "      <td>7ef25779cc43aa342188e79ed4b16288</td>\n",
       "      <td>Labour</td>\n",
       "    </tr>\n",
       "    <tr>\n",
       "      <th>4978</th>\n",
       "      <td>a204d10c8135288055c2cf071ec6670b</td>\n",
       "      <td>Conservative</td>\n",
       "    </tr>\n",
       "    <tr>\n",
       "      <th>4979</th>\n",
       "      <td>7a4f94582b8e83160b511fb9dedec7c4</td>\n",
       "      <td>Labour</td>\n",
       "    </tr>\n",
       "    <tr>\n",
       "      <th>4980</th>\n",
       "      <td>c97d6ea0a18fb35c27bb1523e542805e</td>\n",
       "      <td>Conservative</td>\n",
       "    </tr>\n",
       "    <tr>\n",
       "      <th>4981</th>\n",
       "      <td>f611802b0a5d25fd319179b1d736826e</td>\n",
       "      <td>Labour</td>\n",
       "    </tr>\n",
       "    <tr>\n",
       "      <th>4982</th>\n",
       "      <td>470067b90172253a582384ee770ae5f6</td>\n",
       "      <td>Labour</td>\n",
       "    </tr>\n",
       "    <tr>\n",
       "      <th>4983</th>\n",
       "      <td>310924ab4f4aed1dbd65414588c4a2f2</td>\n",
       "      <td>Other</td>\n",
       "    </tr>\n",
       "    <tr>\n",
       "      <th>4984</th>\n",
       "      <td>8559339c989d7fb57aef0582df59c08c</td>\n",
       "      <td>Conservative</td>\n",
       "    </tr>\n",
       "    <tr>\n",
       "      <th>4985</th>\n",
       "      <td>378eace09f0e72891e3d5dd86b83a546</td>\n",
       "      <td>Other</td>\n",
       "    </tr>\n",
       "    <tr>\n",
       "      <th>4986</th>\n",
       "      <td>d6305362e8adcd3686d4033352818a4b</td>\n",
       "      <td>Conservative</td>\n",
       "    </tr>\n",
       "    <tr>\n",
       "      <th>4987</th>\n",
       "      <td>68ead92f30c82085b3d02e43a8ce7c7e</td>\n",
       "      <td>Other</td>\n",
       "    </tr>\n",
       "    <tr>\n",
       "      <th>4988</th>\n",
       "      <td>0b80df0fbd16195616fec0f2704c5a79</td>\n",
       "      <td>Other</td>\n",
       "    </tr>\n",
       "    <tr>\n",
       "      <th>4989</th>\n",
       "      <td>754516f0103ac4a20ddc33a8c16d508e</td>\n",
       "      <td>Labour</td>\n",
       "    </tr>\n",
       "    <tr>\n",
       "      <th>4990</th>\n",
       "      <td>5db8dc96256527f5818278512a9db198</td>\n",
       "      <td>Labour</td>\n",
       "    </tr>\n",
       "    <tr>\n",
       "      <th>4991</th>\n",
       "      <td>419a95ca83513007c72d2eb58f3feabc</td>\n",
       "      <td>Other</td>\n",
       "    </tr>\n",
       "    <tr>\n",
       "      <th>4992</th>\n",
       "      <td>0895327391edd74ff5ecf6fcfebe1cc1</td>\n",
       "      <td>Conservative</td>\n",
       "    </tr>\n",
       "    <tr>\n",
       "      <th>4993</th>\n",
       "      <td>65480e51c413ffb15a030a9bd609a700</td>\n",
       "      <td>Labour</td>\n",
       "    </tr>\n",
       "    <tr>\n",
       "      <th>4994</th>\n",
       "      <td>734fc0538aba125db97bcfaf88c529d0</td>\n",
       "      <td>Conservative</td>\n",
       "    </tr>\n",
       "    <tr>\n",
       "      <th>4995</th>\n",
       "      <td>68f29db1345eacc005a561c4351cdcf0</td>\n",
       "      <td>Labour</td>\n",
       "    </tr>\n",
       "    <tr>\n",
       "      <th>4996</th>\n",
       "      <td>11bde6a46ee43e855708bd7a033765da</td>\n",
       "      <td>Other</td>\n",
       "    </tr>\n",
       "    <tr>\n",
       "      <th>4997</th>\n",
       "      <td>5c50902fd2c37513cdc2a204c59aec5f</td>\n",
       "      <td>Labour</td>\n",
       "    </tr>\n",
       "    <tr>\n",
       "      <th>4998</th>\n",
       "      <td>9147b22916e01d5562e5b7666ec66325</td>\n",
       "      <td>Other</td>\n",
       "    </tr>\n",
       "    <tr>\n",
       "      <th>4999</th>\n",
       "      <td>b387eb2201d7f1ec7e68a02a3232a4f6</td>\n",
       "      <td>Labour</td>\n",
       "    </tr>\n",
       "  </tbody>\n",
       "</table>\n",
       "<p>5000 rows × 2 columns</p>\n",
       "</div>"
      ],
      "text/plain": [
       "                                    id         voted\n",
       "0     e99d2e89fb5b6b4e3f501a0836e071cc  Conservative\n",
       "1     ca530285b593ad370c84521aaa2b9520         Other\n",
       "2     25325f48b51b015b78245e09d77fd70f  Conservative\n",
       "3     ff76e9f71a9b451ee73c9e0e8acd69fd        Labour\n",
       "4     7b457efc389692e01ac7129ea37ead55        Labour\n",
       "5     88c3e29546b95349fac8a4a11afd3dd6  Conservative\n",
       "6     92786bf8539d8d43efefd65f6730aa5e  Conservative\n",
       "7     e7d6cd4192f21504b078946bcb409d67  Conservative\n",
       "8     dcc1c33d92818048fa6c751768de961e        Labour\n",
       "9     9cad13b97d98cbfca2234fdd5d75af7c  Conservative\n",
       "10    8cb854de82884a8af762850b433e1e71  Conservative\n",
       "11    7a499df7ccd61b5e25eb2eeb11aa7d21        Labour\n",
       "12    8a2faef35fcd4fb95e09e32422d2bf76  Conservative\n",
       "13    4ee6bb8fc1b187f183326109a15c8b1d  Conservative\n",
       "14    d88de1a2adab52bac28d95c12bcb81ff  Conservative\n",
       "15    3a4efa50dec5c247e70da3ec1248f94a  Conservative\n",
       "16    6791b4f781393a20a80ae65281ce3a20        Labour\n",
       "17    41d9849bb6b46d27e02581ed968a004e        Labour\n",
       "18    9ddcef1502bb70baf755ae7c2584cf64        Labour\n",
       "19    767ebea91595f2803078ec4f8835d2aa         Other\n",
       "20    d3cd62550e5c266deaf7d6925a21d1c2  Conservative\n",
       "21    8a230852f6c5eaaca7e279c4ee70aa86        Labour\n",
       "22    64eabdf61f1680fa9059b88596b47219        Labour\n",
       "23    d1fd53e28e1c282bc92be868ce28a32f        Labour\n",
       "24    9decc6bde12d10f787dd4ffafc47c835  Conservative\n",
       "25    3fc2e3bcae64c9648b5e42b1130eb86b  Conservative\n",
       "26    c32e8accfd9b188d75a0b939ac121213  Conservative\n",
       "27    60fe4d65e89c7d94672c6eb6eb085108  Conservative\n",
       "28    c233d9ca7334abea7694dcc57986f306  Conservative\n",
       "29    2c456a8f3735999c36b258628bc0824e  Conservative\n",
       "...                                ...           ...\n",
       "4970  2e649075196965a8f07f00c8073118a6  Conservative\n",
       "4971  35225c1f023de54cd3e2ccb531444497        Labour\n",
       "4972  cfddc0e2b9b81ece64869f716c1038e4  Conservative\n",
       "4973  8aff3d12c212b92b30c6a0489b3a34fb  Conservative\n",
       "4974  a5aa44fbd4a11dedc1e436c1c7b16870        Labour\n",
       "4975  c585e3abdf5269c0b12754be6f9c8cc3  Conservative\n",
       "4976  3d724183503369b6036ecdb3addb9047  Conservative\n",
       "4977  7ef25779cc43aa342188e79ed4b16288        Labour\n",
       "4978  a204d10c8135288055c2cf071ec6670b  Conservative\n",
       "4979  7a4f94582b8e83160b511fb9dedec7c4        Labour\n",
       "4980  c97d6ea0a18fb35c27bb1523e542805e  Conservative\n",
       "4981  f611802b0a5d25fd319179b1d736826e        Labour\n",
       "4982  470067b90172253a582384ee770ae5f6        Labour\n",
       "4983  310924ab4f4aed1dbd65414588c4a2f2         Other\n",
       "4984  8559339c989d7fb57aef0582df59c08c  Conservative\n",
       "4985  378eace09f0e72891e3d5dd86b83a546         Other\n",
       "4986  d6305362e8adcd3686d4033352818a4b  Conservative\n",
       "4987  68ead92f30c82085b3d02e43a8ce7c7e         Other\n",
       "4988  0b80df0fbd16195616fec0f2704c5a79         Other\n",
       "4989  754516f0103ac4a20ddc33a8c16d508e        Labour\n",
       "4990  5db8dc96256527f5818278512a9db198        Labour\n",
       "4991  419a95ca83513007c72d2eb58f3feabc         Other\n",
       "4992  0895327391edd74ff5ecf6fcfebe1cc1  Conservative\n",
       "4993  65480e51c413ffb15a030a9bd609a700        Labour\n",
       "4994  734fc0538aba125db97bcfaf88c529d0  Conservative\n",
       "4995  68f29db1345eacc005a561c4351cdcf0        Labour\n",
       "4996  11bde6a46ee43e855708bd7a033765da         Other\n",
       "4997  5c50902fd2c37513cdc2a204c59aec5f        Labour\n",
       "4998  9147b22916e01d5562e5b7666ec66325         Other\n",
       "4999  b387eb2201d7f1ec7e68a02a3232a4f6        Labour\n",
       "\n",
       "[5000 rows x 2 columns]"
      ]
     },
     "execution_count": 26,
     "metadata": {},
     "output_type": "execute_result"
    }
   ],
   "source": [
    "dataset"
   ]
  },
  {
   "cell_type": "markdown",
   "metadata": {},
   "source": [
    "#### Import the dataset"
   ]
  },
  {
   "cell_type": "code",
   "execution_count": 33,
   "metadata": {},
   "outputs": [
    {
     "data": {
      "text/html": [
       "<div>\n",
       "<style scoped>\n",
       "    .dataframe tbody tr th:only-of-type {\n",
       "        vertical-align: middle;\n",
       "    }\n",
       "\n",
       "    .dataframe tbody tr th {\n",
       "        vertical-align: top;\n",
       "    }\n",
       "\n",
       "    .dataframe thead th {\n",
       "        text-align: right;\n",
       "    }\n",
       "</style>\n",
       "<table border=\"1\" class=\"dataframe\">\n",
       "  <thead>\n",
       "    <tr style=\"text-align: right;\">\n",
       "      <th></th>\n",
       "      <th>id</th>\n",
       "      <th>voted</th>\n",
       "    </tr>\n",
       "  </thead>\n",
       "  <tbody>\n",
       "    <tr>\n",
       "      <th>0</th>\n",
       "      <td>e99d2e89fb5b6b4e3f501a0836e071cc</td>\n",
       "      <td>Conservative</td>\n",
       "    </tr>\n",
       "    <tr>\n",
       "      <th>1</th>\n",
       "      <td>ca530285b593ad370c84521aaa2b9520</td>\n",
       "      <td>Other</td>\n",
       "    </tr>\n",
       "    <tr>\n",
       "      <th>2</th>\n",
       "      <td>25325f48b51b015b78245e09d77fd70f</td>\n",
       "      <td>Conservative</td>\n",
       "    </tr>\n",
       "    <tr>\n",
       "      <th>3</th>\n",
       "      <td>ff76e9f71a9b451ee73c9e0e8acd69fd</td>\n",
       "      <td>Labour</td>\n",
       "    </tr>\n",
       "    <tr>\n",
       "      <th>4</th>\n",
       "      <td>7b457efc389692e01ac7129ea37ead55</td>\n",
       "      <td>Labour</td>\n",
       "    </tr>\n",
       "  </tbody>\n",
       "</table>\n",
       "</div>"
      ],
      "text/plain": [
       "                                 id         voted\n",
       "0  e99d2e89fb5b6b4e3f501a0836e071cc  Conservative\n",
       "1  ca530285b593ad370c84521aaa2b9520         Other\n",
       "2  25325f48b51b015b78245e09d77fd70f  Conservative\n",
       "3  ff76e9f71a9b451ee73c9e0e8acd69fd        Labour\n",
       "4  7b457efc389692e01ac7129ea37ead55        Labour"
      ]
     },
     "execution_count": 33,
     "metadata": {},
     "output_type": "execute_result"
    }
   ],
   "source": [
    "# Import the dataset\n",
    "anonymized = pd.read_csv(\"exercice_2_b_anonymized_dataset.csv\") \n",
    "\n",
    "# Have a look\n",
    "anonymized.head()"
   ]
  },
  {
   "cell_type": "markdown",
   "metadata": {},
   "source": [
    "#### Creating the lookup table\n",
    "**Step 1 *(action required)*.** Breaking a salted MD5 hash is more difficult because of the increased number of combinations, but conceptually the method is the same as earlier. You will have to create a lookup table for each possible position of the salt (from 0 to 5) and each possible value of the salt (an integer between 0 and 9 included). Create a function `create_lookup_table` that takes the length of the ids, the position of the salt and the salt itself as parameters and returns the lookup table corresponding to this salt position and salt value. "
   ]
  },
  {
   "cell_type": "code",
   "execution_count": 34,
   "metadata": {},
   "outputs": [],
   "source": [
    "def create_lookup_table(N,position,salt):\n",
    "\n",
    "    # YOUR CODE HERE\n",
    "    pass\n",
    "\n",
    "# ANSWER\n",
    "    inverse_hash_salt_dict = {}\n",
    "    for ids in range(10**N):  # 10^5 for 5-digits\n",
    "        ids = str(ids).zfill(5)\n",
    "        inverse_hash_salt_dict[hashlib.md5(\"{}{}{}\".format(ids[:position],str(salt),ids[position:]).encode()).hexdigest()] = ids\n",
    "    return inverse_hash_salt_dict"
   ]
  },
  {
   "cell_type": "markdown",
   "metadata": {},
   "source": [
    "#### Finding the correct table\n",
    "**Step 2 *(action required)*.** Same as before, find the table that contains 100% of the hashed ids. This indirectly gives you the position of the salt and its value. Reuse the `intersection_size` function of exercice 2.a and the previous function to define a function `find_lookup_table` taking the anonymized dataset as parameters and returning the correct lookup table."
   ]
  },
  {
   "cell_type": "code",
   "execution_count": 35,
   "metadata": {},
   "outputs": [
    {
     "name": "stdout",
     "output_type": "stream",
     "text": [
      "Success! The salt is 4 and the position is 1.\n"
     ]
    }
   ],
   "source": [
    "def find_lookup_table(dataset):\n",
    "    \n",
    "    ## YOUR CODE HERE\n",
    "    pass\n",
    "\n",
    "\n",
    "# ANSWER\n",
    "    for salt in range(10):\n",
    "        for pos in range(5):  # all the possible positions in the 5-digit id\n",
    "            \n",
    "            table = create_lookup_table(5,pos,salt)\n",
    "            if intersection_size(dataset,table)==100:\n",
    "                print(\"Success! The salt is {} and the position is {}.\".format(salt,pos))\n",
    "                return table\n",
    "\n",
    "table = find_lookup_table(anonymized)"
   ]
  },
  {
   "cell_type": "markdown",
   "metadata": {},
   "source": [
    "#### Using the lookup table\n",
    "**Step 3 *(action required)*.** Now that you have the correct lookup table, use it to reverse the salted hashed ids as before. Use the `break_dataset` function defined in exercice 2.a and the lookup table of the previous question to de-anonymize the dataset."
   ]
  },
  {
   "cell_type": "code",
   "execution_count": 37,
   "metadata": {
    "scrolled": true
   },
   "outputs": [
    {
     "data": {
      "text/html": [
       "<div>\n",
       "<style scoped>\n",
       "    .dataframe tbody tr th:only-of-type {\n",
       "        vertical-align: middle;\n",
       "    }\n",
       "\n",
       "    .dataframe tbody tr th {\n",
       "        vertical-align: top;\n",
       "    }\n",
       "\n",
       "    .dataframe thead th {\n",
       "        text-align: right;\n",
       "    }\n",
       "</style>\n",
       "<table border=\"1\" class=\"dataframe\">\n",
       "  <thead>\n",
       "    <tr style=\"text-align: right;\">\n",
       "      <th></th>\n",
       "      <th>id</th>\n",
       "      <th>voted</th>\n",
       "    </tr>\n",
       "  </thead>\n",
       "  <tbody>\n",
       "    <tr>\n",
       "      <th>0</th>\n",
       "      <td>75721</td>\n",
       "      <td>Conservative</td>\n",
       "    </tr>\n",
       "    <tr>\n",
       "      <th>1</th>\n",
       "      <td>80184</td>\n",
       "      <td>Other</td>\n",
       "    </tr>\n",
       "    <tr>\n",
       "      <th>2</th>\n",
       "      <td>19864</td>\n",
       "      <td>Conservative</td>\n",
       "    </tr>\n",
       "    <tr>\n",
       "      <th>3</th>\n",
       "      <td>76699</td>\n",
       "      <td>Labour</td>\n",
       "    </tr>\n",
       "    <tr>\n",
       "      <th>4</th>\n",
       "      <td>92991</td>\n",
       "      <td>Labour</td>\n",
       "    </tr>\n",
       "    <tr>\n",
       "      <th>...</th>\n",
       "      <td>...</td>\n",
       "      <td>...</td>\n",
       "    </tr>\n",
       "    <tr>\n",
       "      <th>4995</th>\n",
       "      <td>44719</td>\n",
       "      <td>Labour</td>\n",
       "    </tr>\n",
       "    <tr>\n",
       "      <th>4996</th>\n",
       "      <td>20980</td>\n",
       "      <td>Other</td>\n",
       "    </tr>\n",
       "    <tr>\n",
       "      <th>4997</th>\n",
       "      <td>57224</td>\n",
       "      <td>Labour</td>\n",
       "    </tr>\n",
       "    <tr>\n",
       "      <th>4998</th>\n",
       "      <td>23910</td>\n",
       "      <td>Other</td>\n",
       "    </tr>\n",
       "    <tr>\n",
       "      <th>4999</th>\n",
       "      <td>41656</td>\n",
       "      <td>Labour</td>\n",
       "    </tr>\n",
       "  </tbody>\n",
       "</table>\n",
       "<p>5000 rows × 2 columns</p>\n",
       "</div>"
      ],
      "text/plain": [
       "         id         voted\n",
       "0     75721  Conservative\n",
       "1     80184         Other\n",
       "2     19864  Conservative\n",
       "3     76699        Labour\n",
       "4     92991        Labour\n",
       "...     ...           ...\n",
       "4995  44719        Labour\n",
       "4996  20980         Other\n",
       "4997  57224        Labour\n",
       "4998  23910         Other\n",
       "4999  41656        Labour\n",
       "\n",
       "[5000 rows x 2 columns]"
      ]
     },
     "execution_count": 37,
     "metadata": {},
     "output_type": "execute_result"
    }
   ],
   "source": [
    "## YOUR CODE HERE\n",
    "\n",
    "# ANSWER\n",
    "deanonymized = break_dataset(anonymized,table)\n",
    "deanonymized"
   ]
  },
  {
   "cell_type": "markdown",
   "metadata": {},
   "source": [
    "# 3. Hashing with long salt (optional)"
   ]
  },
  {
   "cell_type": "markdown",
   "metadata": {},
   "source": [
    "### Exercise 3 (optional) | Breaking dataset anonymized with md5 and long salt\n",
    "In real life situation, properly pseudonymized datasets use long salts of unknown length. \n",
    "\n",
    "Let's assume that you are in the ideal attack situation: \n",
    "- you know the length of the salt (a standard string of 255 lowercase letters here)\n",
    "- you know the hash function (md5)\n",
    "- you know a couple of tuples (real id, hashed id)\n",
    "- you know the position of the salt (appended at the end of the real id) \n",
    "\n",
    "Note that in general it might be hard for an attacker to gain this background information. However, a fundamental principle in computer security is that _security through obscurity_ is not a robust approach (see also [Kerckhoffs's principle](https://en.wikipedia.org/wiki/Kerckhoffs%27s_principle)).\n",
    "\n",
    "The only thing that you don't know is the salt itself. Adapting what has been done in exercice 2 and knowing all this external information to reduce the searching space, find the salt to deanonymize the dataset."
   ]
  },
  {
   "cell_type": "code",
   "execution_count": 38,
   "metadata": {},
   "outputs": [],
   "source": [
    "#### REMOVE THE CELL BELOW"
   ]
  },
  {
   "cell_type": "code",
   "execution_count": 39,
   "metadata": {},
   "outputs": [],
   "source": [
    "import itertools\n",
    "import random\n",
    "import string\n",
    "\n",
    "# Creating the anonymised table here\n",
    "\n",
    "np.random.seed(42)\n",
    "pos = 5 # at the end\n",
    "salt = \"\".join([random.choice(string.ascii_lowercase) for _ in range(255)]) # any char for the salt\n",
    "\n",
    "# To apply the hash\n",
    "def hashing(ids,salt=salt,position=pos):\n",
    "    return hashlib.md5(\"{}{}{}\".format(str(ids)[:position],salt,str(ids)[position:]).encode()).hexdigest()\n",
    "\n",
    "# Creating a fake table here\n",
    "dataset = pd.DataFrame({\"id\": np.random.choice(10**5, 5000, replace=False),\n",
    "                        \"leukemia\" : np.random.choice([0,1], 5000, p=[0.6, 0.4])})\n",
    "dataset[\"id\"] = dataset[\"id\"].apply(hashing) # apply the hash function\n",
    "dataset.to_csv(\"exercice_3_anonymized_dataset.csv\",index=False) # export"
   ]
  },
  {
   "cell_type": "markdown",
   "metadata": {},
   "source": [
    "#### Import the dataset"
   ]
  },
  {
   "cell_type": "code",
   "execution_count": 40,
   "metadata": {},
   "outputs": [
    {
     "data": {
      "text/html": [
       "<div>\n",
       "<style scoped>\n",
       "    .dataframe tbody tr th:only-of-type {\n",
       "        vertical-align: middle;\n",
       "    }\n",
       "\n",
       "    .dataframe tbody tr th {\n",
       "        vertical-align: top;\n",
       "    }\n",
       "\n",
       "    .dataframe thead th {\n",
       "        text-align: right;\n",
       "    }\n",
       "</style>\n",
       "<table border=\"1\" class=\"dataframe\">\n",
       "  <thead>\n",
       "    <tr style=\"text-align: right;\">\n",
       "      <th></th>\n",
       "      <th>id</th>\n",
       "      <th>leukemia</th>\n",
       "    </tr>\n",
       "  </thead>\n",
       "  <tbody>\n",
       "    <tr>\n",
       "      <th>0</th>\n",
       "      <td>287bf013bfa507d00d5a55e8741e3f60</td>\n",
       "      <td>0</td>\n",
       "    </tr>\n",
       "    <tr>\n",
       "      <th>1</th>\n",
       "      <td>362a8183e49ca75d547073c43d1372d0</td>\n",
       "      <td>1</td>\n",
       "    </tr>\n",
       "    <tr>\n",
       "      <th>2</th>\n",
       "      <td>0020f64bf60bb1c618d5a77459ada627</td>\n",
       "      <td>1</td>\n",
       "    </tr>\n",
       "    <tr>\n",
       "      <th>3</th>\n",
       "      <td>debb7f476e8942d4cf10f7621d067561</td>\n",
       "      <td>0</td>\n",
       "    </tr>\n",
       "    <tr>\n",
       "      <th>4</th>\n",
       "      <td>925e4a7ec78694d5ef321769faf15087</td>\n",
       "      <td>0</td>\n",
       "    </tr>\n",
       "  </tbody>\n",
       "</table>\n",
       "</div>"
      ],
      "text/plain": [
       "                                 id  leukemia\n",
       "0  287bf013bfa507d00d5a55e8741e3f60         0\n",
       "1  362a8183e49ca75d547073c43d1372d0         1\n",
       "2  0020f64bf60bb1c618d5a77459ada627         1\n",
       "3  debb7f476e8942d4cf10f7621d067561         0\n",
       "4  925e4a7ec78694d5ef321769faf15087         0"
      ]
     },
     "execution_count": 40,
     "metadata": {},
     "output_type": "execute_result"
    }
   ],
   "source": [
    "# Import the dataset\n",
    "anonymized = pd.read_csv(\"exercice_3_anonymized_dataset.csv\") \n",
    "\n",
    "# Have a look\n",
    "anonymized.head()"
   ]
  },
  {
   "cell_type": "markdown",
   "metadata": {},
   "source": [
    "#### Finding the salt\n",
    "**Step 1 *(action required)*.** Create a function `find_salt` that takes the dataset, the id_known and the corresponding_hashed_ids as parameters and returns the salt. Run it to get the salt."
   ]
  },
  {
   "cell_type": "code",
   "execution_count": 41,
   "metadata": {
    "scrolled": true
   },
   "outputs": [
    {
     "ename": "KeyboardInterrupt",
     "evalue": "",
     "output_type": "error",
     "traceback": [
      "\u001b[0;31m---------------------------------------------------------------------------\u001b[0m",
      "\u001b[0;31mKeyboardInterrupt\u001b[0m                         Traceback (most recent call last)",
      "\u001b[0;32m<ipython-input-41-3bfd3c7c265f>\u001b[0m in \u001b[0;36m<module>\u001b[0;34m\u001b[0m\n\u001b[1;32m     22\u001b[0m             \u001b[0;32mreturn\u001b[0m \u001b[0msalt_str\u001b[0m\u001b[0;34m\u001b[0m\u001b[0;34m\u001b[0m\u001b[0m\n\u001b[1;32m     23\u001b[0m \u001b[0;34m\u001b[0m\u001b[0m\n\u001b[0;32m---> 24\u001b[0;31m \u001b[0msalt\u001b[0m \u001b[0;34m=\u001b[0m \u001b[0mfind_salt\u001b[0m\u001b[0;34m(\u001b[0m\u001b[0manonymized\u001b[0m\u001b[0;34m,\u001b[0m\u001b[0mid_known\u001b[0m\u001b[0;34m,\u001b[0m\u001b[0mcorresponding_hashed_ids\u001b[0m\u001b[0;34m)\u001b[0m\u001b[0;34m\u001b[0m\u001b[0;34m\u001b[0m\u001b[0m\n\u001b[0m",
      "\u001b[0;32m<ipython-input-41-3bfd3c7c265f>\u001b[0m in \u001b[0;36mfind_salt\u001b[0;34m(dataset, id_known, corresponding_hashed_ids)\u001b[0m\n\u001b[1;32m     17\u001b[0m         \u001b[0msalt_str\u001b[0m \u001b[0;34m=\u001b[0m \u001b[0;34m''\u001b[0m\u001b[0;34m.\u001b[0m\u001b[0mjoin\u001b[0m\u001b[0;34m(\u001b[0m\u001b[0mlist\u001b[0m\u001b[0;34m(\u001b[0m\u001b[0msalt\u001b[0m\u001b[0;34m)\u001b[0m\u001b[0;34m)\u001b[0m\u001b[0;34m\u001b[0m\u001b[0;34m\u001b[0m\u001b[0m\n\u001b[1;32m     18\u001b[0m         \u001b[0msalted_id\u001b[0m \u001b[0;34m=\u001b[0m \u001b[0;34m\"{}{}\"\u001b[0m\u001b[0;34m.\u001b[0m\u001b[0mformat\u001b[0m\u001b[0;34m(\u001b[0m\u001b[0mstr\u001b[0m\u001b[0;34m(\u001b[0m\u001b[0mid_known\u001b[0m\u001b[0;34m[\u001b[0m\u001b[0;36m0\u001b[0m\u001b[0;34m]\u001b[0m\u001b[0;34m)\u001b[0m\u001b[0;34m,\u001b[0m\u001b[0msalt_str\u001b[0m\u001b[0;34m)\u001b[0m\u001b[0;34m\u001b[0m\u001b[0;34m\u001b[0m\u001b[0m\n\u001b[0;32m---> 19\u001b[0;31m         \u001b[0mhashed_id\u001b[0m \u001b[0;34m=\u001b[0m \u001b[0mhashlib\u001b[0m\u001b[0;34m.\u001b[0m\u001b[0mmd5\u001b[0m\u001b[0;34m(\u001b[0m\u001b[0msalted_id\u001b[0m\u001b[0;34m.\u001b[0m\u001b[0mencode\u001b[0m\u001b[0;34m(\u001b[0m\u001b[0;34m)\u001b[0m\u001b[0;34m)\u001b[0m\u001b[0;34m.\u001b[0m\u001b[0mhexdigest\u001b[0m\u001b[0;34m(\u001b[0m\u001b[0;34m)\u001b[0m\u001b[0;34m\u001b[0m\u001b[0;34m\u001b[0m\u001b[0m\n\u001b[0m\u001b[1;32m     20\u001b[0m         \u001b[0;32mif\u001b[0m \u001b[0mhashed_id\u001b[0m \u001b[0;34m==\u001b[0m \u001b[0mcorresponding_hashed_ids\u001b[0m\u001b[0;34m[\u001b[0m\u001b[0;36m0\u001b[0m\u001b[0;34m]\u001b[0m\u001b[0;34m:\u001b[0m\u001b[0;34m\u001b[0m\u001b[0;34m\u001b[0m\u001b[0m\n\u001b[1;32m     21\u001b[0m             \u001b[0mprint\u001b[0m\u001b[0;34m(\u001b[0m\u001b[0;34m\"Success! The salt is {}.\"\u001b[0m\u001b[0;34m.\u001b[0m\u001b[0mformat\u001b[0m\u001b[0;34m(\u001b[0m\u001b[0msalt\u001b[0m\u001b[0;34m)\u001b[0m\u001b[0;34m)\u001b[0m\u001b[0;34m\u001b[0m\u001b[0;34m\u001b[0m\u001b[0m\n",
      "\u001b[0;31mKeyboardInterrupt\u001b[0m: "
     ]
    }
   ],
   "source": [
    "# External knowledge\n",
    "id_known = [75721, 80184, 19864, 76699, 92991]\n",
    "corresponding_hashed_ids = ['4970daee1c3236a77bf045577f0ee62b',\n",
    "        '4f8bcc5db2565c5a96d4452ed9edbaca',\n",
    "        'e9a579e5e070bc9a339c0b1819088628',\n",
    "        '61594b8066fbb7fab77bc53e098e5f7c',\n",
    "        '484a013245c1929c8337c7cddb745ba0']\n",
    "\n",
    "\n",
    "def find_salt(dataset,id_known,corresponding_hashed_ids):\n",
    "    for salt in itertools.product(string.ascii_lowercase,repeat=255):  \n",
    "\n",
    "        ## YOUR CODE HERE\n",
    "        pass\n",
    "        \n",
    "    # ANSWER\n",
    "        salt_str = ''.join(list(salt))\n",
    "        salted_id = \"{}{}\".format(str(id_known[0]),salt_str)\n",
    "        hashed_id = hashlib.md5(salted_id.encode()).hexdigest()\n",
    "        if hashed_id == corresponding_hashed_ids[0]:\n",
    "            print(\"Success! The salt is {}.\".format(salt))\n",
    "            return salt_str\n",
    "\n",
    "salt = find_salt(anonymized,id_known,corresponding_hashed_ids)"
   ]
  },
  {
   "cell_type": "markdown",
   "metadata": {},
   "source": [
    "**Step 2 *(action required)*.** How long is it taking? How many strings does your code have to try for the salt? Do you think you will ever find the salt?"
   ]
  },
  {
   "cell_type": "markdown",
   "metadata": {},
   "source": [
    "_Your answer here._\n",
    "\n",
    "Really long. Each possible salt is a string of 255 characters, with 26 possibilities for each character. Hence, the code has to test $26^{255}$ salts. As you can see, that is quite a large number:"
   ]
  },
  {
   "cell_type": "code",
   "execution_count": 38,
   "metadata": {},
   "outputs": [
    {
     "data": {
      "text/plain": [
       "6579664246196809479770048422281221344599186573439776643626200700309297664594419494242414850452473498475567416985016665464963420226330918018008332295924071903981306011193109790564513805495648671811521743188149150247606893434202316719238779244248289732481959442518481015308802277394718431550534343716008574084199765909665454552399442958037633427202276361162981376"
      ]
     },
     "execution_count": 38,
     "metadata": {},
     "output_type": "execute_result"
    }
   ],
   "source": [
    "26**255"
   ]
  },
  {
   "cell_type": "code",
   "execution_count": 39,
   "metadata": {},
   "outputs": [
    {
     "data": {
      "text/plain": [
       "360.8182037325586"
      ]
     },
     "execution_count": 39,
     "metadata": {},
     "output_type": "execute_result"
    }
   ],
   "source": [
    "import math\n",
    "math.log10(26**255)"
   ]
  },
  {
   "cell_type": "markdown",
   "metadata": {},
   "source": [
    "For comparison, the universe is approximately $4.35 \\cdot 10^{17}$ _seconds_ old. If each lookup operation were to take 10~ns (which is a big underestimation), then the code would take approximately **$\\sim 10^{335}$** universes to complete, in the worst case. In other words, your code is _probably_ not going to end before the end of your life, and even if every single human in the universe were to help you, it wouldn't help you. If every particle in the universe ($\\sim 10^{80}$) were to be able to perform one computation per nanosecond, it would still take about $10^{254}$ universes. I'm not optimistic about your chances of bruteforcing this salt."
   ]
  },
  {
   "cell_type": "markdown",
   "metadata": {},
   "source": [
    "## Exercise 4 | k-anonymizing a dataset"
   ]
  },
  {
   "cell_type": "markdown",
   "metadata": {},
   "source": [
    "In this exercise, you will take a (correctly) pseudonymized dataset, and $k-$anonymize it to protect against re-identification attacks based on quasi-identifiers. You will then perform an attack to show the limits of $k-$anonymity.\n",
    "\n",
    "In the dataset we consider, the meaning of each attribute is:\n",
    "\n",
    "`id` = hashed (pseudonymous) id <br>\n",
    "`gender` = male or female <br>\n",
    "`education` = the level of education, 0 = highschools, 1 = bachelors, 2 = masters, 3 = PhD<br>\n",
    "`age` = age in years<br>\n",
    "`vote` = Conservative, Labour or other<br>\n",
    "\n",
    "**Take a moment to think about each attribute and figure if it is a quasi-identifier or sensitive information.**"
   ]
  },
  {
   "cell_type": "markdown",
   "metadata": {},
   "source": [
    "### Loading the data"
   ]
  },
  {
   "cell_type": "code",
   "execution_count": 1,
   "metadata": {},
   "outputs": [],
   "source": [
    "import pandas as pd\n",
    "import numpy as np\n",
    "import hashlib\n",
    "import random\n",
    "import matplotlib.pyplot as plt\n",
    "import collections"
   ]
  },
  {
   "cell_type": "code",
   "execution_count": 2,
   "metadata": {},
   "outputs": [
    {
     "data": {
      "text/html": [
       "<div>\n",
       "<style scoped>\n",
       "    .dataframe tbody tr th:only-of-type {\n",
       "        vertical-align: middle;\n",
       "    }\n",
       "\n",
       "    .dataframe tbody tr th {\n",
       "        vertical-align: top;\n",
       "    }\n",
       "\n",
       "    .dataframe thead th {\n",
       "        text-align: right;\n",
       "    }\n",
       "</style>\n",
       "<table border=\"1\" class=\"dataframe\">\n",
       "  <thead>\n",
       "    <tr style=\"text-align: right;\">\n",
       "      <th></th>\n",
       "      <th>id</th>\n",
       "      <th>gender</th>\n",
       "      <th>education</th>\n",
       "      <th>age</th>\n",
       "      <th>vote</th>\n",
       "    </tr>\n",
       "  </thead>\n",
       "  <tbody>\n",
       "    <tr>\n",
       "      <th>0</th>\n",
       "      <td>0abbca2eb5b8529c30ced0ecd42474f7</td>\n",
       "      <td>male</td>\n",
       "      <td>0</td>\n",
       "      <td>51</td>\n",
       "      <td>Conservative</td>\n",
       "    </tr>\n",
       "    <tr>\n",
       "      <th>1</th>\n",
       "      <td>e0768cf24cc95016227593da14955294</td>\n",
       "      <td>male</td>\n",
       "      <td>3</td>\n",
       "      <td>51</td>\n",
       "      <td>Conservative</td>\n",
       "    </tr>\n",
       "    <tr>\n",
       "      <th>2</th>\n",
       "      <td>a3d4af017470663d3456f3620ccb39cc</td>\n",
       "      <td>male</td>\n",
       "      <td>2</td>\n",
       "      <td>30</td>\n",
       "      <td>Labour</td>\n",
       "    </tr>\n",
       "    <tr>\n",
       "      <th>3</th>\n",
       "      <td>c63b873b30320a9236309dc36f1d50f7</td>\n",
       "      <td>female</td>\n",
       "      <td>1</td>\n",
       "      <td>24</td>\n",
       "      <td>Labour</td>\n",
       "    </tr>\n",
       "    <tr>\n",
       "      <th>4</th>\n",
       "      <td>c3ac93624fa74f2c80f5ddb875275849</td>\n",
       "      <td>female</td>\n",
       "      <td>0</td>\n",
       "      <td>73</td>\n",
       "      <td>Conservative</td>\n",
       "    </tr>\n",
       "  </tbody>\n",
       "</table>\n",
       "</div>"
      ],
      "text/plain": [
       "                                 id  gender  education  age          vote\n",
       "0  0abbca2eb5b8529c30ced0ecd42474f7    male          0   51  Conservative\n",
       "1  e0768cf24cc95016227593da14955294    male          3   51  Conservative\n",
       "2  a3d4af017470663d3456f3620ccb39cc    male          2   30        Labour\n",
       "3  c63b873b30320a9236309dc36f1d50f7  female          1   24        Labour\n",
       "4  c3ac93624fa74f2c80f5ddb875275849  female          0   73  Conservative"
      ]
     },
     "execution_count": 2,
     "metadata": {},
     "output_type": "execute_result"
    }
   ],
   "source": [
    "dataset1  = pd.read_csv(\"exercise4.csv\")\n",
    "dataset1.head()"
   ]
  },
  {
   "cell_type": "markdown",
   "metadata": {},
   "source": [
    "### 4.A | Anonymizing the dataset\n",
    "\n",
    "Firstly, let's inspect the dataset and compute the equivalence classes. Then, we will perform the $k-$anonymization by removing rows belonging to small equivalence classes (this works because our dataset is not very rich, and a lot of records are naturally part of a large equivalence class).\n",
    "\n",
    "#### 4.A.i | Inspecting the equivalence classes\n",
    "\n",
    "**Step 1 *(action required)*.** We want to take a look at the equivalence classes and their number of elements in order to k-anonymize the dataset. \n",
    "\n",
    "Start by defining a function `size_equivalence_classes` that takes a dataset as parameter and returns the list of the sizes of its equivalence classes.\n",
    "\n",
    "_Hint: Use the `groupby` function._"
   ]
  },
  {
   "cell_type": "code",
   "execution_count": 10,
   "metadata": {},
   "outputs": [],
   "source": [
    "def size_equivalence_classes(dataset):\n",
    "    '''Returns the list of sizes of the equivalence classes in the dataset.'''\n",
    "    \n",
    "    # YOUR CODE HERE\n",
    "    pass\n",
    "\n",
    "#ANSWER\n",
    "\n",
    "    grouped = dataset.groupby(list(dataset.columns[1:-1])) # all the columns except the id and the vote\n",
    "    return [len(g[1]) for g in grouped]\n",
    "    "
   ]
  },
  {
   "cell_type": "markdown",
   "metadata": {},
   "source": [
    "**Step 2.** Now let's plot the distribution of equivalence classes as a histogram."
   ]
  },
  {
   "cell_type": "code",
   "execution_count": 11,
   "metadata": {},
   "outputs": [
    {
     "name": "stdout",
     "output_type": "stream",
     "text": [
      "[28. 28. 24. 14. 26. 14.  8. 13. 10.  5.  4.  7.  4.  2.  1.  2.  0.  0.\n",
      "  1.]\n"
     ]
    },
    {
     "data": {
      "image/png": "[encoded data removed]",
      "text/plain": [
       "<Figure size 1080x720 with 1 Axes>"
      ]
     },
     "metadata": {
      "needs_background": "light"
     },
     "output_type": "display_data"
    }
   ],
   "source": [
    "# Run this cell to see the results of the plot\n",
    "\n",
    "# compute the size of equivalence classes\n",
    "nb = size_equivalence_classes(dataset1)\n",
    "\n",
    "# plot a histogram\n",
    "plt.figure(figsize=(15,10))\n",
    "a = plt.hist(nb, bins=np.arange(1, max(nb)+2, 1), align='left', width=.9)\n",
    "print(a[0])\n",
    "plt.xlabel(\"Size of Equivalence Classes\") # with nice axis and title!\n",
    "plt.ylabel(\"Number of Equivalence Classes\")\n",
    "plt.title(\"Number of Equivalence Classes by Size of Equivalence Classes\")\n",
    "plt.xticks(range(1, max(nb)+1)); # for ticks on the x axis to go from 1 to max"
   ]
  },
  {
   "cell_type": "markdown",
   "metadata": {},
   "source": [
    "#### 4.A.ii | Removing equivalence classes\n",
    "\n",
    "Suppose that we want to 4-anonymize this dataset by _only removing rows_ (no generalisation, column suppression, etc). What is the minimum number of rows that you would need to remove in order to assure 4-anonymity ? \n",
    "\n",
    "**Step 3 *(action required)*.** Using the previous function to create the dictionary of the number of equivalence classes, define a function `nb_to_remove` that takes k and the dataset as parameters and returns the minimum number of rows to remove in order to assure k-anonymity of the dataset."
   ]
  },
  {
   "cell_type": "code",
   "execution_count": 5,
   "metadata": {},
   "outputs": [
    {
     "data": {
      "text/plain": [
       "156"
      ]
     },
     "execution_count": 5,
     "metadata": {},
     "output_type": "execute_result"
    }
   ],
   "source": [
    "def nb_to_remove(k,dataset):\n",
    "    \n",
    "    lengths = size_equivalence_classes(dataset)\n",
    "\n",
    "    # YOUR CODE HERE\n",
    "    pass\n",
    "\n",
    "# ANSWER\n",
    "\n",
    "    result = 0\n",
    "    \n",
    "    for l in lengths:\n",
    "        if l < k:\n",
    "            result += l\n",
    "    \n",
    "    return result\n",
    "\n",
    "nb_to_remove(4,dataset1)"
   ]
  },
  {
   "cell_type": "markdown",
   "metadata": {},
   "source": [
    "Did you obtain a minimum number of rows of 156?\n",
    "\n",
    "Now we want to find _which rows_ need to be removed in order to achieve a given level of anonymity k.\n",
    "\n",
    "**Step 4 *(action required)*.** Define a function `to_be_removed` that takes k and the dataset as parameters and returns the list of rows to remove. (You should check that the length of this list is the same as the result of the previous question)\n",
    "\n",
    "_Hint: use `groupby` again, and the `.index` attribute of a `pandas.DataFrame` to obtain recods._"
   ]
  },
  {
   "cell_type": "code",
   "execution_count": 46,
   "metadata": {},
   "outputs": [],
   "source": [
    "def to_be_removed(k,dataset):\n",
    "    \n",
    "    result = []\n",
    "    \n",
    "    ## YOUR CODE HERE\n",
    "    pass\n",
    "\n",
    "# ANSWER\n",
    "    grouped = dataset.groupby(list(dataset.columns[1:-1]))\n",
    "        \n",
    "    for group in grouped:\n",
    "        equivalence_class = group[1]\n",
    "        if len(equivalence_class)<k:\n",
    "            for row_index in equivalence_class.index:\n",
    "                result.append(row_index)\n",
    "                \n",
    "    return result"
   ]
  },
  {
   "cell_type": "markdown",
   "metadata": {},
   "source": [
    "**Step 5 *(action required)*.** It is now time to actually remove these rows. Define a function `remove_rows` taking as parameters k and the dataset and returning the k-anonymized dataset, that uses `to_be_removed` to identify the rows to remove. In order to keep the original one intact, work on a copy of it.\n",
    "\n",
    "(Hint: the `drop` method of a pandas DataFrame is quick enough for a small dataset like this one)"
   ]
  },
  {
   "cell_type": "code",
   "execution_count": 47,
   "metadata": {},
   "outputs": [],
   "source": [
    "def remove_rows(k,dataset):\n",
    "    \n",
    "    result = dataset.copy()\n",
    "    \n",
    "    # YOUR CODE HERE\n",
    "    pass\n",
    "\n",
    "# ANSWER\n",
    "    to_remove = to_be_removed(k,dataset)\n",
    "    \n",
    "    for row_index in to_remove:\n",
    "        result.drop(row_index, inplace=True)\n",
    "    \n",
    "    return result"
   ]
  },
  {
   "cell_type": "markdown",
   "metadata": {},
   "source": [
    "**Step 6 _(action required)_** Check that your code works by plotting the size of the equivalence classes of a k_anonymized dataset (you choose the `k`)."
   ]
  },
  {
   "cell_type": "code",
   "execution_count": 48,
   "metadata": {},
   "outputs": [],
   "source": [
    "k = 4 ### YOUR CHOICE\n",
    "\n",
    "k_anonymized = remove_rows(k,dataset1)"
   ]
  },
  {
   "cell_type": "code",
   "execution_count": 49,
   "metadata": {},
   "outputs": [
    {
     "data": {
      "image/png": "[encoded data removed]",
      "text/plain": [
       "<Figure size 1080x720 with 1 Axes>"
      ]
     },
     "metadata": {
      "needs_background": "light"
     },
     "output_type": "display_data"
    }
   ],
   "source": [
    "# Run this cell (again) to see the results of the plot\n",
    "\n",
    "# compute the size of equivalence classes\n",
    "nb = size_equivalence_classes(k_anonymized)\n",
    "\n",
    "# plot a histogram\n",
    "plt.figure(figsize=(15,10))\n",
    "a = plt.hist(nb, bins=np.arange(1, max(nb)+2, 1), align='left', width=.9)\n",
    "plt.xlabel(\"Size of Equivalence Classes\") # with nice axis and title!\n",
    "plt.ylabel(\"Number of Equivalence Classes\")\n",
    "plt.title(\"Number of Equivalence Classes by Size of Equivalence Classes\")\n",
    "plt.xticks(range(1, max(nb)+1)); # for ticks on the x axis to go from 1 to max"
   ]
  },
  {
   "cell_type": "markdown",
   "metadata": {},
   "source": [
    "### 4.B | Homogeneity attacks\n",
    "\n",
    "We want to check whether a k-anonymized dataset is vulnerable to any _homogeneity attack_ (that is the case when at least one of the equivalence classes has the same sensitive attribute value accross its rows). This will be used to check the dataset you just 4-anonymized in the previous section.\n",
    "\n",
    "**Step 1 *(action required)*.** Define a function `homogeneity_attackable` that takes the anonymized dataset as parameter and return a boolean indicating whether an homogeneity attack is possible or not on the anonymized dataset. "
   ]
  },
  {
   "cell_type": "code",
   "execution_count": 50,
   "metadata": {},
   "outputs": [],
   "source": [
    "def homogeneity_attackable(dataset):\n",
    "    \n",
    "    # YOUR CODE HERE\n",
    "    pass\n",
    "\n",
    "#ANSWER\n",
    "\n",
    "    grouped = dataset.groupby(list(dataset.columns[1:-1]))\n",
    "\n",
    "    for group in grouped:\n",
    "        equivalence_class = group[1]\n",
    "        \n",
    "        # this means that the values in the vote column for that equivalence class are all the same\n",
    "        if len(pd.value_counts(equivalence_class[equivalence_class.columns[-1]])) == 1:\n",
    "            return True\n",
    "    \n",
    "    return False"
   ]
  },
  {
   "cell_type": "markdown",
   "metadata": {},
   "source": [
    "**Step 2 *(action required)*.** The value of k chosen earlier directly impacts the level of protection against homogeneity attacks. You can play with this function and the `remove_rows` function when you are done with exercise 2 to check it yourself. What is the smallest `k` for which the dataset is safe? How many records are left after that?"
   ]
  },
  {
   "cell_type": "code",
   "execution_count": 51,
   "metadata": {},
   "outputs": [
    {
     "name": "stdout",
     "output_type": "stream",
     "text": [
      "records left: 51\n"
     ]
    },
    {
     "data": {
      "text/plain": [
       "False"
      ]
     },
     "execution_count": 51,
     "metadata": {},
     "output_type": "execute_result"
    }
   ],
   "source": [
    "k = 16 ### YOUR CHOICE HERE\n",
    "\n",
    "k_anonymized = remove_rows(k,dataset1)\n",
    "\n",
    "print('records left:', len((k_anonymized)))\n",
    "\n",
    "homogeneity_attackable(k_anonymized)"
   ]
  },
  {
   "cell_type": "markdown",
   "metadata": {},
   "source": [
    "## Exercise 5 | Semantic attacks"
   ]
  },
  {
   "cell_type": "markdown",
   "metadata": {},
   "source": [
    "In this exercise, we are providing you with another dataset that has been properly pseudonymized and 3-anonymized. We want to make sure that a semantic attack is not possible before publishing it. \n",
    "\n",
    "#### Load the dataset"
   ]
  },
  {
   "cell_type": "code",
   "execution_count": 52,
   "metadata": {},
   "outputs": [
    {
     "data": {
      "text/html": [
       "<div>\n",
       "<style scoped>\n",
       "    .dataframe tbody tr th:only-of-type {\n",
       "        vertical-align: middle;\n",
       "    }\n",
       "\n",
       "    .dataframe tbody tr th {\n",
       "        vertical-align: top;\n",
       "    }\n",
       "\n",
       "    .dataframe thead th {\n",
       "        text-align: right;\n",
       "    }\n",
       "</style>\n",
       "<table border=\"1\" class=\"dataframe\">\n",
       "  <thead>\n",
       "    <tr style=\"text-align: right;\">\n",
       "      <th></th>\n",
       "      <th>id</th>\n",
       "      <th>gender</th>\n",
       "      <th>zipcode</th>\n",
       "      <th>employment_status</th>\n",
       "      <th>education</th>\n",
       "      <th>marital_status</th>\n",
       "      <th>children</th>\n",
       "      <th>military_service</th>\n",
       "      <th>disease</th>\n",
       "    </tr>\n",
       "  </thead>\n",
       "  <tbody>\n",
       "    <tr>\n",
       "      <th>0</th>\n",
       "      <td>c770660dcc3fac7431e419f2a347ab63</td>\n",
       "      <td>female</td>\n",
       "      <td>89136</td>\n",
       "      <td>retired</td>\n",
       "      <td>bachelors</td>\n",
       "      <td>married</td>\n",
       "      <td>1</td>\n",
       "      <td>no</td>\n",
       "      <td>hypertension</td>\n",
       "    </tr>\n",
       "    <tr>\n",
       "      <th>1</th>\n",
       "      <td>12bb504256f39f80fb98ac34d844bf84</td>\n",
       "      <td>male</td>\n",
       "      <td>89127</td>\n",
       "      <td>employed</td>\n",
       "      <td>masters</td>\n",
       "      <td>married</td>\n",
       "      <td>2</td>\n",
       "      <td>no</td>\n",
       "      <td>prostate cancer</td>\n",
       "    </tr>\n",
       "    <tr>\n",
       "      <th>2</th>\n",
       "      <td>cd17807810a8b34a5e140dfe249636fd</td>\n",
       "      <td>male</td>\n",
       "      <td>44101</td>\n",
       "      <td>retired</td>\n",
       "      <td>bachelors</td>\n",
       "      <td>married</td>\n",
       "      <td>2</td>\n",
       "      <td>no</td>\n",
       "      <td>multiple sclerosis</td>\n",
       "    </tr>\n",
       "    <tr>\n",
       "      <th>3</th>\n",
       "      <td>de66fb860a6edf9a6fddf7f3f6917088</td>\n",
       "      <td>female</td>\n",
       "      <td>43221</td>\n",
       "      <td>employed</td>\n",
       "      <td>bachelors</td>\n",
       "      <td>married</td>\n",
       "      <td>2</td>\n",
       "      <td>no</td>\n",
       "      <td>breast cancer</td>\n",
       "    </tr>\n",
       "    <tr>\n",
       "      <th>4</th>\n",
       "      <td>be0d156c8a82399f39ab85def110ea1f</td>\n",
       "      <td>female</td>\n",
       "      <td>94105</td>\n",
       "      <td>employed</td>\n",
       "      <td>bachelors</td>\n",
       "      <td>married</td>\n",
       "      <td>2</td>\n",
       "      <td>no</td>\n",
       "      <td>hypertension</td>\n",
       "    </tr>\n",
       "  </tbody>\n",
       "</table>\n",
       "</div>"
      ],
      "text/plain": [
       "                                 id  gender  zipcode employment_status  \\\n",
       "0  c770660dcc3fac7431e419f2a347ab63  female    89136           retired   \n",
       "1  12bb504256f39f80fb98ac34d844bf84    male    89127          employed   \n",
       "2  cd17807810a8b34a5e140dfe249636fd    male    44101           retired   \n",
       "3  de66fb860a6edf9a6fddf7f3f6917088  female    43221          employed   \n",
       "4  be0d156c8a82399f39ab85def110ea1f  female    94105          employed   \n",
       "\n",
       "   education marital_status  children military_service             disease  \n",
       "0  bachelors        married         1               no        hypertension  \n",
       "1    masters        married         2               no     prostate cancer  \n",
       "2  bachelors        married         2               no  multiple sclerosis  \n",
       "3  bachelors        married         2               no       breast cancer  \n",
       "4  bachelors        married         2               no        hypertension  "
      ]
     },
     "execution_count": 52,
     "metadata": {},
     "output_type": "execute_result"
    }
   ],
   "source": [
    "dataset2 = pd.read_csv('exercise5.csv')\n",
    "dataset2.head()"
   ]
  },
  {
   "cell_type": "markdown",
   "metadata": {},
   "source": [
    "#### A function to detect semantic similarity \n",
    "\n",
    "A _semantic attack_ uses real-world knowledge of the private attribute to learn something about users in the dataset. If all people in an equivalence class have the word `cancer` in their `disease` field, then clearly the attacker can learn something about the people in this class.\n",
    "\n",
    "**Step 1.** We define a function `too_close` that takes a list of strings (typically diseases names here) `string_list` and a list of stop words (i.e. words that do not give any information, such as 'disease' in this case) `stop_words` as parameters, and returns a boolean indicating whether all the strings in `string_list` all share at least one word, and that word is not in the `stop_word` list. For instance, if `string_list = [\"skin cancer\",\"prostate cancer\"]` and `stop_words = ['disease']` should return True, but if `stop_words=['cancer']`, it should return False. For simplicity, the function is already defined, but you should read the code and understand how it works (it uses [sets](https://snakify.org/en/lessons/sets/))."
   ]
  },
  {
   "cell_type": "code",
   "execution_count": 53,
   "metadata": {},
   "outputs": [],
   "source": [
    "def too_close(string_list,stop_words):\n",
    "    '''Returns True if all strings in string_list share a word, that is not part of stop words'''\n",
    "    \n",
    "    # defensive programming: ensure correct input format (can be passed any iterable)\n",
    "    string_list = list(string_list)\n",
    "    stop_words  = list(stop_words)\n",
    "    \n",
    "    if not string_list:\n",
    "        return False # no string in the list!\n",
    "\n",
    "    # create the initial bag of shared words from the first string\n",
    "    words = set(string_list[0].lower().split())\n",
    "    \n",
    "    # remove all stop words from this list (they can't be part of the intersection)\n",
    "    words.difference_update( set(stop_words) )\n",
    "        \n",
    "    for s in string_list[1:]:\n",
    "        # compute the intersection of words shared by previous strings and the string s\n",
    "        words.intersection_update(set(s.lower().split()))\n",
    "    \n",
    "    # do all strings share at least one non-stop word?\n",
    "    return len(words) > 0"
   ]
  },
  {
   "cell_type": "code",
   "execution_count": 54,
   "metadata": {},
   "outputs": [
    {
     "data": {
      "text/plain": [
       "True"
      ]
     },
     "execution_count": 54,
     "metadata": {},
     "output_type": "execute_result"
    }
   ],
   "source": [
    "# test 1\n",
    "too_close(['skin cancer', 'prostate cancer'], ['disease'])"
   ]
  },
  {
   "cell_type": "code",
   "execution_count": 55,
   "metadata": {},
   "outputs": [
    {
     "data": {
      "text/plain": [
       "False"
      ]
     },
     "execution_count": 55,
     "metadata": {},
     "output_type": "execute_result"
    }
   ],
   "source": [
    "# test 2\n",
    "too_close(['skin cancer', 'prostate cancer'], ['cancer'])"
   ]
  },
  {
   "cell_type": "markdown",
   "metadata": {},
   "source": [
    "**Step 2 *(action required)*.** Now define a function `semantically_attackable` that takes as a parameter an anonymized dataset and returns a boolean indicating whether or not that dataset is semantically attackable. Treat the word `disease` as a stop word (as all people in the dataset have a disease, it is not informative).\n",
    "\n",
    "_Hint: adapt exercise 4.B._"
   ]
  },
  {
   "cell_type": "code",
   "execution_count": 56,
   "metadata": {},
   "outputs": [],
   "source": [
    "def semantically_attackable(dataset):\n",
    "    \n",
    "    # YOUR CODE HERE\n",
    "    pass\n",
    "\n",
    "# ANSWER\n",
    "\n",
    "    grouped = dataset.groupby(list(dataset.columns[1:-1]))\n",
    "    \n",
    "    for group in grouped:\n",
    "        equivalence_class = group[1]\n",
    "        \n",
    "        if too_close(equivalence_class['disease'].values,['disease']):\n",
    "            return True\n",
    "    \n",
    "    return False\n"
   ]
  },
  {
   "cell_type": "markdown",
   "metadata": {},
   "source": [
    "#### Detecting vulnerability to semantic attacks\n",
    "**Step 3.** Use this function to check whether or not this dataset is semantically attackable. Is it possible to perform homogeneity attack on this dataset ?"
   ]
  },
  {
   "cell_type": "code",
   "execution_count": 57,
   "metadata": {},
   "outputs": [
    {
     "data": {
      "text/plain": [
       "False"
      ]
     },
     "execution_count": 57,
     "metadata": {},
     "output_type": "execute_result"
    }
   ],
   "source": [
    "homogeneity_attackable(dataset2)"
   ]
  },
  {
   "cell_type": "code",
   "execution_count": 58,
   "metadata": {},
   "outputs": [
    {
     "data": {
      "text/plain": [
       "True"
      ]
     },
     "execution_count": 58,
     "metadata": {},
     "output_type": "execute_result"
    }
   ],
   "source": [
    "semantically_attackable(dataset2)"
   ]
  },
  {
   "cell_type": "markdown",
   "metadata": {},
   "source": [
    "**Step 4 *(action required)*.** What do you think about the method we used to check whether the elements of an equivalence class are too close to each other? Does it generalise well to other problems? Is it too restrictive/not enough restrictive?"
   ]
  },
  {
   "cell_type": "markdown",
   "metadata": {},
   "source": [
    "_Your answer here._\n",
    "\n",
    "`SAMPLE ANSWER`\n",
    "\n",
    "This particular method works well if all diseases of a class share a word: while this is the case for `cancer`, it is not necessarily true, say, for heart diseases. The success of this method thus depends on the specific information we are looking for, and is very restrictive in what it can find (mostly cancer)."
   ]
  },
  {
   "cell_type": "markdown",
   "metadata": {},
   "source": [
    "## Exercise 4 - second round (optional)"
   ]
  },
  {
   "cell_type": "markdown",
   "metadata": {},
   "source": [
    "#### 4.A.iii | Analysing the k-anonymized dataset\n",
    "\n",
    "When k-anonymizing datasets it is important to keep in mind the use case and the utility of your data. If you anonymize it too harshly, the level of privacy protection is indeed better but the usability of the data might really go down. \n",
    "\n",
    "**Step 1.** Lets take a look back at the dataset you 4-anonymized earlier."
   ]
  },
  {
   "cell_type": "code",
   "execution_count": 59,
   "metadata": {},
   "outputs": [
    {
     "data": {
      "text/html": [
       "<div>\n",
       "<style scoped>\n",
       "    .dataframe tbody tr th:only-of-type {\n",
       "        vertical-align: middle;\n",
       "    }\n",
       "\n",
       "    .dataframe tbody tr th {\n",
       "        vertical-align: top;\n",
       "    }\n",
       "\n",
       "    .dataframe thead th {\n",
       "        text-align: right;\n",
       "    }\n",
       "</style>\n",
       "<table border=\"1\" class=\"dataframe\">\n",
       "  <thead>\n",
       "    <tr style=\"text-align: right;\">\n",
       "      <th></th>\n",
       "      <th>id</th>\n",
       "      <th>gender</th>\n",
       "      <th>education</th>\n",
       "      <th>age</th>\n",
       "      <th>vote</th>\n",
       "    </tr>\n",
       "  </thead>\n",
       "  <tbody>\n",
       "    <tr>\n",
       "      <th>0</th>\n",
       "      <td>0abbca2eb5b8529c30ced0ecd42474f7</td>\n",
       "      <td>male</td>\n",
       "      <td>0</td>\n",
       "      <td>51</td>\n",
       "      <td>Conservative</td>\n",
       "    </tr>\n",
       "    <tr>\n",
       "      <th>1</th>\n",
       "      <td>e0768cf24cc95016227593da14955294</td>\n",
       "      <td>male</td>\n",
       "      <td>3</td>\n",
       "      <td>51</td>\n",
       "      <td>Conservative</td>\n",
       "    </tr>\n",
       "    <tr>\n",
       "      <th>2</th>\n",
       "      <td>a3d4af017470663d3456f3620ccb39cc</td>\n",
       "      <td>male</td>\n",
       "      <td>2</td>\n",
       "      <td>30</td>\n",
       "      <td>Labour</td>\n",
       "    </tr>\n",
       "    <tr>\n",
       "      <th>3</th>\n",
       "      <td>c63b873b30320a9236309dc36f1d50f7</td>\n",
       "      <td>female</td>\n",
       "      <td>1</td>\n",
       "      <td>24</td>\n",
       "      <td>Labour</td>\n",
       "    </tr>\n",
       "    <tr>\n",
       "      <th>5</th>\n",
       "      <td>9e50addb3ea861d8fe5e5ac2c77b1dfe</td>\n",
       "      <td>female</td>\n",
       "      <td>1</td>\n",
       "      <td>42</td>\n",
       "      <td>Labour</td>\n",
       "    </tr>\n",
       "  </tbody>\n",
       "</table>\n",
       "</div>"
      ],
      "text/plain": [
       "                                 id  gender  education  age          vote\n",
       "0  0abbca2eb5b8529c30ced0ecd42474f7    male          0   51  Conservative\n",
       "1  e0768cf24cc95016227593da14955294    male          3   51  Conservative\n",
       "2  a3d4af017470663d3456f3620ccb39cc    male          2   30        Labour\n",
       "3  c63b873b30320a9236309dc36f1d50f7  female          1   24        Labour\n",
       "5  9e50addb3ea861d8fe5e5ac2c77b1dfe  female          1   42        Labour"
      ]
     },
     "execution_count": 59,
     "metadata": {},
     "output_type": "execute_result"
    }
   ],
   "source": [
    "remove_rows(4,dataset1).head()"
   ]
  },
  {
   "cell_type": "markdown",
   "metadata": {},
   "source": [
    "**Step 2.** Use the function value_counts in pandas and the plot method to check the result of the election before and after anonymization."
   ]
  },
  {
   "cell_type": "code",
   "execution_count": 60,
   "metadata": {},
   "outputs": [
    {
     "name": "stdout",
     "output_type": "stream",
     "text": [
      "Conservative    459\n",
      "Labour          410\n",
      "Other           131\n",
      "Name: vote, dtype: int64\n"
     ]
    },
    {
     "data": {
      "image/png": "[encoded data removed]",
      "text/plain": [
       "<Figure size 432x288 with 1 Axes>"
      ]
     },
     "metadata": {
      "needs_background": "light"
     },
     "output_type": "display_data"
    }
   ],
   "source": [
    "# ANSWER\n",
    "pd.value_counts(dataset1['vote']).plot.bar()\n",
    "print(pd.value_counts(dataset1['vote']))"
   ]
  },
  {
   "cell_type": "code",
   "execution_count": 61,
   "metadata": {},
   "outputs": [
    {
     "name": "stdout",
     "output_type": "stream",
     "text": [
      "Labour          370\n",
      "Conservative    368\n",
      "Other           106\n",
      "Name: vote, dtype: int64\n"
     ]
    },
    {
     "data": {
      "image/png": "[encoded data removed]",
      "text/plain": [
       "<Figure size 432x288 with 1 Axes>"
      ]
     },
     "metadata": {
      "needs_background": "light"
     },
     "output_type": "display_data"
    }
   ],
   "source": [
    "#ANSWER\n",
    "pd.value_counts(remove_rows(4,dataset1)['vote']).plot.bar()\n",
    "print(pd.value_counts(remove_rows(4,dataset1)['vote']))"
   ]
  },
  {
   "cell_type": "markdown",
   "metadata": {},
   "source": [
    "**Step 3 *(action required)*.** What happens? Can you imagine some use cases where the k-anonymization we employed might be an issue for analysts who have access only to the k-anonymized dataset?"
   ]
  },
  {
   "cell_type": "markdown",
   "metadata": {},
   "source": [
    "_Your answer here._\n",
    "\n",
    "`SAMPLE ANSWER`\n",
    "\n",
    "Labour now wins the election, but more people voted Conservative: if an analyst tries to determine who won the election, their results are now wrong."
   ]
  }
 ],
 "metadata": {
  "kernelspec": {
   "display_name": "Python 3",
   "language": "python",
   "name": "python3"
  },
  "language_info": {
   "codemirror_mode": {
    "name": "ipython",
    "version": 3
   },
   "file_extension": ".py",
   "mimetype": "text/x-python",
   "name": "python",
   "nbconvert_exporter": "python",
   "pygments_lexer": "ipython3",
   "version": "3.6.9"
  }
 },
 "nbformat": 4,
 "nbformat_minor": 4
}
