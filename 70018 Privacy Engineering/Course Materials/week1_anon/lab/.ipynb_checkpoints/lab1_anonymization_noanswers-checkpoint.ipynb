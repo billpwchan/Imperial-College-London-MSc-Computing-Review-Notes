{
 "cells": [
  {
   "cell_type": "markdown",
   "metadata": {},
   "source": [
    "# Week 1: Pseudonymization and anonymization"
   ]
  },
  {
   "cell_type": "markdown",
   "metadata": {},
   "source": [
    "# Introduction\n",
    "\n",
    "In this first exercise session, you will try several \"anonymization\" techniques from the lecture on a dataset, and show the limitations of these techniques. In particular, you will first try several approaches to pseudonymize the dataset, and perform attacks on the pseudonymization. Then, you will develop an algorithm to $k-$anonymize the dataset. Finally, you will show that even $k-$anonymization is not perfect, as it allows for other attacks, such as a semantic attack.\n",
    "\n",
    "**Optional exercises**: Some exercises are marked as optional. Please complete the exercise session before coming back to them.\n",
    "\n",
    "You should try and do these exercises on our own (and not wait for any instructions from the tutors). We are of course available should you have any questions.\n",
    "_We are still developing and improving this module. For any question, comment or feedback, please feel free to send an email to [florimond@imperial.ac.uk](mailto:florimond@imperial.ac.uk)._"
   ]
  },
  {
   "cell_type": "markdown",
   "metadata": {},
   "source": [
    "### Description\n",
    "\n",
    "This is a real dataset of patient records from the German Health Care service in 1984, taken from the Journal of Applied Econometrics. The attributes of the dataset are given below.  We have added a fictitious 5-digit identifier representing the last 5 digits of the person's phone number in that region: +49 21 801X XXXX.\n",
    "\n",
    "Source: Riphahn, Wambach, and Million, “Incentive Effects in the Demand for Health Care: A Bivariate Panel Count Data Estimation.”\n",
    "via. http://people.stern.nyu.edu/wgreene/Econometrics/PanelDataSets.htm"
   ]
  },
  {
   "cell_type": "markdown",
   "metadata": {},
   "source": [
    "For reference, the meaning of each attribute is:\n",
    "\n",
    "ID = last 5 digits of the phoner in that region +49 21 801X XXXX  _(The index of the dataset)_<br> \n",
    "FEMALE =  female = 1; male = 0<br>\n",
    "YEAR = calendar year of the observation<br>\n",
    "AGE = age in years<br>\n",
    "HANDDUM = handicapped = 1; otherwise = 0<br>\n",
    "HHNINC =  household nominal monthly net income in German marks / 10000<br>\n",
    "HHKIDS = children under age 16 in the household = 1; otherwise = 0<br>\n",
    "EDUC =  years of schooling<br>\n",
    "MARRIED =  married = 1; otherwise = 0<br>\n",
    "BLUEC = blue collar employee = 1; otherwise = 0<br>\n",
    "WHITEC = white collar employee = 1; otherwise = 0<br>\n",
    "SELF = self employed = 1; otherwise = 0<br>\n",
    "DOCVIS =  number of doctor visits in last three months<br>\n",
    "HOSPVIS =  number of hospital visits in last calendar year<br>"
   ]
  },
  {
   "cell_type": "markdown",
   "metadata": {},
   "source": [
    "### Loading the dataset with Pandas"
   ]
  },
  {
   "cell_type": "code",
   "execution_count": 1,
   "metadata": {},
   "outputs": [],
   "source": [
    "import pandas as pd\n",
    "import numpy as np\n",
    "import matplotlib.pyplot as plt\n",
    "%matplotlib inline\n",
    "\n",
    "private_1984 = pd.read_csv('healthcare_data_1984_private.csv', index_col='id')\n",
    "# Load the `healthcare_data_1984_private.csv` dataset in pandas making sure you set the id as the index for easy access (using index_col='id')\n",
    "#private_1984 = "
   ]
  },
  {
   "cell_type": "markdown",
   "metadata": {},
   "source": [
    "Let's check that the dataset is properly loaded by printing the first few lines"
   ]
  },
  {
   "cell_type": "code",
   "execution_count": 2,
   "metadata": {},
   "outputs": [
    {
     "data": {
      "text/html": [
       "<div>\n",
       "<style scoped>\n",
       "    .dataframe tbody tr th:only-of-type {\n",
       "        vertical-align: middle;\n",
       "    }\n",
       "\n",
       "    .dataframe tbody tr th {\n",
       "        vertical-align: top;\n",
       "    }\n",
       "\n",
       "    .dataframe thead th {\n",
       "        text-align: right;\n",
       "    }\n",
       "</style>\n",
       "<table border=\"1\" class=\"dataframe\">\n",
       "  <thead>\n",
       "    <tr style=\"text-align: right;\">\n",
       "      <th></th>\n",
       "      <th>FEMALE</th>\n",
       "      <th>YEAR</th>\n",
       "      <th>AGE</th>\n",
       "      <th>HANDDUM</th>\n",
       "      <th>WORKING</th>\n",
       "      <th>HHNINC</th>\n",
       "      <th>HHKIDS</th>\n",
       "      <th>EDUC</th>\n",
       "      <th>MARRIED</th>\n",
       "      <th>WORKING.1</th>\n",
       "      <th>BLUEC</th>\n",
       "      <th>WHITEC</th>\n",
       "      <th>SELF</th>\n",
       "      <th>DOCVIS</th>\n",
       "      <th>HOSPVIS</th>\n",
       "    </tr>\n",
       "    <tr>\n",
       "      <th>id</th>\n",
       "      <th></th>\n",
       "      <th></th>\n",
       "      <th></th>\n",
       "      <th></th>\n",
       "      <th></th>\n",
       "      <th></th>\n",
       "      <th></th>\n",
       "      <th></th>\n",
       "      <th></th>\n",
       "      <th></th>\n",
       "      <th></th>\n",
       "      <th></th>\n",
       "      <th></th>\n",
       "      <th></th>\n",
       "      <th></th>\n",
       "    </tr>\n",
       "  </thead>\n",
       "  <tbody>\n",
       "    <tr>\n",
       "      <th>98990</th>\n",
       "      <td>0</td>\n",
       "      <td>1984</td>\n",
       "      <td>54</td>\n",
       "      <td>0.000000</td>\n",
       "      <td>1</td>\n",
       "      <td>0.3050</td>\n",
       "      <td>0</td>\n",
       "      <td>15.0</td>\n",
       "      <td>1</td>\n",
       "      <td>1</td>\n",
       "      <td>0</td>\n",
       "      <td>1</td>\n",
       "      <td>0</td>\n",
       "      <td>1</td>\n",
       "      <td>0</td>\n",
       "    </tr>\n",
       "    <tr>\n",
       "      <th>32946</th>\n",
       "      <td>1</td>\n",
       "      <td>1984</td>\n",
       "      <td>44</td>\n",
       "      <td>0.000000</td>\n",
       "      <td>0</td>\n",
       "      <td>0.3050</td>\n",
       "      <td>0</td>\n",
       "      <td>9.0</td>\n",
       "      <td>1</td>\n",
       "      <td>0</td>\n",
       "      <td>0</td>\n",
       "      <td>0</td>\n",
       "      <td>0</td>\n",
       "      <td>0</td>\n",
       "      <td>0</td>\n",
       "    </tr>\n",
       "    <tr>\n",
       "      <th>47400</th>\n",
       "      <td>1</td>\n",
       "      <td>1984</td>\n",
       "      <td>58</td>\n",
       "      <td>0.168719</td>\n",
       "      <td>0</td>\n",
       "      <td>0.1434</td>\n",
       "      <td>0</td>\n",
       "      <td>11.0</td>\n",
       "      <td>0</td>\n",
       "      <td>0</td>\n",
       "      <td>0</td>\n",
       "      <td>0</td>\n",
       "      <td>0</td>\n",
       "      <td>0</td>\n",
       "      <td>0</td>\n",
       "    </tr>\n",
       "    <tr>\n",
       "      <th>50813</th>\n",
       "      <td>0</td>\n",
       "      <td>1984</td>\n",
       "      <td>64</td>\n",
       "      <td>1.000000</td>\n",
       "      <td>1</td>\n",
       "      <td>0.1500</td>\n",
       "      <td>0</td>\n",
       "      <td>10.5</td>\n",
       "      <td>0</td>\n",
       "      <td>1</td>\n",
       "      <td>1</td>\n",
       "      <td>0</td>\n",
       "      <td>0</td>\n",
       "      <td>7</td>\n",
       "      <td>2</td>\n",
       "    </tr>\n",
       "    <tr>\n",
       "      <th>43058</th>\n",
       "      <td>0</td>\n",
       "      <td>1984</td>\n",
       "      <td>30</td>\n",
       "      <td>0.000000</td>\n",
       "      <td>0</td>\n",
       "      <td>0.2400</td>\n",
       "      <td>0</td>\n",
       "      <td>13.0</td>\n",
       "      <td>0</td>\n",
       "      <td>0</td>\n",
       "      <td>0</td>\n",
       "      <td>0</td>\n",
       "      <td>0</td>\n",
       "      <td>6</td>\n",
       "      <td>0</td>\n",
       "    </tr>\n",
       "  </tbody>\n",
       "</table>\n",
       "</div>"
      ],
      "text/plain": [
       "       FEMALE  YEAR  AGE   HANDDUM  WORKING  HHNINC  HHKIDS  EDUC  MARRIED  \\\n",
       "id                                                                           \n",
       "98990       0  1984   54  0.000000        1  0.3050       0  15.0        1   \n",
       "32946       1  1984   44  0.000000        0  0.3050       0   9.0        1   \n",
       "47400       1  1984   58  0.168719        0  0.1434       0  11.0        0   \n",
       "50813       0  1984   64  1.000000        1  0.1500       0  10.5        0   \n",
       "43058       0  1984   30  0.000000        0  0.2400       0  13.0        0   \n",
       "\n",
       "       WORKING.1  BLUEC  WHITEC  SELF  DOCVIS  HOSPVIS  \n",
       "id                                                      \n",
       "98990          1      0       1     0       1        0  \n",
       "32946          0      0       0     0       0        0  \n",
       "47400          0      0       0     0       0        0  \n",
       "50813          1      1       0     0       7        2  \n",
       "43058          0      0       0     0       6        0  "
      ]
     },
     "execution_count": 2,
     "metadata": {},
     "output_type": "execute_result"
    }
   ],
   "source": [
    "private_1984.head()"
   ]
  },
  {
   "cell_type": "markdown",
   "metadata": {},
   "source": [
    "# 1. Pseudonymization: secret formulas"
   ]
  },
  {
   "cell_type": "markdown",
   "metadata": {},
   "source": [
    "In this exercise, you will be working directly with \"secret formulas\" as a pseudonymization technique."
   ]
  },
  {
   "cell_type": "markdown",
   "metadata": {},
   "source": [
    "**Action:** Before you start, we need you to pick a partner for this exercise session (e.g., the person sitting next to you), with whom you will share your _pseudonymized_ data."
   ]
  },
  {
   "cell_type": "markdown",
   "metadata": {},
   "source": [
    "### Exercise 1.A | Creating and cracking a \"secret formula\""
   ]
  },
  {
   "cell_type": "markdown",
   "metadata": {},
   "source": [
    "In this exercise, you will be guided to choose your own secret hashing function and use it to pseudonymize every record in the dataset. You will then share two small datasets with your partner. The first dataset will contain both the true IDs and the pseudonyms. This dataset represents the *background knowledge* that an attacker (your partner) might have obtained in various ways. The second dataset will contain only the pseudonymized IDs of some people, the targets of the attack. Your partner will try to use the backgound knowledge to re-identify all the records in this second dataset.\n",
    "\n",
    "Most of the steps are already solved. You are required to write something if and only if you see *\"action required\"* next to the step number, e.g., **Step 2 *(action required)*.** But don't forget to execute *every* code cell (with `Ctrl-Enter`)!"
   ]
  },
  {
   "cell_type": "markdown",
   "metadata": {},
   "source": [
    "### Pseudonymizing the dataset\n",
    "\n",
    "**Step 1.** Choose a *polynomial* hash function of degree 2, i.e. a function of the form $a_0 x^2 + a_{1} x + a_2$. For simplicity (as discussed during the lecture), your coefficients $a_i$ must be *integers* between 0 and 500. Don't reveal your function!\n",
    "\n",
    "**Step 2 *(action required)*.** Define your function and call it `generate_pseudo_id`. Make sure to change the values of `a[0],a[1],a[2]` to the values of your polynomial."
   ]
  },
  {
   "cell_type": "code",
   "execution_count": 32,
   "metadata": {},
   "outputs": [],
   "source": [
    "def generate_pseudo_id(phone_number):\n",
    "    'Takes a phone number (int) x, and returns a0 * x^2 + a1 * x + a2'\n",
    "    a = np.array([0,0,0]) # initiate array of coefficients\n",
    "    a[0] =  1 ### YOU CHOOSE THIS!\n",
    "    a[1] =  2 ### YOU CHOOSE THIS!\n",
    "    a[2] =  3 ### YOU CHOOSE THIS!\n",
    "    x = phone_number\n",
    "    return a[0] * x**2 + a[1] * x + a[2]"
   ]
  },
  {
   "cell_type": "markdown",
   "metadata": {},
   "source": [
    "**Step 3.** Create a copy of `private_1984` called `private_1984_double`."
   ]
  },
  {
   "cell_type": "code",
   "execution_count": 33,
   "metadata": {},
   "outputs": [],
   "source": [
    "private_1984_double = private_1984.copy()"
   ]
  },
  {
   "cell_type": "markdown",
   "metadata": {},
   "source": [
    "**Step 4.** Pseudonymize every ID in `private_1984_double` using your function. Keep the `id` column as the first column in the dataset and add the column of pseudonymized IDs as the second one. Call it `pseudo_id`."
   ]
  },
  {
   "cell_type": "code",
   "execution_count": 34,
   "metadata": {},
   "outputs": [
    {
     "data": {
      "text/html": [
       "<div>\n",
       "<style scoped>\n",
       "    .dataframe tbody tr th:only-of-type {\n",
       "        vertical-align: middle;\n",
       "    }\n",
       "\n",
       "    .dataframe tbody tr th {\n",
       "        vertical-align: top;\n",
       "    }\n",
       "\n",
       "    .dataframe thead th {\n",
       "        text-align: right;\n",
       "    }\n",
       "</style>\n",
       "<table border=\"1\" class=\"dataframe\">\n",
       "  <thead>\n",
       "    <tr style=\"text-align: right;\">\n",
       "      <th></th>\n",
       "      <th>pseudo_id</th>\n",
       "      <th>FEMALE</th>\n",
       "      <th>YEAR</th>\n",
       "      <th>AGE</th>\n",
       "      <th>HANDDUM</th>\n",
       "      <th>WORKING</th>\n",
       "      <th>HHNINC</th>\n",
       "      <th>HHKIDS</th>\n",
       "      <th>EDUC</th>\n",
       "      <th>MARRIED</th>\n",
       "      <th>WORKING.1</th>\n",
       "      <th>BLUEC</th>\n",
       "      <th>WHITEC</th>\n",
       "      <th>SELF</th>\n",
       "      <th>DOCVIS</th>\n",
       "      <th>HOSPVIS</th>\n",
       "    </tr>\n",
       "    <tr>\n",
       "      <th>id</th>\n",
       "      <th></th>\n",
       "      <th></th>\n",
       "      <th></th>\n",
       "      <th></th>\n",
       "      <th></th>\n",
       "      <th></th>\n",
       "      <th></th>\n",
       "      <th></th>\n",
       "      <th></th>\n",
       "      <th></th>\n",
       "      <th></th>\n",
       "      <th></th>\n",
       "      <th></th>\n",
       "      <th></th>\n",
       "      <th></th>\n",
       "      <th></th>\n",
       "    </tr>\n",
       "  </thead>\n",
       "  <tbody>\n",
       "    <tr>\n",
       "      <th>98990</th>\n",
       "      <td>9799218083</td>\n",
       "      <td>0</td>\n",
       "      <td>1984</td>\n",
       "      <td>54</td>\n",
       "      <td>0.000000</td>\n",
       "      <td>1</td>\n",
       "      <td>0.3050</td>\n",
       "      <td>0</td>\n",
       "      <td>15.0</td>\n",
       "      <td>1</td>\n",
       "      <td>1</td>\n",
       "      <td>0</td>\n",
       "      <td>1</td>\n",
       "      <td>0</td>\n",
       "      <td>1</td>\n",
       "      <td>0</td>\n",
       "    </tr>\n",
       "    <tr>\n",
       "      <th>32946</th>\n",
       "      <td>1085504811</td>\n",
       "      <td>1</td>\n",
       "      <td>1984</td>\n",
       "      <td>44</td>\n",
       "      <td>0.000000</td>\n",
       "      <td>0</td>\n",
       "      <td>0.3050</td>\n",
       "      <td>0</td>\n",
       "      <td>9.0</td>\n",
       "      <td>1</td>\n",
       "      <td>0</td>\n",
       "      <td>0</td>\n",
       "      <td>0</td>\n",
       "      <td>0</td>\n",
       "      <td>0</td>\n",
       "      <td>0</td>\n",
       "    </tr>\n",
       "    <tr>\n",
       "      <th>47400</th>\n",
       "      <td>2246854803</td>\n",
       "      <td>1</td>\n",
       "      <td>1984</td>\n",
       "      <td>58</td>\n",
       "      <td>0.168719</td>\n",
       "      <td>0</td>\n",
       "      <td>0.1434</td>\n",
       "      <td>0</td>\n",
       "      <td>11.0</td>\n",
       "      <td>0</td>\n",
       "      <td>0</td>\n",
       "      <td>0</td>\n",
       "      <td>0</td>\n",
       "      <td>0</td>\n",
       "      <td>0</td>\n",
       "      <td>0</td>\n",
       "    </tr>\n",
       "    <tr>\n",
       "      <th>50813</th>\n",
       "      <td>2582062598</td>\n",
       "      <td>0</td>\n",
       "      <td>1984</td>\n",
       "      <td>64</td>\n",
       "      <td>1.000000</td>\n",
       "      <td>1</td>\n",
       "      <td>0.1500</td>\n",
       "      <td>0</td>\n",
       "      <td>10.5</td>\n",
       "      <td>0</td>\n",
       "      <td>1</td>\n",
       "      <td>1</td>\n",
       "      <td>0</td>\n",
       "      <td>0</td>\n",
       "      <td>7</td>\n",
       "      <td>2</td>\n",
       "    </tr>\n",
       "    <tr>\n",
       "      <th>43058</th>\n",
       "      <td>1854077483</td>\n",
       "      <td>0</td>\n",
       "      <td>1984</td>\n",
       "      <td>30</td>\n",
       "      <td>0.000000</td>\n",
       "      <td>0</td>\n",
       "      <td>0.2400</td>\n",
       "      <td>0</td>\n",
       "      <td>13.0</td>\n",
       "      <td>0</td>\n",
       "      <td>0</td>\n",
       "      <td>0</td>\n",
       "      <td>0</td>\n",
       "      <td>0</td>\n",
       "      <td>6</td>\n",
       "      <td>0</td>\n",
       "    </tr>\n",
       "  </tbody>\n",
       "</table>\n",
       "</div>"
      ],
      "text/plain": [
       "        pseudo_id  FEMALE  YEAR  AGE   HANDDUM  WORKING  HHNINC  HHKIDS  EDUC  \\\n",
       "id                                                                              \n",
       "98990  9799218083       0  1984   54  0.000000        1  0.3050       0  15.0   \n",
       "32946  1085504811       1  1984   44  0.000000        0  0.3050       0   9.0   \n",
       "47400  2246854803       1  1984   58  0.168719        0  0.1434       0  11.0   \n",
       "50813  2582062598       0  1984   64  1.000000        1  0.1500       0  10.5   \n",
       "43058  1854077483       0  1984   30  0.000000        0  0.2400       0  13.0   \n",
       "\n",
       "       MARRIED  WORKING.1  BLUEC  WHITEC  SELF  DOCVIS  HOSPVIS  \n",
       "id                                                               \n",
       "98990        1          1      0       1     0       1        0  \n",
       "32946        1          0      0       0     0       0        0  \n",
       "47400        0          0      0       0     0       0        0  \n",
       "50813        0          1      1       0     0       7        2  \n",
       "43058        0          0      0       0     0       6        0  "
      ]
     },
     "execution_count": 34,
     "metadata": {},
     "output_type": "execute_result"
    }
   ],
   "source": [
    "pseudonymized_numbers = [generate_pseudo_id(x) for x in private_1984.index]\n",
    "private_1984_double.insert(0, 'pseudo_id', pseudonymized_numbers)\n",
    "private_1984_double.head()"
   ]
  },
  {
   "cell_type": "markdown",
   "metadata": {},
   "source": [
    "### Producing and sharing the background knowledge\n",
    "\n",
    "**Step 5.** Export 20 random records from your pseudonymized dataset to a csv file (`known_records.csv`) and email it to your partner. This will be the set of records for which your partner knows both ID and pseudonymised ID."
   ]
  },
  {
   "cell_type": "code",
   "execution_count": 55,
   "metadata": {},
   "outputs": [],
   "source": [
    "private_1984_double.sample(20).to_csv(\"./known_records.csv\")"
   ]
  },
  {
   "cell_type": "markdown",
   "metadata": {},
   "source": [
    "**Step 6.** Export 20 random records from your pseudonymized dataset to a new dataset `sample_records_double`. Create a copy of `sample_records_double` and call it `sample_records_anon`. Remove the `id` column from it. Then save it to a csv file `sample_records_anon.csv` and email it to your partner. Your partner will have to reidentify these records."
   ]
  },
  {
   "cell_type": "code",
   "execution_count": 56,
   "metadata": {},
   "outputs": [
    {
     "data": {
      "text/html": [
       "<div>\n",
       "<style scoped>\n",
       "    .dataframe tbody tr th:only-of-type {\n",
       "        vertical-align: middle;\n",
       "    }\n",
       "\n",
       "    .dataframe tbody tr th {\n",
       "        vertical-align: top;\n",
       "    }\n",
       "\n",
       "    .dataframe thead th {\n",
       "        text-align: right;\n",
       "    }\n",
       "</style>\n",
       "<table border=\"1\" class=\"dataframe\">\n",
       "  <thead>\n",
       "    <tr style=\"text-align: right;\">\n",
       "      <th></th>\n",
       "      <th>pseudo_id</th>\n",
       "      <th>FEMALE</th>\n",
       "      <th>YEAR</th>\n",
       "      <th>AGE</th>\n",
       "      <th>HANDDUM</th>\n",
       "      <th>WORKING</th>\n",
       "      <th>HHNINC</th>\n",
       "      <th>HHKIDS</th>\n",
       "      <th>EDUC</th>\n",
       "      <th>MARRIED</th>\n",
       "      <th>WORKING.1</th>\n",
       "      <th>BLUEC</th>\n",
       "      <th>WHITEC</th>\n",
       "      <th>SELF</th>\n",
       "      <th>DOCVIS</th>\n",
       "      <th>HOSPVIS</th>\n",
       "    </tr>\n",
       "    <tr>\n",
       "      <th>id</th>\n",
       "      <th></th>\n",
       "      <th></th>\n",
       "      <th></th>\n",
       "      <th></th>\n",
       "      <th></th>\n",
       "      <th></th>\n",
       "      <th></th>\n",
       "      <th></th>\n",
       "      <th></th>\n",
       "      <th></th>\n",
       "      <th></th>\n",
       "      <th></th>\n",
       "      <th></th>\n",
       "      <th></th>\n",
       "      <th></th>\n",
       "      <th></th>\n",
       "    </tr>\n",
       "  </thead>\n",
       "  <tbody>\n",
       "    <tr>\n",
       "      <th>90513</th>\n",
       "      <td>8192784198</td>\n",
       "      <td>1</td>\n",
       "      <td>1984</td>\n",
       "      <td>31</td>\n",
       "      <td>0.0</td>\n",
       "      <td>0</td>\n",
       "      <td>0.155</td>\n",
       "      <td>1</td>\n",
       "      <td>10.5</td>\n",
       "      <td>1</td>\n",
       "      <td>0</td>\n",
       "      <td>0</td>\n",
       "      <td>0</td>\n",
       "      <td>0</td>\n",
       "      <td>0</td>\n",
       "      <td>0</td>\n",
       "    </tr>\n",
       "    <tr>\n",
       "      <th>47348</th>\n",
       "      <td>2241927803</td>\n",
       "      <td>0</td>\n",
       "      <td>1984</td>\n",
       "      <td>31</td>\n",
       "      <td>0.0</td>\n",
       "      <td>1</td>\n",
       "      <td>0.380</td>\n",
       "      <td>1</td>\n",
       "      <td>18.0</td>\n",
       "      <td>1</td>\n",
       "      <td>1</td>\n",
       "      <td>0</td>\n",
       "      <td>1</td>\n",
       "      <td>0</td>\n",
       "      <td>0</td>\n",
       "      <td>0</td>\n",
       "    </tr>\n",
       "    <tr>\n",
       "      <th>15068</th>\n",
       "      <td>227074763</td>\n",
       "      <td>0</td>\n",
       "      <td>1984</td>\n",
       "      <td>48</td>\n",
       "      <td>0.0</td>\n",
       "      <td>1</td>\n",
       "      <td>0.120</td>\n",
       "      <td>0</td>\n",
       "      <td>9.0</td>\n",
       "      <td>0</td>\n",
       "      <td>1</td>\n",
       "      <td>1</td>\n",
       "      <td>0</td>\n",
       "      <td>0</td>\n",
       "      <td>4</td>\n",
       "      <td>0</td>\n",
       "    </tr>\n",
       "    <tr>\n",
       "      <th>14330</th>\n",
       "      <td>205377563</td>\n",
       "      <td>1</td>\n",
       "      <td>1984</td>\n",
       "      <td>26</td>\n",
       "      <td>0.0</td>\n",
       "      <td>1</td>\n",
       "      <td>0.117</td>\n",
       "      <td>0</td>\n",
       "      <td>10.5</td>\n",
       "      <td>0</td>\n",
       "      <td>1</td>\n",
       "      <td>0</td>\n",
       "      <td>1</td>\n",
       "      <td>0</td>\n",
       "      <td>0</td>\n",
       "      <td>0</td>\n",
       "    </tr>\n",
       "    <tr>\n",
       "      <th>59703</th>\n",
       "      <td>3564567618</td>\n",
       "      <td>0</td>\n",
       "      <td>1984</td>\n",
       "      <td>29</td>\n",
       "      <td>0.0</td>\n",
       "      <td>1</td>\n",
       "      <td>0.180</td>\n",
       "      <td>1</td>\n",
       "      <td>18.0</td>\n",
       "      <td>1</td>\n",
       "      <td>1</td>\n",
       "      <td>1</td>\n",
       "      <td>0</td>\n",
       "      <td>0</td>\n",
       "      <td>3</td>\n",
       "      <td>0</td>\n",
       "    </tr>\n",
       "  </tbody>\n",
       "</table>\n",
       "</div>"
      ],
      "text/plain": [
       "        pseudo_id  FEMALE  YEAR  AGE  HANDDUM  WORKING  HHNINC  HHKIDS  EDUC  \\\n",
       "id                                                                             \n",
       "90513  8192784198       1  1984   31      0.0        0   0.155       1  10.5   \n",
       "47348  2241927803       0  1984   31      0.0        1   0.380       1  18.0   \n",
       "15068   227074763       0  1984   48      0.0        1   0.120       0   9.0   \n",
       "14330   205377563       1  1984   26      0.0        1   0.117       0  10.5   \n",
       "59703  3564567618       0  1984   29      0.0        1   0.180       1  18.0   \n",
       "\n",
       "       MARRIED  WORKING.1  BLUEC  WHITEC  SELF  DOCVIS  HOSPVIS  \n",
       "id                                                               \n",
       "90513        1          0      0       0     0       0        0  \n",
       "47348        1          1      0       1     0       0        0  \n",
       "15068        0          1      1       0     0       4        0  \n",
       "14330        0          1      0       1     0       0        0  \n",
       "59703        1          1      1       0     0       3        0  "
      ]
     },
     "execution_count": 56,
     "metadata": {},
     "output_type": "execute_result"
    }
   ],
   "source": [
    "# extract 20 random samples\n",
    "sample_records_double = private_1984_double.sample(20)\n",
    "sample_records_anon = sample_records_double.copy()\n",
    "\n",
    "# remove the ID column, and make the `pseudo_id` the index\n",
    "sample_records_anon.set_index('pseudo_id', inplace=True)\n",
    "sample_records_anon.to_csv(\"./sample_records_anon.csv\")\n",
    "\n",
    "sample_records_double.head() # don't show the output to your partner!"
   ]
  },
  {
   "cell_type": "markdown",
   "metadata": {},
   "source": [
    "And this is what the output looks like:"
   ]
  },
  {
   "cell_type": "code",
   "execution_count": 57,
   "metadata": {},
   "outputs": [
    {
     "data": {
      "text/html": [
       "<div>\n",
       "<style scoped>\n",
       "    .dataframe tbody tr th:only-of-type {\n",
       "        vertical-align: middle;\n",
       "    }\n",
       "\n",
       "    .dataframe tbody tr th {\n",
       "        vertical-align: top;\n",
       "    }\n",
       "\n",
       "    .dataframe thead th {\n",
       "        text-align: right;\n",
       "    }\n",
       "</style>\n",
       "<table border=\"1\" class=\"dataframe\">\n",
       "  <thead>\n",
       "    <tr style=\"text-align: right;\">\n",
       "      <th></th>\n",
       "      <th>FEMALE</th>\n",
       "      <th>YEAR</th>\n",
       "      <th>AGE</th>\n",
       "      <th>HANDDUM</th>\n",
       "      <th>WORKING</th>\n",
       "      <th>HHNINC</th>\n",
       "      <th>HHKIDS</th>\n",
       "      <th>EDUC</th>\n",
       "      <th>MARRIED</th>\n",
       "      <th>WORKING.1</th>\n",
       "      <th>BLUEC</th>\n",
       "      <th>WHITEC</th>\n",
       "      <th>SELF</th>\n",
       "      <th>DOCVIS</th>\n",
       "      <th>HOSPVIS</th>\n",
       "    </tr>\n",
       "    <tr>\n",
       "      <th>pseudo_id</th>\n",
       "      <th></th>\n",
       "      <th></th>\n",
       "      <th></th>\n",
       "      <th></th>\n",
       "      <th></th>\n",
       "      <th></th>\n",
       "      <th></th>\n",
       "      <th></th>\n",
       "      <th></th>\n",
       "      <th></th>\n",
       "      <th></th>\n",
       "      <th></th>\n",
       "      <th></th>\n",
       "      <th></th>\n",
       "      <th></th>\n",
       "    </tr>\n",
       "  </thead>\n",
       "  <tbody>\n",
       "    <tr>\n",
       "      <th>8192784198</th>\n",
       "      <td>1</td>\n",
       "      <td>1984</td>\n",
       "      <td>31</td>\n",
       "      <td>0.0</td>\n",
       "      <td>0</td>\n",
       "      <td>0.155</td>\n",
       "      <td>1</td>\n",
       "      <td>10.5</td>\n",
       "      <td>1</td>\n",
       "      <td>0</td>\n",
       "      <td>0</td>\n",
       "      <td>0</td>\n",
       "      <td>0</td>\n",
       "      <td>0</td>\n",
       "      <td>0</td>\n",
       "    </tr>\n",
       "    <tr>\n",
       "      <th>2241927803</th>\n",
       "      <td>0</td>\n",
       "      <td>1984</td>\n",
       "      <td>31</td>\n",
       "      <td>0.0</td>\n",
       "      <td>1</td>\n",
       "      <td>0.380</td>\n",
       "      <td>1</td>\n",
       "      <td>18.0</td>\n",
       "      <td>1</td>\n",
       "      <td>1</td>\n",
       "      <td>0</td>\n",
       "      <td>1</td>\n",
       "      <td>0</td>\n",
       "      <td>0</td>\n",
       "      <td>0</td>\n",
       "    </tr>\n",
       "    <tr>\n",
       "      <th>227074763</th>\n",
       "      <td>0</td>\n",
       "      <td>1984</td>\n",
       "      <td>48</td>\n",
       "      <td>0.0</td>\n",
       "      <td>1</td>\n",
       "      <td>0.120</td>\n",
       "      <td>0</td>\n",
       "      <td>9.0</td>\n",
       "      <td>0</td>\n",
       "      <td>1</td>\n",
       "      <td>1</td>\n",
       "      <td>0</td>\n",
       "      <td>0</td>\n",
       "      <td>4</td>\n",
       "      <td>0</td>\n",
       "    </tr>\n",
       "    <tr>\n",
       "      <th>205377563</th>\n",
       "      <td>1</td>\n",
       "      <td>1984</td>\n",
       "      <td>26</td>\n",
       "      <td>0.0</td>\n",
       "      <td>1</td>\n",
       "      <td>0.117</td>\n",
       "      <td>0</td>\n",
       "      <td>10.5</td>\n",
       "      <td>0</td>\n",
       "      <td>1</td>\n",
       "      <td>0</td>\n",
       "      <td>1</td>\n",
       "      <td>0</td>\n",
       "      <td>0</td>\n",
       "      <td>0</td>\n",
       "    </tr>\n",
       "    <tr>\n",
       "      <th>3564567618</th>\n",
       "      <td>0</td>\n",
       "      <td>1984</td>\n",
       "      <td>29</td>\n",
       "      <td>0.0</td>\n",
       "      <td>1</td>\n",
       "      <td>0.180</td>\n",
       "      <td>1</td>\n",
       "      <td>18.0</td>\n",
       "      <td>1</td>\n",
       "      <td>1</td>\n",
       "      <td>1</td>\n",
       "      <td>0</td>\n",
       "      <td>0</td>\n",
       "      <td>3</td>\n",
       "      <td>0</td>\n",
       "    </tr>\n",
       "  </tbody>\n",
       "</table>\n",
       "</div>"
      ],
      "text/plain": [
       "            FEMALE  YEAR  AGE  HANDDUM  WORKING  HHNINC  HHKIDS  EDUC  \\\n",
       "pseudo_id                                                               \n",
       "8192784198       1  1984   31      0.0        0   0.155       1  10.5   \n",
       "2241927803       0  1984   31      0.0        1   0.380       1  18.0   \n",
       "227074763        0  1984   48      0.0        1   0.120       0   9.0   \n",
       "205377563        1  1984   26      0.0        1   0.117       0  10.5   \n",
       "3564567618       0  1984   29      0.0        1   0.180       1  18.0   \n",
       "\n",
       "            MARRIED  WORKING.1  BLUEC  WHITEC  SELF  DOCVIS  HOSPVIS  \n",
       "pseudo_id                                                             \n",
       "8192784198        1          0      0       0     0       0        0  \n",
       "2241927803        1          1      0       1     0       0        0  \n",
       "227074763         0          1      1       0     0       4        0  \n",
       "205377563         0          1      0       1     0       0        0  \n",
       "3564567618        1          1      1       0     0       3        0  "
      ]
     },
     "execution_count": 57,
     "metadata": {},
     "output_type": "execute_result"
    }
   ],
   "source": [
    "sample_records_anon.head()"
   ]
  },
  {
   "cell_type": "markdown",
   "metadata": {},
   "source": [
    "### Cracking the pseudonymization\n",
    "\n",
    "**Step 7.** Once you have received `known_records.csv` and `sample_records_anon.csv` from your partner, download them to the same folder of this Jupyter notebook (you can overwrite yours)."
   ]
  },
  {
   "cell_type": "markdown",
   "metadata": {},
   "source": [
    "**Step 8 *(action required)*.** Now try to reverse engineer your partner's secret function using **his/her** `known_records.csv`! That is, try to find the function your partner used to pseudonymize the IDs. This means that you have to find the coefficients he/she chose. (Hint: you might find `numpy.polyfit` useful)"
   ]
  },
  {
   "cell_type": "code",
   "execution_count": 58,
   "metadata": {},
   "outputs": [
    {
     "name": "stdout",
     "output_type": "stream",
     "text": [
      "[1.         2.         2.99999982]\n"
     ]
    }
   ],
   "source": [
    "known_records = pd.read_csv(\"known_records.csv\", index_col='id') # import your partner's known_records.csv\n",
    "known_ids = known_records.index.values # this is an array with 20 known IDs\n",
    "pseudo_ids = known_records['pseudo_id'].values # this is the array with their respective 20 pseudo-IDs\n",
    "\n",
    "cracked_coeff =  np.polyfit(known_ids, pseudo_ids, 2)\n",
    "\n",
    "print(cracked_coeff)"
   ]
  },
  {
   "cell_type": "markdown",
   "metadata": {},
   "source": [
    "**Step 9 *(action required)*.** Now you should have successfully found your partner's function. Great! But we are not done yet. Remember that the real secret is not the function, but the real IDs! So there is one last step to complete:\n",
    "\n",
    "Use the reverse engineered function to re-identify each record in `sample_records_anon.csv`. \n",
    "\n",
    "Hint 1: Suppose you found that your partner's hash function is $3 x^2 + 10 x + 7$, and you want to re-identify (for example) the pseudo-ID 63231897340. Then you need to solve the equation $63231897340 = 3 x^2 + 10 x + 7$, and the solution(s) to the equation will be the original ID! To solve the exercise you need to generalize this example.\n",
    "\n",
    "Hint 2: You can use `numpy.roots` to find the roots of a polynomial (or you can use the formula), in order to solve this equation.\n",
    "\n",
    "_Bonus_: How many solutions does this equation have? How can you be sure that there is only one positive solution (the real ID)?"
   ]
  },
  {
   "cell_type": "code",
   "execution_count": 60,
   "metadata": {},
   "outputs": [
    {
     "data": {
      "text/html": [
       "<div>\n",
       "<style scoped>\n",
       "    .dataframe tbody tr th:only-of-type {\n",
       "        vertical-align: middle;\n",
       "    }\n",
       "\n",
       "    .dataframe tbody tr th {\n",
       "        vertical-align: top;\n",
       "    }\n",
       "\n",
       "    .dataframe thead th {\n",
       "        text-align: right;\n",
       "    }\n",
       "</style>\n",
       "<table border=\"1\" class=\"dataframe\">\n",
       "  <thead>\n",
       "    <tr style=\"text-align: right;\">\n",
       "      <th></th>\n",
       "      <th>FEMALE</th>\n",
       "      <th>YEAR</th>\n",
       "      <th>AGE</th>\n",
       "      <th>HANDDUM</th>\n",
       "      <th>WORKING</th>\n",
       "      <th>HHNINC</th>\n",
       "      <th>HHKIDS</th>\n",
       "      <th>EDUC</th>\n",
       "      <th>MARRIED</th>\n",
       "      <th>WORKING.1</th>\n",
       "      <th>BLUEC</th>\n",
       "      <th>WHITEC</th>\n",
       "      <th>SELF</th>\n",
       "      <th>DOCVIS</th>\n",
       "      <th>HOSPVIS</th>\n",
       "    </tr>\n",
       "    <tr>\n",
       "      <th>id</th>\n",
       "      <th></th>\n",
       "      <th></th>\n",
       "      <th></th>\n",
       "      <th></th>\n",
       "      <th></th>\n",
       "      <th></th>\n",
       "      <th></th>\n",
       "      <th></th>\n",
       "      <th></th>\n",
       "      <th></th>\n",
       "      <th></th>\n",
       "      <th></th>\n",
       "      <th></th>\n",
       "      <th></th>\n",
       "      <th></th>\n",
       "    </tr>\n",
       "  </thead>\n",
       "  <tbody>\n",
       "    <tr>\n",
       "      <th>90513.0</th>\n",
       "      <td>1</td>\n",
       "      <td>1984</td>\n",
       "      <td>31</td>\n",
       "      <td>0.0</td>\n",
       "      <td>0</td>\n",
       "      <td>0.155</td>\n",
       "      <td>1</td>\n",
       "      <td>10.5</td>\n",
       "      <td>1</td>\n",
       "      <td>0</td>\n",
       "      <td>0</td>\n",
       "      <td>0</td>\n",
       "      <td>0</td>\n",
       "      <td>0</td>\n",
       "      <td>0</td>\n",
       "    </tr>\n",
       "    <tr>\n",
       "      <th>47348.0</th>\n",
       "      <td>0</td>\n",
       "      <td>1984</td>\n",
       "      <td>31</td>\n",
       "      <td>0.0</td>\n",
       "      <td>1</td>\n",
       "      <td>0.380</td>\n",
       "      <td>1</td>\n",
       "      <td>18.0</td>\n",
       "      <td>1</td>\n",
       "      <td>1</td>\n",
       "      <td>0</td>\n",
       "      <td>1</td>\n",
       "      <td>0</td>\n",
       "      <td>0</td>\n",
       "      <td>0</td>\n",
       "    </tr>\n",
       "    <tr>\n",
       "      <th>15068.0</th>\n",
       "      <td>0</td>\n",
       "      <td>1984</td>\n",
       "      <td>48</td>\n",
       "      <td>0.0</td>\n",
       "      <td>1</td>\n",
       "      <td>0.120</td>\n",
       "      <td>0</td>\n",
       "      <td>9.0</td>\n",
       "      <td>0</td>\n",
       "      <td>1</td>\n",
       "      <td>1</td>\n",
       "      <td>0</td>\n",
       "      <td>0</td>\n",
       "      <td>4</td>\n",
       "      <td>0</td>\n",
       "    </tr>\n",
       "    <tr>\n",
       "      <th>14330.0</th>\n",
       "      <td>1</td>\n",
       "      <td>1984</td>\n",
       "      <td>26</td>\n",
       "      <td>0.0</td>\n",
       "      <td>1</td>\n",
       "      <td>0.117</td>\n",
       "      <td>0</td>\n",
       "      <td>10.5</td>\n",
       "      <td>0</td>\n",
       "      <td>1</td>\n",
       "      <td>0</td>\n",
       "      <td>1</td>\n",
       "      <td>0</td>\n",
       "      <td>0</td>\n",
       "      <td>0</td>\n",
       "    </tr>\n",
       "    <tr>\n",
       "      <th>59703.0</th>\n",
       "      <td>0</td>\n",
       "      <td>1984</td>\n",
       "      <td>29</td>\n",
       "      <td>0.0</td>\n",
       "      <td>1</td>\n",
       "      <td>0.180</td>\n",
       "      <td>1</td>\n",
       "      <td>18.0</td>\n",
       "      <td>1</td>\n",
       "      <td>1</td>\n",
       "      <td>1</td>\n",
       "      <td>0</td>\n",
       "      <td>0</td>\n",
       "      <td>3</td>\n",
       "      <td>0</td>\n",
       "    </tr>\n",
       "  </tbody>\n",
       "</table>\n",
       "</div>"
      ],
      "text/plain": [
       "         FEMALE  YEAR  AGE  HANDDUM  WORKING  HHNINC  HHKIDS  EDUC  MARRIED  \\\n",
       "id                                                                            \n",
       "90513.0       1  1984   31      0.0        0   0.155       1  10.5        1   \n",
       "47348.0       0  1984   31      0.0        1   0.380       1  18.0        1   \n",
       "15068.0       0  1984   48      0.0        1   0.120       0   9.0        0   \n",
       "14330.0       1  1984   26      0.0        1   0.117       0  10.5        0   \n",
       "59703.0       0  1984   29      0.0        1   0.180       1  18.0        1   \n",
       "\n",
       "         WORKING.1  BLUEC  WHITEC  SELF  DOCVIS  HOSPVIS  \n",
       "id                                                        \n",
       "90513.0          0      0       0     0       0        0  \n",
       "47348.0          1      0       1     0       0        0  \n",
       "15068.0          1      1       0     0       4        0  \n",
       "14330.0          1      0       1     0       0        0  \n",
       "59703.0          1      1       0     0       3        0  "
      ]
     },
     "execution_count": 60,
     "metadata": {},
     "output_type": "execute_result"
    }
   ],
   "source": [
    "#SAMPLE ANSWER\n",
    "\n",
    "sample_records_anon = pd.read_csv(\"sample_records_anon.csv\", index_col='pseudo_id')\n",
    "\n",
    "def reid(anon_id, coeff): # The re-identifying function. In the specific example, anon_id = 63231897340 and coeff = [3,10,7].\n",
    "    temp = coeff.copy()  # IMPORTANT: Has to make a copy of the list, otherwise it will change the actual element in it.\n",
    "    temp[-1] = temp[-1] - anon_id\n",
    "    return max(np.roots(temp))\n",
    "\n",
    "sample_records_anon.index = [reid(anon_id, cracked_coeff) for anon_id in sample_records_anon.index.values] # re-identify every pseudo-ID\n",
    "sample_records_anon.index.name = 'id'\n",
    "sample_records_anon.head()"
   ]
  },
  {
   "cell_type": "markdown",
   "metadata": {},
   "source": [
    "## **Step 10 _(action required)_.** Check with your partner that you actually re-identified all the records in `sample_records_anon`! (compare your output of step 9 with **his/her** first output of step 6)"
   ]
  },
  {
   "cell_type": "markdown",
   "metadata": {},
   "source": [
    "### Exercise 1.B (_optional_) | Higher degree polynomials as secret formulas"
   ]
  },
  {
   "cell_type": "markdown",
   "metadata": {},
   "source": [
    "You might think that considering only polynomials of degree 2 is a big constraint, and that reverse engineering an arbitrary function would be much more challenging. However, while cracking an arbitrary function might be a bit harder, using higher degree polynomials already creates issues."
   ]
  },
  {
   "cell_type": "markdown",
   "metadata": {},
   "source": [
    "**Step 1.** Consider the following polynomial: \n",
    "$$f(x) = x^6 - 56 x^5 + 1231 x^4 - 13412 x^3 + 75028 x^2 - 199472 x + 203160.$$\n",
    "Let's define it:"
   ]
  },
  {
   "cell_type": "code",
   "execution_count": 62,
   "metadata": {},
   "outputs": [],
   "source": [
    "def big_poly(x):\n",
    "    a = np.array([1,-56,1231,-13412,75028,-199472,203160])\n",
    "    return np.polyval(a,x)"
   ]
  },
  {
   "cell_type": "markdown",
   "metadata": {},
   "source": [
    "**Step 2 *(action required)*.** Evaluate `big_poly` for ten random inputs of 5-digit positive integers. How big are the numbers you get?"
   ]
  },
  {
   "cell_type": "code",
   "execution_count": 63,
   "metadata": {
    "scrolled": true
   },
   "outputs": [
    {
     "data": {
      "text/plain": [
       "688920"
      ]
     },
     "execution_count": 63,
     "metadata": {},
     "output_type": "execute_result"
    }
   ],
   "source": [
    "big_poly(20)"
   ]
  },
  {
   "cell_type": "markdown",
   "metadata": {},
   "source": [
    "**Step 3 *(action required)*.** Try to evaluate `big_poly` for inputs 2,5,7,12,14,16. What happens? Are we happy with it?"
   ]
  },
  {
   "cell_type": "code",
   "execution_count": 65,
   "metadata": {
    "scrolled": true
   },
   "outputs": [
    {
     "name": "stdout",
     "output_type": "stream",
     "text": [
      "15000\n",
      "15000\n",
      "15000\n",
      "15000\n",
      "15000\n",
      "15000\n"
     ]
    }
   ],
   "source": [
    "for i in [2,5,7,12,14,16]:\n",
    "    print(big_poly(i))"
   ]
  },
  {
   "cell_type": "markdown",
   "metadata": {},
   "source": [
    "**Step 4.** Plot `big_poly` for inputs between 2 and 16 to get a better idea of how the function looks like."
   ]
  },
  {
   "cell_type": "code",
   "execution_count": 66,
   "metadata": {},
   "outputs": [
    {
     "data": {
      "image/png": "[encoded data removed]",
      "text/plain": [
       "<Figure size 432x288 with 1 Axes>"
      ]
     },
     "metadata": {
      "needs_background": "light"
     },
     "output_type": "display_data"
    }
   ],
   "source": [
    "import matplotlib.pyplot as plt\n",
    "xvals = np.arange(2, 17, 0.1)\n",
    "nvals = np.arange(2, 17, 1)\n",
    "plt.plot(xvals, big_poly(xvals), nvals, big_poly(nvals), 'bo');"
   ]
  },
  {
   "cell_type": "markdown",
   "metadata": {},
   "source": [
    "**Step 5 *(action required)*.** Note that the degree of our polynomial is still rather low (degree 6). Given the results you got in the previous steps, do you think that (really) high-degree polynomials would work well as secret formulas? Why?"
   ]
  },
  {
   "cell_type": "markdown",
   "metadata": {},
   "source": [
    "_Your answer here._"
   ]
  },
  {
   "cell_type": "markdown",
   "metadata": {},
   "source": [
    "# 2. Hash functions and lookup tables"
   ]
  },
  {
   "cell_type": "markdown",
   "metadata": {},
   "source": [
    "### Exercise 2.A | Breaking a dataset anonymized with hash functions\n",
    "In this exercise, you will attack a dataset that has been pseudonymized *without* salt, but using a \"secret\" hash function. You will use a technique seen in the class to break the anonymity of the data, namely a lookup table.\n",
    "\n",
    "The following dataset (`exercice_2_a_anonymized_dataset.csv`) has been anonymized with an unknown hash function in the `hashlib` library in Python. The first step is to figure which hash function was used to encode this dataset."
   ]
  },
  {
   "cell_type": "markdown",
   "metadata": {},
   "source": [
    "#### Import the dataset"
   ]
  },
  {
   "cell_type": "code",
   "execution_count": 67,
   "metadata": {},
   "outputs": [],
   "source": [
    "import hashlib\n",
    "import numpy as np\n",
    "import pandas as pd"
   ]
  },
  {
   "cell_type": "code",
   "execution_count": 68,
   "metadata": {},
   "outputs": [
    {
     "data": {
      "text/html": [
       "<div>\n",
       "<style scoped>\n",
       "    .dataframe tbody tr th:only-of-type {\n",
       "        vertical-align: middle;\n",
       "    }\n",
       "\n",
       "    .dataframe tbody tr th {\n",
       "        vertical-align: top;\n",
       "    }\n",
       "\n",
       "    .dataframe thead th {\n",
       "        text-align: right;\n",
       "    }\n",
       "</style>\n",
       "<table border=\"1\" class=\"dataframe\">\n",
       "  <thead>\n",
       "    <tr style=\"text-align: right;\">\n",
       "      <th></th>\n",
       "      <th>id</th>\n",
       "      <th>person's disease</th>\n",
       "    </tr>\n",
       "  </thead>\n",
       "  <tbody>\n",
       "    <tr>\n",
       "      <th>0</th>\n",
       "      <td>72009f37ff0adaddb667b82c95513b83420fdc4065b1f0...</td>\n",
       "      <td>multiple sclerosis</td>\n",
       "    </tr>\n",
       "    <tr>\n",
       "      <th>1</th>\n",
       "      <td>1b9218aeb66c4941bba48b6fd3b57bab5fe89c5ea48c33...</td>\n",
       "      <td>HIV/AIDS</td>\n",
       "    </tr>\n",
       "    <tr>\n",
       "      <th>2</th>\n",
       "      <td>675314a2fcc78db1adf2693e931d28d990abfff48b1c05...</td>\n",
       "      <td>Alzheimer's disease</td>\n",
       "    </tr>\n",
       "    <tr>\n",
       "      <th>3</th>\n",
       "      <td>60e2de85f4b637d39c1084cac364f4075285f91c18e5fa...</td>\n",
       "      <td>Alzheimer's disease</td>\n",
       "    </tr>\n",
       "    <tr>\n",
       "      <th>4</th>\n",
       "      <td>6dfbd888ae9600503a34f89efa4d8b67dd4a4f304d0ef6...</td>\n",
       "      <td>schizophrenia</td>\n",
       "    </tr>\n",
       "  </tbody>\n",
       "</table>\n",
       "</div>"
      ],
      "text/plain": [
       "                                                  id     person's disease\n",
       "0  72009f37ff0adaddb667b82c95513b83420fdc4065b1f0...   multiple sclerosis\n",
       "1  1b9218aeb66c4941bba48b6fd3b57bab5fe89c5ea48c33...             HIV/AIDS\n",
       "2  675314a2fcc78db1adf2693e931d28d990abfff48b1c05...  Alzheimer's disease\n",
       "3  60e2de85f4b637d39c1084cac364f4075285f91c18e5fa...  Alzheimer's disease\n",
       "4  6dfbd888ae9600503a34f89efa4d8b67dd4a4f304d0ef6...        schizophrenia"
      ]
     },
     "execution_count": 68,
     "metadata": {},
     "output_type": "execute_result"
    }
   ],
   "source": [
    "# Import the dataset\n",
    "anonymized = pd.read_csv(\"exercice_2_a_anonymized_dataset.csv\") \n",
    "\n",
    "# Have a look\n",
    "anonymized.head()"
   ]
  },
  {
   "cell_type": "markdown",
   "metadata": {},
   "source": [
    "#### Creating lookup tables\n",
    "**Step 1 *(action required)*.** Guess which hash function has been used to hash the original IDs.\n",
    "\n",
    "_(Hint: look at the [hashlib documentation](https://docs.python.org/3/library/hashlib.html) and compare the available hash functions with the form of the pseudonyms in the datasets)_"
   ]
  },
  {
   "cell_type": "code",
   "execution_count": 75,
   "metadata": {},
   "outputs": [
    {
     "name": "stdout",
     "output_type": "stream",
     "text": [
      "56\n"
     ]
    }
   ],
   "source": [
    "print(len(anonymized.loc[0].id))\n",
    "\n",
    "#SHA224"
   ]
  },
  {
   "cell_type": "markdown",
   "metadata": {},
   "source": [
    "**Step 2 *(action required)*.** Now you know which hash function has been used. Suppose you have somehow discovered that the original IDs were 5-digit numbers (from 00000 to 99999). Create a function `create_lookup_table` that takes the length of the original ids as parameter and returns the complete lookup table. This lookup table is a _dictionary_ where the values are the original IDs and the keys are their hash, hence allowing to recover the corresponding ID from the hashed ID.\n",
    "\n",
    "We will later use the lookup table to bruteforce the hashed ids. \n",
    "\n",
    "_Hints:_\n",
    "\n",
    "1. To fill an integer with leading zeroes, you can use the method `zfill` of strings.\n",
    "2. To hash a string `s` with a hash function `hf`, you can do: `hashlib.hf(s.encode()).hexdigest()`."
   ]
  },
  {
   "cell_type": "code",
   "execution_count": 85,
   "metadata": {},
   "outputs": [],
   "source": [
    "def create_lookup_table(N):\n",
    "    result = {}\n",
    "    for i in range(100000):\n",
    "        result[hashlib.sha224(bytes(str(i).zfill(5), encoding='utf-8')).hexdigest()] = str(i)\n",
    "    return result\n",
    "        "
   ]
  },
  {
   "cell_type": "code",
   "execution_count": 86,
   "metadata": {},
   "outputs": [],
   "source": [
    "# create the table here\n",
    "my_lookup_table = create_lookup_table(5)"
   ]
  },
  {
   "cell_type": "markdown",
   "metadata": {},
   "source": [
    "#### Using the lookup table\n",
    "**Step 3 *(action required)*.** Let us now check that your intuition from **Step 1** is correct. For the lookup table you created, calculate the percentage of the hashed ids in the dataset that are also in this table. Create a function `intersection_size` that takes as parameters the dataset and the lookup table and returns this percentage. If you correctly identified this number, this function should thus return 100."
   ]
  },
  {
   "cell_type": "code",
   "execution_count": 94,
   "metadata": {},
   "outputs": [
    {
     "data": {
      "text/plain": [
       "1.0"
      ]
     },
     "execution_count": 94,
     "metadata": {},
     "output_type": "execute_result"
    }
   ],
   "source": [
    "def intersection_size(dataset,lookup_table):\n",
    "    count = 0\n",
    "    for item in dataset['id'].tolist():\n",
    "        if item in lookup_table:\n",
    "            count += 1\n",
    "    return float(count) / float(len(dataset.index))\n",
    "\n",
    "intersection_size(anonymized,create_lookup_table(5))"
   ]
  },
  {
   "cell_type": "markdown",
   "metadata": {},
   "source": [
    "#### Reversing the hashed id\n",
    "**Step 4 *(action required)*.** Now that you know which lookup table to use, use it to reverse the hashed ids. Create a function `break_dataset` that takes the dataset and the lookup table as argument and outputs the deanonymized dataset."
   ]
  },
  {
   "cell_type": "code",
   "execution_count": null,
   "metadata": {
    "scrolled": true
   },
   "outputs": [],
   "source": [
    "def break_dataset(dataset,lookup_table):\n",
    "    # YOUR CODE HERE\n",
    "    pass\n",
    "\n",
    "\n",
    "break_dataset(anonymized,create_lookup_table(5))"
   ]
  },
  {
   "cell_type": "markdown",
   "metadata": {},
   "source": [
    "### Exercise 2.B (optional) | Breaking a dataset anonymized with md5 and short salt\n",
    "\n",
    "In the last section, you have successfully re-identify a dataset that was protected with only a hash function. Because this is not immune to bruteforcing (as you have seen by yourself), a good practice is to salt it. Salting consists in adding a (long) string of characters (initially selected at random, but the same for each record) at some fixed point in the input, so that an attacker must test all possible salts in order to build a lookup table.\n",
    "\n",
    "The following dataset has been anonymized with the md5 hash function in the `hashlib` library in Python and a short salt (of length 1, i.e. we added one character from 0 to 9) added at some fixed position in the initial id. You are going to adapt the previous method to re-identify/de-anonymize the dataset despite the short salt."
   ]
  },
  {
   "cell_type": "markdown",
   "metadata": {},
   "source": [
    "#### Import the dataset"
   ]
  },
  {
   "cell_type": "code",
   "execution_count": null,
   "metadata": {},
   "outputs": [],
   "source": [
    "# Import the dataset\n",
    "anonymized = pd.read_csv(\"exercice_2_b_anonymized_dataset.csv\") \n",
    "\n",
    "# Have a look\n",
    "anonymized.head()"
   ]
  },
  {
   "cell_type": "markdown",
   "metadata": {},
   "source": [
    "#### Creating the lookup table\n",
    "**Step 1 *(action required)*.** Breaking a salted MD5 hash is more difficult because of the increased number of combinations, but conceptually the method is the same as earlier. You will have to create a lookup table for each possible position of the salt (from 0 to 5) and each possible value of the salt (an integer between 0 and 9 included). Create a function `create_lookup_table` that takes the length of the ids, the position of the salt and the salt itself as parameters and returns the lookup table corresponding to this salt position and salt value. "
   ]
  },
  {
   "cell_type": "code",
   "execution_count": null,
   "metadata": {},
   "outputs": [],
   "source": [
    "def create_lookup_table(N,position,salt):\n",
    "\n",
    "    # YOUR CODE HERE\n",
    "    pass"
   ]
  },
  {
   "cell_type": "markdown",
   "metadata": {},
   "source": [
    "#### Finding the correct table\n",
    "**Step 2 *(action required)*.** Same as before, find the table that contains 100% of the hashed ids. This indirectly gives you the position of the salt and its value. Reuse the `intersection_size` function of exercice 2.a and the previous function to define a function `find_lookup_table` taking the anonymized dataset as parameters and returning the correct lookup table."
   ]
  },
  {
   "cell_type": "code",
   "execution_count": null,
   "metadata": {},
   "outputs": [],
   "source": [
    "def find_lookup_table(dataset):\n",
    "    ## YOUR CODE HERE\n",
    "    pass\n",
    "\n",
    "table = find_lookup_table(anonymized)"
   ]
  },
  {
   "cell_type": "markdown",
   "metadata": {},
   "source": [
    "#### Using the lookup table\n",
    "**Step 3 *(action required)*.** Now that you have the correct lookup table, use it to reverse the salted hashed ids as before. Use the `break_dataset` function defined in exercice 2.a and the lookup table of the previous question to deanonymize the dataset."
   ]
  },
  {
   "cell_type": "code",
   "execution_count": null,
   "metadata": {
    "scrolled": true
   },
   "outputs": [],
   "source": [
    "## YOUR CODE HERE"
   ]
  },
  {
   "cell_type": "markdown",
   "metadata": {},
   "source": [
    "# 3. Hashing with long salt (optional)"
   ]
  },
  {
   "cell_type": "markdown",
   "metadata": {},
   "source": [
    "### Exercise 3 (optional) | Breaking dataset anonymized with md5 and long salt\n",
    "In real life situation, properly pseudonymized datasets use long salts of unknown length. \n",
    "\n",
    "Let's assume that you are in the ideal attack situation: \n",
    "- you know the length of the salt (a standard string of 255 lowercase letters here)\n",
    "- you know the hash function (md5)\n",
    "- you know a couple of tuples (real id, hashed id)\n",
    "- you know the position of the salt (appended at the end of the real id) \n",
    "\n",
    "Note that in general it might be hard for an attacker to gain this background information. However, a fundamental principle in computer security is that _security through obscurity_ is not a robust approach (see also [Kerckhoffs's principle](https://en.wikipedia.org/wiki/Kerckhoffs%27s_principle)).\n",
    "\n",
    "The only thing that you don't know is the salt itself. Adapting what has been done in exercice 2 and knowing all this external information to reduce the searching space, find the salt to deanonymize the dataset."
   ]
  },
  {
   "cell_type": "markdown",
   "metadata": {},
   "source": [
    "#### Import the dataset"
   ]
  },
  {
   "cell_type": "code",
   "execution_count": null,
   "metadata": {},
   "outputs": [],
   "source": [
    "# Import the dataset\n",
    "anonymized = pd.read_csv(\"exercice_3_anonymized_dataset.csv\") \n",
    "\n",
    "# Have a look\n",
    "anonymized.head()"
   ]
  },
  {
   "cell_type": "markdown",
   "metadata": {},
   "source": [
    "#### Finding the salt\n",
    "**Step 1 *(action required)*.** Create a function `find_salt` that takes the dataset, the id_known and the corresponding_hashed_ids as parameters and returns the salt. Run it to get the salt."
   ]
  },
  {
   "cell_type": "code",
   "execution_count": null,
   "metadata": {},
   "outputs": [],
   "source": [
    "# External knowledge\n",
    "id_known = [75721, 80184, 19864, 76699, 92991]\n",
    "corresponding_hashed_ids = ['4970daee1c3236a77bf045577f0ee62b',\n",
    "        '4f8bcc5db2565c5a96d4452ed9edbaca',\n",
    "        'e9a579e5e070bc9a339c0b1819088628',\n",
    "        '61594b8066fbb7fab77bc53e098e5f7c',\n",
    "        '484a013245c1929c8337c7cddb745ba0']\n",
    "\n",
    "\n",
    "def find_salt(dataset,id_known,corresponding_hashed_ids):\n",
    "    for salt in itertools.product(string.ascii_lowercase,repeat=255):  \n",
    "\n",
    "        ## YOUR CODE HERE\n",
    "        pass\n",
    "\n",
    "salt = find_salt(anonymized,id_known,corresponding_hashed_ids)"
   ]
  },
  {
   "cell_type": "markdown",
   "metadata": {},
   "source": [
    "**Step 2 *(action required)*.** How long is it taking? How many strings does your code have to try for the salt? Do you think you will ever find the salt?"
   ]
  },
  {
   "cell_type": "markdown",
   "metadata": {},
   "source": [
    "_Your answer here._"
   ]
  },
  {
   "cell_type": "markdown",
   "metadata": {},
   "source": [
    "## Exercise 4 | k-anonymizing a dataset"
   ]
  },
  {
   "cell_type": "markdown",
   "metadata": {},
   "source": [
    "In this exercise, you will take a (correctly) pseudonymised dataset, and $k-$anonymize it to protect against re-identification attacks based on quasi-identifiers. You will then perform an attack to show the limits of $k-$anonymity.\n",
    "\n",
    "In the dataset we consider, the meaning of each attribute is:\n",
    "\n",
    "`id` = hashed (pseudonymous) id <br>\n",
    "`gender` = male or female <br>\n",
    "`education` = the level of education, 0 = highschools, 1 = bachelors, 2 = masters, 3 = PhD<br>\n",
    "`age` = age in years<br>\n",
    "`vote` = Conservative, Labour or other<br>\n",
    "\n",
    "**Take a moment to think about each attribute and figure if it is a quasi-identifier or sensitive information.**"
   ]
  },
  {
   "cell_type": "markdown",
   "metadata": {},
   "source": [
    "### Loading the data"
   ]
  },
  {
   "cell_type": "code",
   "execution_count": null,
   "metadata": {},
   "outputs": [],
   "source": [
    "import pandas as pd\n",
    "import numpy as np\n",
    "import hashlib\n",
    "import random\n",
    "import matplotlib.pyplot as plt\n",
    "import collections"
   ]
  },
  {
   "cell_type": "code",
   "execution_count": null,
   "metadata": {},
   "outputs": [],
   "source": [
    "dataset1  = pd.read_csv(\"exercise4.csv\")\n",
    "dataset1.head()"
   ]
  },
  {
   "cell_type": "markdown",
   "metadata": {},
   "source": [
    "### 4.A | Anonymizing the dataset\n",
    "\n",
    "Firstly, let's inspect the dataset and compute the equivalence classes. Then, we will perform the $k-$anonymization by removing rows belonging to small equivalence classes (this works because our dataset is not very rich, and a lot of records are naturally part of a large equivalence class).\n",
    "\n",
    "#### 4.A.i | Inspecting the equivalence classes\n",
    "\n",
    "**Step 1 *(action required)*.** We want to take a look at the equivalence classes and their number of elements in order to k-anonymize the dataset. \n",
    "\n",
    "Start by defining a function `size_equivalence_classes` that takes a dataset as parameter and returns the list of the sizes of its equivalence classes.\n",
    "\n",
    "_Hint: Use the `groupby` function._"
   ]
  },
  {
   "cell_type": "code",
   "execution_count": null,
   "metadata": {},
   "outputs": [],
   "source": [
    "def size_equivalence_classes(dataset):\n",
    "    '''Returns the list of sizes of the equivalence classes in the dataset.'''\n",
    "    \n",
    "    # YOUR CODE HERE\n",
    "    pass"
   ]
  },
  {
   "cell_type": "markdown",
   "metadata": {},
   "source": [
    "**Step 2.** Now let's plot the distribution of equivalence classes as a histogram."
   ]
  },
  {
   "cell_type": "code",
   "execution_count": null,
   "metadata": {},
   "outputs": [],
   "source": [
    "# Run this cell to see the results of the plot\n",
    "\n",
    "# compute the size of equivalence classes\n",
    "nb = size_equivalence_classes(dataset1)\n",
    "\n",
    "# plot a histogram\n",
    "plt.figure(figsize=(15,10))\n",
    "a = plt.hist(nb, bins=np.arange(1, max(nb)+2, 1), align='left', width=.9)\n",
    "print(a[0])\n",
    "plt.xlabel(\"Size of Equivalence Classes\") # with nice axis and title!\n",
    "plt.ylabel(\"Number of Equivalence Classes\")\n",
    "plt.title(\"Number of Equivalence Classes by Size of Equivalence Classes\")\n",
    "plt.xticks(range(1, max(nb)+1)); # for ticks on the x axis to go from 1 to max"
   ]
  },
  {
   "cell_type": "markdown",
   "metadata": {},
   "source": [
    "#### 4.A.ii | Removing equivalence classes\n",
    "\n",
    "Suppose that we want to 4-anonymize this dataset by _only removing rows_ (no generalisation, column suppression, etc). What is the minimum number of rows that you would need to remove in order to assure 4-anonymity ? \n",
    "\n",
    "**Step 3 *(action required)*.** Using the previous function to create the dictionary of the number of equivalence classes, define a function `nb_to_remove` that takes k and the dataset as parameters and returns the minimum number of rows to remove in order to assure k-anonymity of the dataset."
   ]
  },
  {
   "cell_type": "code",
   "execution_count": null,
   "metadata": {},
   "outputs": [],
   "source": [
    "def nb_to_remove(k,dataset):\n",
    "    \n",
    "    lengths = size_equivalence_classes(dataset)\n",
    "\n",
    "    # YOUR CODE HERE\n",
    "    pass\n",
    "    \n",
    "\n",
    "\n",
    "nb_to_remove(4,dataset1)"
   ]
  },
  {
   "cell_type": "markdown",
   "metadata": {},
   "source": [
    "Did you obtain a minimum number of rows of 156?\n",
    "\n",
    "Now we want to find _which rows_ need to be removed in order to achieve a given level of anonymity k.\n",
    "\n",
    "**Step 4 *(action required)*.** Define a function `to_be_removed` that takes k and the dataset as parameters and returns the list of rows to remove. (You should check that the length of this list is the same as the result of the previous question)\n",
    "\n",
    "_Hint: use `groupby` again, and the `.index` attribute of a `pandas.DataFrame` to obtain recods._"
   ]
  },
  {
   "cell_type": "code",
   "execution_count": null,
   "metadata": {},
   "outputs": [],
   "source": [
    "def to_be_removed(k,dataset):\n",
    "    \n",
    "    result = []\n",
    "    \n",
    "    ## YOUR CODE HERE\n",
    "    pass"
   ]
  },
  {
   "cell_type": "markdown",
   "metadata": {},
   "source": [
    "**Step 5 *(action required)*.** It is now time to actually remove these rows. Define a function `remove_rows` taking as parameters k and the dataset and returning the k-anonymized dataset, that uses `to_be_removed` to identify the rows to remove. In order to keep the original one intact, work on a copy of it.\n",
    "\n",
    "(Hint: the `drop` method of a pandas DataFrame is quick enough for a small dataset like this one)"
   ]
  },
  {
   "cell_type": "code",
   "execution_count": null,
   "metadata": {},
   "outputs": [],
   "source": [
    "def remove_rows(k,dataset):\n",
    "    \n",
    "    result = dataset.copy()\n",
    "    \n",
    "    # YOUR CODE HERE\n",
    "    pass"
   ]
  },
  {
   "cell_type": "markdown",
   "metadata": {},
   "source": [
    "**Step 6 _(action required)_** Check that your code works by plotting the size of the equivalence classes of a k_anonymized dataset (you choose the `k`)."
   ]
  },
  {
   "cell_type": "code",
   "execution_count": null,
   "metadata": {},
   "outputs": [],
   "source": [
    "k =  ### YOUR CHOICE\n",
    "\n",
    "k_anonymized = remove_rows(k,dataset1)"
   ]
  },
  {
   "cell_type": "code",
   "execution_count": null,
   "metadata": {},
   "outputs": [],
   "source": [
    "# Run this cell (again) to see the results of the plot\n",
    "\n",
    "# compute the size of equivalence classes\n",
    "nb = size_equivalence_classes(k_anonymized)\n",
    "\n",
    "# plot a histogram\n",
    "plt.figure(figsize=(15,10))\n",
    "a = plt.hist(nb, bins=np.arange(1, max(nb)+2, 1), align='left', width=.9)\n",
    "plt.xlabel(\"Size of Equivalence Classes\") # with nice axis and title!\n",
    "plt.ylabel(\"Number of Equivalence Classes\")\n",
    "plt.title(\"Number of Equivalence Classes by Size of Equivalence Classes\")\n",
    "plt.xticks(range(1, max(nb)+1)); # for ticks on the x axis to go from 1 to max"
   ]
  },
  {
   "cell_type": "markdown",
   "metadata": {},
   "source": [
    "### 4.B | Homogeneity attacks\n",
    "\n",
    "We want to check whether a k-anonymized dataset is vulnerable to any _homogeneity attack_ (that is the case when at least one of the equivalence classes has the same sensitive attribute value accross its rows). This will be used to check the dataset you just 4-anonymized in the previous section.\n",
    "\n",
    "**Step 1 *(action required)*.** Define a function `homogeneity_attackable` that takes the anonymized dataset as parameter and return a boolean indicating whether an homogeneity attack is possible or not on the anonymized dataset. "
   ]
  },
  {
   "cell_type": "code",
   "execution_count": null,
   "metadata": {},
   "outputs": [],
   "source": [
    "def homogeneity_attackable(dataset):\n",
    "    # YOUR CODE HERE\n",
    "    pass"
   ]
  },
  {
   "cell_type": "markdown",
   "metadata": {},
   "source": [
    "**Step 2 *(action required)*.** The value of k chosen earlier directly impacts the level of protection against homogeneity attacks. You can play with this function and the `remove_rows` function when you are done with exercise 2 to check it yourself. What is the smallest `k` for which the dataset is safe? How many records are left after that?"
   ]
  },
  {
   "cell_type": "code",
   "execution_count": null,
   "metadata": {},
   "outputs": [],
   "source": [
    "k =  ### YOUR CHOICE HERE\n",
    "\n",
    "k_anonymized = remove_rows(k,dataset1)\n",
    "\n",
    "print('records left:', len((k_anonymized)))\n",
    "\n",
    "homogeneity_attackable(k_anonymized)"
   ]
  },
  {
   "cell_type": "markdown",
   "metadata": {},
   "source": [
    "## Exercise 5 | Semantic attacks"
   ]
  },
  {
   "cell_type": "markdown",
   "metadata": {},
   "source": [
    "In this exercise, we are providing you with another dataset that has been properly pseudonymized and 3-anonymized. We want to make sure that a semantic attack is not possible before publishing it. \n",
    "\n",
    "#### Load the dataset"
   ]
  },
  {
   "cell_type": "code",
   "execution_count": null,
   "metadata": {},
   "outputs": [],
   "source": [
    "dataset2 = pd.read_csv('exercise5.csv')\n",
    "dataset2.head()"
   ]
  },
  {
   "cell_type": "markdown",
   "metadata": {},
   "source": [
    "#### A function to detect semantic similarity \n",
    "\n",
    "A _semantic attack_ uses real-world knowledge of the private attribute to learn something about users in the dataset. If all people in an equivalence class have the word `cancer` in their `disease` field, then clearly the attacker can learn something about the people in this class.\n",
    "\n",
    "**Step 1.** We define a function `too_close` that takes a list of strings (typically diseases names here) `string_list` and a list of stop words (i.e. words that do not give any information, such as 'disease' in this case) `stop_words` as parameters, and returns a boolean indicating whether all the strings in `string_list` all share at least one word, and that word is not in the `stop_word` list. For instance, if `string_list = [\"skin cancer\",\"prostate cancer\"]` and `stop_words = ['disease']` should return True, but if `stop_words=['cancer']`, it should return False. For simplicity, the function is already defined, but you should read the code and understand how it works (it uses [sets](https://snakify.org/en/lessons/sets/))."
   ]
  },
  {
   "cell_type": "code",
   "execution_count": null,
   "metadata": {},
   "outputs": [],
   "source": [
    "def too_close(string_list,stop_words):\n",
    "    '''Returns True if all strings in string_list share a word, that is not part of stop words'''\n",
    "    \n",
    "    # defensive programming: ensure correct input format (can be passed any iterable)\n",
    "    string_list = list(string_list)\n",
    "    stop_words  = list(stop_words)\n",
    "    \n",
    "    if not string_list:\n",
    "        return False # no string in the list!\n",
    "\n",
    "    # create the initial bag of shared words from the first string\n",
    "    words = set(string_list[0].lower().split())\n",
    "    \n",
    "    # remove all stop words from this list (they can't be part of the intersection)\n",
    "    words.difference_update( set(stop_words) )\n",
    "        \n",
    "    for s in string_list[1:]:\n",
    "        # compute the intersection of words shared by previous strings and the string s\n",
    "        words.intersection_update(set(s.lower().split()))\n",
    "    \n",
    "    # do all strings share at least one non-stop word?\n",
    "    return len(words) > 0"
   ]
  },
  {
   "cell_type": "code",
   "execution_count": null,
   "metadata": {},
   "outputs": [],
   "source": [
    "# test 1\n",
    "too_close(['skin cancer', 'prostate cancer'], ['disease'])"
   ]
  },
  {
   "cell_type": "code",
   "execution_count": null,
   "metadata": {},
   "outputs": [],
   "source": [
    "# test 2\n",
    "too_close(['skin cancer', 'prostate cancer'], ['cancer'])"
   ]
  },
  {
   "cell_type": "markdown",
   "metadata": {},
   "source": [
    "**Step 2 *(action required)*.** Now define a function `semantically_attackable` that takes as a parameter an anonymized dataset and returns a boolean indicating whether or not that dataset is semantically attackable. Treat the word `disease` as a stop word (as all people in the dataset have a disease, it is not informative).\n",
    "\n",
    "_Hint: adapt exercise 4.B._"
   ]
  },
  {
   "cell_type": "code",
   "execution_count": null,
   "metadata": {},
   "outputs": [],
   "source": [
    "def semantically_attackable(dataset):\n",
    "    \n",
    "    # YOUR CODE HERE\n",
    "    pass"
   ]
  },
  {
   "cell_type": "markdown",
   "metadata": {},
   "source": [
    "#### Detecting vulnerability to semantic attacks\n",
    "**Step 3.** Use this function to check whether or not this dataset is semantically attackable. Is it possible to perform homogeneity attack on this dataset ?"
   ]
  },
  {
   "cell_type": "code",
   "execution_count": null,
   "metadata": {},
   "outputs": [],
   "source": [
    "homogeneity_attackable(dataset2)"
   ]
  },
  {
   "cell_type": "code",
   "execution_count": null,
   "metadata": {},
   "outputs": [],
   "source": [
    "semantically_attackable(dataset2)"
   ]
  },
  {
   "cell_type": "markdown",
   "metadata": {},
   "source": [
    "**Step 4 *(action required)*.** What do you think about the method we used to check whether the elements of an equivalence class are too close to each other? Does it generalise well to other problems? Is it too restrictive/not enough restrictive?"
   ]
  },
  {
   "cell_type": "markdown",
   "metadata": {},
   "source": [
    "_Your answer here._"
   ]
  },
  {
   "cell_type": "markdown",
   "metadata": {},
   "source": [
    "## Exercise 4 - second round (optional)"
   ]
  },
  {
   "cell_type": "markdown",
   "metadata": {},
   "source": [
    "#### 4.A.iii | Analysing the k-anonymized dataset\n",
    "\n",
    "When k-anonymizing datasets it is important to keep in mind the use case and the utility of your data. If you anonymize it too harshly, the level of privacy protection is indeed better but the usability of the data might really go down. \n",
    "\n",
    "**Step 1.** Lets take a look back at the dataset you 4-anonymized earlier."
   ]
  },
  {
   "cell_type": "code",
   "execution_count": null,
   "metadata": {},
   "outputs": [],
   "source": [
    "remove_rows(4,dataset1).head()"
   ]
  },
  {
   "cell_type": "markdown",
   "metadata": {},
   "source": [
    "**Step 2.** Use the function value_counts in pandas and the plot method to check the result of the election before and after anonymization."
   ]
  },
  {
   "cell_type": "code",
   "execution_count": null,
   "metadata": {},
   "outputs": [],
   "source": [
    "# YOUR CODE HERE"
   ]
  },
  {
   "cell_type": "code",
   "execution_count": null,
   "metadata": {},
   "outputs": [],
   "source": [
    "# YOUR CODE HERE"
   ]
  },
  {
   "cell_type": "markdown",
   "metadata": {},
   "source": [
    "**Step 3 *(action required)*.** What happens? Can you imagine some use cases where the k-anonymization we employed might be an issue for analysts who have access only to the k-anonymized dataset?"
   ]
  },
  {
   "cell_type": "markdown",
   "metadata": {},
   "source": [
    "_Your answer here._"
   ]
  }
 ],
 "metadata": {
  "kernelspec": {
   "display_name": "Python 3",
   "language": "python",
   "name": "python3"
  },
  "language_info": {
   "codemirror_mode": {
    "name": "ipython",
    "version": 3
   },
   "file_extension": ".py",
   "mimetype": "text/x-python",
   "name": "python",
   "nbconvert_exporter": "python",
   "pygments_lexer": "ipython3",
   "version": "3.8.3"
  }
 },
 "nbformat": 4,
 "nbformat_minor": 4
}
